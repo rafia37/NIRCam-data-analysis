{
 "cells": [
  {
   "cell_type": "code",
   "execution_count": 46,
   "metadata": {
    "collapsed": true
   },
   "outputs": [],
   "source": [
    "from astropy.io import fits\n",
    "from astropy.table import Table, Column, hstack, vstack\n",
    "import pdb, glob\n",
    "import numpy as np\n",
    "import rafias_lib as rl\n",
    "import matplotlib.pyplot as plt\n",
    "%matplotlib inline\n",
    "plt.rcParams['figure.figsize'] = (10.0, 8.0)"
   ]
  },
  {
   "cell_type": "markdown",
   "metadata": {},
   "source": [
    "## General"
   ]
  },
  {
   "cell_type": "code",
   "execution_count": 47,
   "metadata": {
    "collapsed": true
   },
   "outputs": [],
   "source": [
    "test = ['clr1', 'clr2', 'clr3', 'clr4', 'clr5', 'clr6', 'full1', 'full2', 'full3', 'full4', 'full5', 'fullQ', \n",
    "        'sub320', 'sub640']"
   ]
  },
  {
   "cell_type": "markdown",
   "metadata": {},
   "source": [
    "## Clearsubs"
   ]
  },
  {
   "cell_type": "code",
   "execution_count": 48,
   "metadata": {
    "collapsed": true
   },
   "outputs": [],
   "source": [
    "a1_files_clr = []\n",
    "for n in ['1', '2', '3', '4', '5', '6']:\n",
    "    a1_files_clr.append(np.sort(glob.glob('/data1/tso_analysis/all_tso_cv3/raw_separated_MMM'\n",
    "                              '/NRCN821CLRSUB'+n+'*_481_SE_2016-*/*.slp.fits')))"
   ]
  },
  {
   "cell_type": "code",
   "execution_count": 49,
   "metadata": {
    "collapsed": true
   },
   "outputs": [],
   "source": [
    "b4_files_clr = []\n",
    "for n in ['1', '2', '3', '4', '5', '6']:\n",
    "    b4_files_clr.append(np.sort(glob.glob('/data1/tso_analysis/all_tso_cv3/raw_separated_MMM'\n",
    "                              '/NRCN821CLRSUB'+n+'*_489_SE_2016-*/*.slp.fits')))"
   ]
  },
  {
   "cell_type": "code",
   "execution_count": 50,
   "metadata": {
    "collapsed": true
   },
   "outputs": [],
   "source": [
    "a1_centers_clr = []\n",
    "for ds in a1_files_clr:\n",
    "    a1_centers_clr.append(rl.gen_center_g2d(164,161,5,3500,2,2,0,ds))"
   ]
  },
  {
   "cell_type": "code",
   "execution_count": 51,
   "metadata": {
    "collapsed": true
   },
   "outputs": [],
   "source": [
    "b4_centers_clr = []\n",
    "for ds in b4_files_clr:\n",
    "    b4_centers_clr.append(rl.gen_center_g2d(160,155,5,4500,2,2,0,ds))"
   ]
  },
  {
   "cell_type": "code",
   "execution_count": 52,
   "metadata": {
    "collapsed": true
   },
   "outputs": [],
   "source": [
    "a1_data_clr = []\n",
    "for x in range(1,7):\n",
    "    globals()['a1_data_clr%s' % x] = rl.time_series(a1_centers_clr[x-1][1], a1_centers_clr[x-1][2],\n",
    "                                                    a1_files_clr[x-1], 3, 9, 10)\n",
    "    a1_data_clr.append(globals()['a1_data_clr%s' % x])"
   ]
  },
  {
   "cell_type": "code",
   "execution_count": 53,
   "metadata": {
    "collapsed": true
   },
   "outputs": [],
   "source": [
    "b4_data_clr = []\n",
    "for x in range(1,7):\n",
    "    globals()['b4_data_clr%s' % x] = rl.time_series(b4_centers_clr[x-1][1], b4_centers_clr[x-1][2], \n",
    "                                                    b4_files_clr[x-1], 3, 9, 10)\n",
    "    b4_data_clr.append(globals()['b4_data_clr%s' % x])"
   ]
  },
  {
   "cell_type": "code",
   "execution_count": 54,
   "metadata": {
    "collapsed": true
   },
   "outputs": [],
   "source": [
    "av_data_clr = []\n",
    "for x in range(1,7):\n",
    "    globals()['av_data_clr%s' % x] = (a1_data_clr[x-1]['res_flux']+b4_data_clr[x-1]['res_flux'])/2 \n",
    "    av_data_clr.append(globals()['av_data_clr%s' % x])"
   ]
  },
  {
   "cell_type": "code",
   "execution_count": 55,
   "metadata": {
    "collapsed": false
   },
   "outputs": [
    {
     "data": {
      "text/html": [
       "&lt;Table length=6&gt;\n",
       "<table id=\"table140574177200528\">\n",
       "<thead><tr><th>Test Number</th><th>NGROUP</th><th>Stdev</th></tr></thead>\n",
       "<thead><tr><th>float64</th><th>float64</th><th>float64</th></tr></thead>\n",
       "<tr><td>1.0</td><td>3.0</td><td>2513.05772647</td></tr>\n",
       "<tr><td>2.0</td><td>3.0</td><td>2388.57613272</td></tr>\n",
       "<tr><td>3.0</td><td>3.0</td><td>2374.41464553</td></tr>\n",
       "<tr><td>4.0</td><td>3.0</td><td>2680.91156766</td></tr>\n",
       "<tr><td>5.0</td><td>3.0</td><td>2220.09672255</td></tr>\n",
       "<tr><td>6.0</td><td>3.0</td><td>2331.85451648</td></tr>\n",
       "</table>"
      ],
      "text/plain": [
       "<Table length=6>\n",
       "Test Number  NGROUP     Stdev    \n",
       "  float64   float64    float64   \n",
       "----------- ------- -------------\n",
       "        1.0     3.0 2513.05772647\n",
       "        2.0     3.0 2388.57613272\n",
       "        3.0     3.0 2374.41464553\n",
       "        4.0     3.0 2680.91156766\n",
       "        5.0     3.0 2220.09672255\n",
       "        6.0     3.0 2331.85451648"
      ]
     },
     "execution_count": 55,
     "metadata": {},
     "output_type": "execute_result"
    }
   ],
   "source": [
    "stdev_clr = Table(names = ('Test Number', 'NGROUP', 'Stdev'))\n",
    "for i, files in enumerate(a1_files_clr):\n",
    "    st_dev = np.std(av_data_clr[i][3:]/np.median(av_data_clr[i][3:]))\n",
    "    header = rl.test_image(files[5])[2]\n",
    "    ngroup = header['NGROUP']\n",
    "    stdev_clr.add_row([i+1, ngroup, st_dev*1e6])\n",
    "stdev_clr"
   ]
  },
  {
   "cell_type": "markdown",
   "metadata": {},
   "source": [
    "## Full"
   ]
  },
  {
   "cell_type": "code",
   "execution_count": 56,
   "metadata": {
    "collapsed": true
   },
   "outputs": [],
   "source": [
    "a1_files_full = []\n",
    "for n in ['1', '2', '3', '4', '5', 'Q']:\n",
    "    a1_files_full.append(np.sort(glob.glob('/data1/tso_analysis/all_tso_cv3/raw_separated_MMM/'\n",
    "                              'NRCN821WLP8FULL'+n+'-*_1_481_SE_*/*.red.fits')))"
   ]
  },
  {
   "cell_type": "code",
   "execution_count": 57,
   "metadata": {
    "collapsed": true
   },
   "outputs": [],
   "source": [
    "b4_files_full = []\n",
    "for n in ['1', '2', '3', '4', '5', 'Q']:\n",
    "    b4_files_full.append(np.sort(glob.glob('/data1/tso_analysis/all_tso_cv3/raw_separated_MMM/'\n",
    "                              'NRCN821WLP8FULL'+n+'-*_1_489_SE_*/*.red.fits')))"
   ]
  },
  {
   "cell_type": "code",
   "execution_count": 58,
   "metadata": {
    "collapsed": false
   },
   "outputs": [],
   "source": [
    "a1_centers_full = []\n",
    "for ds in a1_files_full:\n",
    "    a1_centers_full.append(rl.gen_center_g2d(1405,1036,5,400,4,4,0,ds, red = True))"
   ]
  },
  {
   "cell_type": "code",
   "execution_count": 59,
   "metadata": {
    "collapsed": false
   },
   "outputs": [],
   "source": [
    "b4_centers_full = []\n",
    "for ds in b4_files_full:\n",
    "    b4_centers_full.append(rl.gen_center_g2d(828,821,5,600,4,4,0,ds, red = True))"
   ]
  },
  {
   "cell_type": "code",
   "execution_count": 60,
   "metadata": {
    "collapsed": false
   },
   "outputs": [],
   "source": [
    "a1_data_full = []\n",
    "for x in range(1,7):\n",
    "    globals()['a1_data_full%s' % x] = rl.time_series(a1_centers_full[x-1][1], a1_centers_full[x-1][2], \n",
    "                                                     a1_files_full[x-1], 70, 72, 80, red = True)\n",
    "    a1_data_full.append(globals()['a1_data_full%s' % x])"
   ]
  },
  {
   "cell_type": "code",
   "execution_count": 61,
   "metadata": {
    "collapsed": true
   },
   "outputs": [],
   "source": [
    "b4_data_full = []\n",
    "for x in range(1,7):\n",
    "    globals()['b4_data_full%s' % x] = rl.time_series(b4_centers_full[x-1][1], b4_centers_full[x-1][2], \n",
    "                                                     b4_files_full[x-1], 70, 72, 80, red = True)\n",
    "    b4_data_full.append(globals()['b4_data_full%s' % x])"
   ]
  },
  {
   "cell_type": "code",
   "execution_count": 62,
   "metadata": {
    "collapsed": true
   },
   "outputs": [],
   "source": [
    "av_data_full = []\n",
    "for x in range(1,7):\n",
    "    globals()['av_data_full%s' % x] = (a1_data_full[x-1]['res_flux']+b4_data_full[x-1]['res_flux'])/2 \n",
    "    av_data_full.append(globals()['av_data_full%s' % x])"
   ]
  },
  {
   "cell_type": "code",
   "execution_count": 63,
   "metadata": {
    "collapsed": false
   },
   "outputs": [
    {
     "data": {
      "text/html": [
       "&lt;Table length=6&gt;\n",
       "<table id=\"table140574165296912\">\n",
       "<thead><tr><th>Test Number</th><th>NGROUP</th><th>Stdev</th></tr></thead>\n",
       "<thead><tr><th>float64</th><th>float64</th><th>float64</th></tr></thead>\n",
       "<tr><td>1.0</td><td>2.0</td><td>1742.75256569</td></tr>\n",
       "<tr><td>2.0</td><td>2.0</td><td>1519.44586346</td></tr>\n",
       "<tr><td>3.0</td><td>2.0</td><td>1709.69691753</td></tr>\n",
       "<tr><td>4.0</td><td>2.0</td><td>1961.10887829</td></tr>\n",
       "<tr><td>5.0</td><td>2.0</td><td>1355.9341994</td></tr>\n",
       "<tr><td>6.0</td><td>2.0</td><td>1230.2254514</td></tr>\n",
       "</table>"
      ],
      "text/plain": [
       "<Table length=6>\n",
       "Test Number  NGROUP     Stdev    \n",
       "  float64   float64    float64   \n",
       "----------- ------- -------------\n",
       "        1.0     2.0 1742.75256569\n",
       "        2.0     2.0 1519.44586346\n",
       "        3.0     2.0 1709.69691753\n",
       "        4.0     2.0 1961.10887829\n",
       "        5.0     2.0  1355.9341994\n",
       "        6.0     2.0  1230.2254514"
      ]
     },
     "execution_count": 63,
     "metadata": {},
     "output_type": "execute_result"
    }
   ],
   "source": [
    "stdev_full = Table(names = ('Test Number', 'NGROUP', 'Stdev'))\n",
    "for i, files in enumerate(a1_files_full):\n",
    "    st_dev = np.std(av_data_full[i-1][3:]/np.median(av_data_full[i-1][3:]))\n",
    "    header = rl.test_image(files[5])[2]\n",
    "    ngroup = header['NGROUP']\n",
    "    stdev_full.add_row([i+1, ngroup, st_dev*1e6])\n",
    "stdev_full"
   ]
  },
  {
   "cell_type": "markdown",
   "metadata": {},
   "source": [
    "## Sub"
   ]
  },
  {
   "cell_type": "code",
   "execution_count": 64,
   "metadata": {
    "collapsed": true
   },
   "outputs": [],
   "source": [
    "a1_files_sub = []\n",
    "for n in ['-', '640-']:\n",
    "    a1_files_sub.append(np.sort(glob.glob('/data1/tso_analysis/all_tso_cv3/raw_separated_MMM'\n",
    "                              '/NRCN821WLP8SUB'+n+'60*_1_481_SE_*/*.slp.fits')))"
   ]
  },
  {
   "cell_type": "code",
   "execution_count": 65,
   "metadata": {
    "collapsed": true
   },
   "outputs": [],
   "source": [
    "b4_files_sub = []\n",
    "for n in ['-','640-']:\n",
    "    b4_files_sub.append(np.sort(glob.glob('/data1/tso_analysis/all_tso_cv3/raw_separated_MMM/'\n",
    "                              '/NRCN821WLP8SUB'+n+'60*_1_489_SE_*/*.slp.fits')))"
   ]
  },
  {
   "cell_type": "code",
   "execution_count": 66,
   "metadata": {
    "collapsed": false
   },
   "outputs": [],
   "source": [
    "a1_centers_sub = []\n",
    "for i, ds in enumerate(a1_files_sub):\n",
    "    if i == 0:\n",
    "        a1_centers_sub.append(rl.gen_center_g2d(166,160,5,400,2,2,0,ds))\n",
    "    else:\n",
    "        a1_centers_sub.append(rl.gen_center_g2d(326,320,5,400,2,2,0,ds))"
   ]
  },
  {
   "cell_type": "code",
   "execution_count": 67,
   "metadata": {
    "collapsed": true
   },
   "outputs": [],
   "source": [
    "b4_centers_sub = []\n",
    "for i, ds in enumerate(b4_files_sub):\n",
    "    if i == 0:\n",
    "        b4_centers_sub.append(rl.gen_center_g2d(162,156,5,500,2,2,0,ds))\n",
    "    else:\n",
    "        b4_centers_sub.append(rl.gen_center_g2d(319,316,5,500,2,2,0,ds))"
   ]
  },
  {
   "cell_type": "code",
   "execution_count": 68,
   "metadata": {
    "collapsed": true
   },
   "outputs": [],
   "source": [
    "a1_data_sub = []\n",
    "for x in range(1,3):\n",
    "    globals()['a1_data_sub%s' % x] = rl.time_series(a1_centers_sub[x-1][1], a1_centers_sub[x-1][2], \n",
    "                                                     a1_files_sub[x-1], 70, 72, 80)\n",
    "    a1_data_sub.append(globals()['a1_data_sub%s' % x])"
   ]
  },
  {
   "cell_type": "code",
   "execution_count": 69,
   "metadata": {
    "collapsed": true
   },
   "outputs": [],
   "source": [
    "b4_data_sub = []\n",
    "for x in range(1,3):\n",
    "    globals()['b4_data_sub%s' % x] = rl.time_series(b4_centers_sub[x-1][1], b4_centers_sub[x-1][2], \n",
    "                                                     b4_files_sub[x-1], 70, 72, 80)\n",
    "    b4_data_sub.append(globals()['b4_data_sub%s' % x])"
   ]
  },
  {
   "cell_type": "code",
   "execution_count": 70,
   "metadata": {
    "collapsed": false
   },
   "outputs": [],
   "source": [
    "av_data_sub = []\n",
    "for x in range(1,3):\n",
    "    globals()['av_data_sub%s' % x] = (a1_data_sub[x-1]['res_flux']+b4_data_sub[x-1]['res_flux'][:306])/2 \n",
    "    av_data_sub.append(globals()['av_data_sub%s' % x])"
   ]
  },
  {
   "cell_type": "code",
   "execution_count": 71,
   "metadata": {
    "collapsed": false
   },
   "outputs": [
    {
     "data": {
      "text/html": [
       "&lt;Table length=2&gt;\n",
       "<table id=\"table140574153397136\">\n",
       "<thead><tr><th>Test Number</th><th>NGROUP</th><th>Stdev</th></tr></thead>\n",
       "<thead><tr><th>float64</th><th>float64</th><th>float64</th></tr></thead>\n",
       "<tr><td>1.0</td><td>20.0</td><td>2304.83527433</td></tr>\n",
       "<tr><td>2.0</td><td>6.0</td><td>1588.42058749</td></tr>\n",
       "</table>"
      ],
      "text/plain": [
       "<Table length=2>\n",
       "Test Number  NGROUP     Stdev    \n",
       "  float64   float64    float64   \n",
       "----------- ------- -------------\n",
       "        1.0    20.0 2304.83527433\n",
       "        2.0     6.0 1588.42058749"
      ]
     },
     "execution_count": 71,
     "metadata": {},
     "output_type": "execute_result"
    }
   ],
   "source": [
    "stdev_sub = Table(names = ('Test Number', 'NGROUP', 'Stdev'))\n",
    "for i, files in enumerate(a1_files_sub):\n",
    "    st_dev = np.std(av_data_sub[i-1][3:]/np.median(av_data_sub[i-1][3:]))\n",
    "    header = rl.test_image(files[5])[2]\n",
    "    ngroup = header['NGROUP']\n",
    "    stdev_sub.add_row([i+1, ngroup, st_dev*1e6])\n",
    "stdev_sub"
   ]
  },
  {
   "cell_type": "markdown",
   "metadata": {},
   "source": [
    "## Results"
   ]
  },
  {
   "cell_type": "code",
   "execution_count": 72,
   "metadata": {
    "collapsed": false
   },
   "outputs": [
    {
     "data": {
      "text/html": [
       "&lt;Table length=14&gt;\n",
       "<table id=\"table140574158080720\">\n",
       "<thead><tr><th>Test Number</th><th>NGROUP</th><th>Stdev</th></tr></thead>\n",
       "<thead><tr><th>float64</th><th>float64</th><th>float64</th></tr></thead>\n",
       "<tr><td>1.0</td><td>3.0</td><td>2513.05772647</td></tr>\n",
       "<tr><td>2.0</td><td>3.0</td><td>2388.57613272</td></tr>\n",
       "<tr><td>3.0</td><td>3.0</td><td>2374.41464553</td></tr>\n",
       "<tr><td>4.0</td><td>3.0</td><td>2680.91156766</td></tr>\n",
       "<tr><td>5.0</td><td>3.0</td><td>2220.09672255</td></tr>\n",
       "<tr><td>6.0</td><td>3.0</td><td>2331.85451648</td></tr>\n",
       "<tr><td>1.0</td><td>2.0</td><td>1742.75256569</td></tr>\n",
       "<tr><td>2.0</td><td>2.0</td><td>1519.44586346</td></tr>\n",
       "<tr><td>3.0</td><td>2.0</td><td>1709.69691753</td></tr>\n",
       "<tr><td>4.0</td><td>2.0</td><td>1961.10887829</td></tr>\n",
       "<tr><td>5.0</td><td>2.0</td><td>1355.9341994</td></tr>\n",
       "<tr><td>6.0</td><td>2.0</td><td>1230.2254514</td></tr>\n",
       "<tr><td>1.0</td><td>20.0</td><td>2304.83527433</td></tr>\n",
       "<tr><td>2.0</td><td>6.0</td><td>1588.42058749</td></tr>\n",
       "</table>"
      ],
      "text/plain": [
       "<Table length=14>\n",
       "Test Number  NGROUP     Stdev    \n",
       "  float64   float64    float64   \n",
       "----------- ------- -------------\n",
       "        1.0     3.0 2513.05772647\n",
       "        2.0     3.0 2388.57613272\n",
       "        3.0     3.0 2374.41464553\n",
       "        4.0     3.0 2680.91156766\n",
       "        5.0     3.0 2220.09672255\n",
       "        6.0     3.0 2331.85451648\n",
       "        1.0     2.0 1742.75256569\n",
       "        2.0     2.0 1519.44586346\n",
       "        3.0     2.0 1709.69691753\n",
       "        4.0     2.0 1961.10887829\n",
       "        5.0     2.0  1355.9341994\n",
       "        6.0     2.0  1230.2254514\n",
       "        1.0    20.0 2304.83527433\n",
       "        2.0     6.0 1588.42058749"
      ]
     },
     "execution_count": 72,
     "metadata": {},
     "output_type": "execute_result"
    }
   ],
   "source": [
    "all_test_std = vstack([stdev_clr, stdev_full, stdev_sub])\n",
    "all_test_std"
   ]
  },
  {
   "cell_type": "code",
   "execution_count": 73,
   "metadata": {
    "collapsed": false
   },
   "outputs": [
    {
     "data": {
      "image/png": "[encoded data removed]",
      "text/plain": [
       "<matplotlib.figure.Figure at 0x7fd9f890c210>"
      ]
     },
     "metadata": {},
     "output_type": "display_data"
    }
   ],
   "source": [
    "x = all_test_std['NGROUP']\n",
    "y = all_test_std['Stdev']\n",
    "plt.plot(x, y, 'o')\n",
    "plt.xlim(0, 22)\n",
    "plt.xlabel(\"NGROUP\")\n",
    "plt.ylabel(\"Standard Deviation (ppm)\")\n",
    "for i in range(0,14):\n",
    "    plt.annotate(test[i], xy = (x[i], y[i]), xytext =(x[i] + 0.5, y[i]))"
   ]
  },
  {
   "cell_type": "code",
   "execution_count": null,
   "metadata": {
    "collapsed": true
   },
   "outputs": [],
   "source": []
  }
 ],
 "metadata": {
  "kernelspec": {
   "display_name": "Python 2",
   "language": "python",
   "name": "python2"
  },
  "language_info": {
   "codemirror_mode": {
    "name": "ipython",
    "version": 2
   },
   "file_extension": ".py",
   "mimetype": "text/x-python",
   "name": "python",
   "nbconvert_exporter": "python",
   "pygments_lexer": "ipython2",
   "version": "2.7.11"
  }
 },
 "nbformat": 4,
 "nbformat_minor": 0
}
