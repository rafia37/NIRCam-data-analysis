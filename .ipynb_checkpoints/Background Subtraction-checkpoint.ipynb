{
 "cells": [
  {
   "cell_type": "code",
   "execution_count": 1,
   "metadata": {
    "collapsed": true
   },
   "outputs": [],
   "source": [
    "from astropy.io import fits\n",
    "from astropy.table import Table, Column, hstack\n",
    "from astropy.modeling import models, fitting\n",
    "import pdb\n",
    "import numpy as np\n",
    "import rafias_lib as rl\n",
    "import glob\n",
    "import matplotlib\n",
    "import matplotlib.pyplot as plt\n",
    "%matplotlib inline\n",
    "plt.rcParams['figure.figsize'] = (10.0, 8.0)"
   ]
  },
  {
   "cell_type": "markdown",
   "metadata": {},
   "source": [
    "## General"
   ]
  },
  {
   "cell_type": "code",
   "execution_count": 2,
   "metadata": {
    "collapsed": true
   },
   "outputs": [],
   "source": [
    "def std_by_med(a1_center, b4_center, r, r_in, r_out, a1_hdu, b4_hdu, rf = True, rfs = False, \n",
    "               mode = \"rl\", src_sh = \"Circ\", bkg_sh = \"Circ\", av = \"med\"):\n",
    "#     pdb.set_trace()\n",
    "    a1_res = rl.time_series(a1_center[1], a1_center[2], a1_hdu, r, r_in, r_out, red = rf, red2 = rfs, \n",
    "                             mode=mode, src_shape=src_sh, bkg_shape=bkg_sh, average=av)['res_flux']\n",
    "    b4_res = rl.time_series(b4_center[1], b4_center[2], b4_hdu, r, r_in, r_out, red = rf, red2 = rfs, \n",
    "                             mode=mode, src_shape=src_sh, bkg_shape=bkg_sh, average=av)['res_flux']\n",
    "    av_res = (a1_res + b4_res)/2\n",
    "    stdev = np.std(av_res/np.median(av_res))\n",
    "    return stdev"
   ]
  },
  {
   "cell_type": "markdown",
   "metadata": {},
   "source": [
    "## Test 1 (WLP8SUB)"
   ]
  },
  {
   "cell_type": "code",
   "execution_count": 3,
   "metadata": {
    "collapsed": false
   },
   "outputs": [
    {
     "data": {
      "text/plain": [
       "306"
      ]
     },
     "execution_count": 3,
     "metadata": {},
     "output_type": "execute_result"
    }
   ],
   "source": [
    "a11_files = glob.glob('/data1/tso_analysis/all_tso_cv3/raw_separated_MMM'\n",
    "                              '/NRCN821WLP8SUB-6012134600_1_481_SE_2016-01-12T16h42m53/*.slp.fits')\n",
    "len(a11_files)"
   ]
  },
  {
   "cell_type": "code",
   "execution_count": 4,
   "metadata": {
    "collapsed": false,
    "scrolled": true
   },
   "outputs": [
    {
     "data": {
      "text/plain": [
       "306"
      ]
     },
     "execution_count": 4,
     "metadata": {},
     "output_type": "execute_result"
    }
   ],
   "source": [
    "b41_files = glob.glob('/data1/tso_analysis/all_tso_cv3/raw_separated_MMM'\n",
    "                              '/NRCN821WLP8SUB-6012134957_1_489_SE_2016-01-12T16h43m29/*.slp.fits')[:306]\n",
    "len(b41_files)"
   ]
  },
  {
   "cell_type": "code",
   "execution_count": 5,
   "metadata": {
    "collapsed": true
   },
   "outputs": [],
   "source": [
    "a11_centers = rl.gen_center_g2d(166,160,5,400,2,2,0, a11_files)"
   ]
  },
  {
   "cell_type": "code",
   "execution_count": 6,
   "metadata": {
    "collapsed": true
   },
   "outputs": [],
   "source": [
    "b41_centers = rl.gen_center_g2d(162,156,5,500,2,2,0, b41_files)"
   ]
  },
  {
   "cell_type": "code",
   "execution_count": 7,
   "metadata": {
    "collapsed": false
   },
   "outputs": [
    {
     "data": {
      "text/plain": [
       "0.001572036659519619"
      ]
     },
     "execution_count": 7,
     "metadata": {},
     "output_type": "execute_result"
    }
   ],
   "source": [
    "circ_med1 = std_by_med(a11_centers, b41_centers, 70, 72, 80, a11_files, b41_files, rf = False, rfs = False)\n",
    "circ_med1"
   ]
  },
  {
   "cell_type": "code",
   "execution_count": 8,
   "metadata": {
    "collapsed": false
   },
   "outputs": [
    {
     "data": {
      "text/plain": [
       "0.0016020653342695699"
      ]
     },
     "execution_count": 8,
     "metadata": {},
     "output_type": "execute_result"
    }
   ],
   "source": [
    "cis_med1 = std_by_med(a11_centers, b41_centers, 70, 72, 80, a11_files, b41_files, rf = False,rfs = False, \n",
    "                      bkg_sh = \"CIS\")\n",
    "cis_med1"
   ]
  },
  {
   "cell_type": "code",
   "execution_count": 9,
   "metadata": {
    "collapsed": false
   },
   "outputs": [
    {
     "data": {
      "text/plain": [
       "0.0015754176224932041"
      ]
     },
     "execution_count": 9,
     "metadata": {},
     "output_type": "execute_result"
    }
   ],
   "source": [
    "circ_avg1 = std_by_med(a11_centers, b41_centers, 70, 72, 80, a11_files, b41_files, rf = False, rfs = False,\n",
    "                       av = \"avg\")\n",
    "circ_avg1"
   ]
  },
  {
   "cell_type": "code",
   "execution_count": 10,
   "metadata": {
    "collapsed": false
   },
   "outputs": [
    {
     "data": {
      "text/plain": [
       "0.0015890870256178389"
      ]
     },
     "execution_count": 10,
     "metadata": {},
     "output_type": "execute_result"
    }
   ],
   "source": [
    "cis_avg1 = std_by_med(a11_centers, b41_centers, 70, 72, 80, a11_files, b41_files, rf = False, rfs = False, \n",
    "                      bkg_sh = 'CIS', av = \"avg\")\n",
    "cis_avg1"
   ]
  },
  {
   "cell_type": "code",
   "execution_count": 11,
   "metadata": {
    "collapsed": false
   },
   "outputs": [
    {
     "name": "stderr",
     "output_type": "stream",
     "text": [
      "rafias_lib.py:121: RuntimeWarning: invalid value encountered in less\n",
      "  keep_pts = (np.abs(image2d-np.nanmedian(image2d[bkg_pts]))<(5*mad)) & bkg_pts\n"
     ]
    },
    {
     "data": {
      "text/plain": [
       "0.0015585498328468568"
      ]
     },
     "execution_count": 11,
     "metadata": {},
     "output_type": "execute_result"
    }
   ],
   "source": [
    "circ_mad1 = std_by_med(a11_centers, b41_centers, 70, 72, 80, a11_files, b41_files,rf = False,rfs = False,av = \"mad\")\n",
    "circ_mad1"
   ]
  },
  {
   "cell_type": "code",
   "execution_count": 12,
   "metadata": {
    "collapsed": false
   },
   "outputs": [
    {
     "data": {
      "text/plain": [
       "0.0015949630396802244"
      ]
     },
     "execution_count": 12,
     "metadata": {},
     "output_type": "execute_result"
    }
   ],
   "source": [
    "cis_mad1 = std_by_med(a11_centers, b41_centers, 70, 72, 80, a11_files, b41_files, rf = False, rfs = False, \n",
    "                      bkg_sh = 'CIS', av = \"mad\")\n",
    "cis_mad1"
   ]
  },
  {
   "cell_type": "code",
   "execution_count": 13,
   "metadata": {
    "collapsed": false
   },
   "outputs": [
    {
     "data": {
      "text/plain": [
       "0.0016080950374943918"
      ]
     },
     "execution_count": 13,
     "metadata": {},
     "output_type": "execute_result"
    }
   ],
   "source": [
    "aper_std1 = std_by_med(a11_centers, b41_centers, 70, 72, 80, a11_files, b41_files, rf = False, rfs = False, \n",
    "                   mode = \"astropy\")\n",
    "aper_std1"
   ]
  },
  {
   "cell_type": "markdown",
   "metadata": {},
   "source": [
    "## Test 2 (WLP8SUB640)"
   ]
  },
  {
   "cell_type": "code",
   "execution_count": 14,
   "metadata": {
    "collapsed": false
   },
   "outputs": [
    {
     "data": {
      "text/plain": [
       "60"
      ]
     },
     "execution_count": 14,
     "metadata": {},
     "output_type": "execute_result"
    }
   ],
   "source": [
    "a12_files = glob.glob('/data1/tso_analysis/all_tso_cv3/raw_separated_MMM'\n",
    "                              '/NRCN821WLP8SUB640-6012195832_1_481_SE_2016-01-12T20h57m57/*.slp.fits')\n",
    "len(a12_files)"
   ]
  },
  {
   "cell_type": "code",
   "execution_count": 15,
   "metadata": {
    "collapsed": false
   },
   "outputs": [
    {
     "data": {
      "text/plain": [
       "60"
      ]
     },
     "execution_count": 15,
     "metadata": {},
     "output_type": "execute_result"
    }
   ],
   "source": [
    "b42_files = glob.glob('/data1/tso_analysis/all_tso_cv3/raw_separated_MMM'\n",
    "                              '/NRCN821WLP8SUB640-6012200140_1_489_SE_2016-01-12T20h58m27/*.slp.fits')\n",
    "len(b42_files)"
   ]
  },
  {
   "cell_type": "code",
   "execution_count": 16,
   "metadata": {
    "collapsed": true
   },
   "outputs": [],
   "source": [
    "a12_centers = rl.gen_center_g2d(326,320,5,400,2,2,0, a12_files)"
   ]
  },
  {
   "cell_type": "code",
   "execution_count": 17,
   "metadata": {
    "collapsed": true
   },
   "outputs": [],
   "source": [
    "b42_centers = rl.gen_center_g2d(319,316,5,500,2,2,0, b42_files)"
   ]
  },
  {
   "cell_type": "code",
   "execution_count": 18,
   "metadata": {
    "collapsed": false
   },
   "outputs": [
    {
     "data": {
      "text/plain": [
       "0.0023594570853171159"
      ]
     },
     "execution_count": 18,
     "metadata": {},
     "output_type": "execute_result"
    }
   ],
   "source": [
    "circ_med2 = std_by_med(a12_centers, b42_centers, 70, 72, 80, a12_files, b42_files, rf = False, rfs = False)\n",
    "circ_med2"
   ]
  },
  {
   "cell_type": "code",
   "execution_count": 19,
   "metadata": {
    "collapsed": false
   },
   "outputs": [
    {
     "data": {
      "text/plain": [
       "0.0023605754519777449"
      ]
     },
     "execution_count": 19,
     "metadata": {},
     "output_type": "execute_result"
    }
   ],
   "source": [
    "cis_med2 = std_by_med(a12_centers, b42_centers, 70, 72, 80, a12_files, b42_files, rf = False, rfs = False, \n",
    "                      bkg_sh = 'CIS')\n",
    "cis_med2"
   ]
  },
  {
   "cell_type": "code",
   "execution_count": 20,
   "metadata": {
    "collapsed": false
   },
   "outputs": [
    {
     "data": {
      "text/plain": [
       "0.0023379817722824739"
      ]
     },
     "execution_count": 20,
     "metadata": {},
     "output_type": "execute_result"
    }
   ],
   "source": [
    "circ_avg2 = std_by_med(a12_centers, b42_centers, 70, 72, 80, a12_files, b42_files, rf = False, rfs = False, \n",
    "                       av = \"avg\")\n",
    "circ_avg2"
   ]
  },
  {
   "cell_type": "code",
   "execution_count": 21,
   "metadata": {
    "collapsed": false
   },
   "outputs": [
    {
     "data": {
      "text/plain": [
       "0.0023426528226479755"
      ]
     },
     "execution_count": 21,
     "metadata": {},
     "output_type": "execute_result"
    }
   ],
   "source": [
    "cis_avg2 = std_by_med(a12_centers, b42_centers, 70, 72, 80, a12_files, b42_files, rf = False, rfs = False, \n",
    "                      bkg_sh = 'CIS', av = \"avg\")\n",
    "cis_avg2"
   ]
  },
  {
   "cell_type": "code",
   "execution_count": 22,
   "metadata": {
    "collapsed": false
   },
   "outputs": [
    {
     "data": {
      "text/plain": [
       "0.0023378412093051659"
      ]
     },
     "execution_count": 22,
     "metadata": {},
     "output_type": "execute_result"
    }
   ],
   "source": [
    "circ_mad2 = std_by_med(a12_centers, b42_centers, 70, 72, 80, a12_files, b42_files, rf = False, rfs = False, \n",
    "                       av = \"mad\")\n",
    "circ_mad2"
   ]
  },
  {
   "cell_type": "code",
   "execution_count": 23,
   "metadata": {
    "collapsed": false
   },
   "outputs": [
    {
     "data": {
      "text/plain": [
       "0.0023660088675131435"
      ]
     },
     "execution_count": 23,
     "metadata": {},
     "output_type": "execute_result"
    }
   ],
   "source": [
    "cis_mad2 = std_by_med(a12_centers, b42_centers, 70, 72, 80, a12_files, b42_files, rf = False, rfs = False, \n",
    "                      bkg_sh = 'CIS', av = \"mad\")\n",
    "cis_mad2"
   ]
  },
  {
   "cell_type": "code",
   "execution_count": 24,
   "metadata": {
    "collapsed": false
   },
   "outputs": [
    {
     "data": {
      "text/plain": [
       "0.0023369120429536675"
      ]
     },
     "execution_count": 24,
     "metadata": {},
     "output_type": "execute_result"
    }
   ],
   "source": [
    "aper_std2 = std_by_med(a12_centers, b42_centers, 70, 72, 80, a12_files, b42_files, rf = False, rfs = False, \n",
    "                   mode = \"astropy\")\n",
    "aper_std2"
   ]
  },
  {
   "cell_type": "markdown",
   "metadata": {},
   "source": [
    "## Test 3 (Full 1)"
   ]
  },
  {
   "cell_type": "code",
   "execution_count": 25,
   "metadata": {
    "collapsed": false
   },
   "outputs": [
    {
     "data": {
      "text/plain": [
       "225"
      ]
     },
     "execution_count": 25,
     "metadata": {},
     "output_type": "execute_result"
    }
   ],
   "source": [
    "a13_files = glob.glob('/data1/tso_analysis/all_tso_cv3/raw_separated_MMM'\n",
    "                              '/NRCN821WLP8FULL1-6012051326_1_481_SE_2016-01-12T08h55m24/*.red.fits')\n",
    "len(a13_files)"
   ]
  },
  {
   "cell_type": "code",
   "execution_count": 26,
   "metadata": {
    "collapsed": false
   },
   "outputs": [
    {
     "data": {
      "text/plain": [
       "225"
      ]
     },
     "execution_count": 26,
     "metadata": {},
     "output_type": "execute_result"
    }
   ],
   "source": [
    "b43_files = glob.glob('/data1/tso_analysis/all_tso_cv3/raw_separated_MMM'\n",
    "                              '/NRCN821WLP8FULL1-6012051528_1_489_SE_2016-01-12T08h30m07/*.red.fits')\n",
    "len(b43_files)"
   ]
  },
  {
   "cell_type": "code",
   "execution_count": 27,
   "metadata": {
    "collapsed": false
   },
   "outputs": [],
   "source": [
    "a13_centers = rl.gen_center_g2d(1405,1036,5,400,4,4,0, a13_files, red = True)"
   ]
  },
  {
   "cell_type": "code",
   "execution_count": 28,
   "metadata": {
    "collapsed": false
   },
   "outputs": [],
   "source": [
    "b43_centers = rl.gen_center_g2d(828,821,5,600,4,4,0, b43_files, red = True)"
   ]
  },
  {
   "cell_type": "code",
   "execution_count": 29,
   "metadata": {
    "collapsed": false
   },
   "outputs": [
    {
     "data": {
      "text/plain": [
       "0.0015201228751718693"
      ]
     },
     "execution_count": 29,
     "metadata": {},
     "output_type": "execute_result"
    }
   ],
   "source": [
    "circ_med3 = std_by_med(a13_centers, b43_centers, 70, 72, 80, a13_files, b43_files)\n",
    "circ_med3"
   ]
  },
  {
   "cell_type": "code",
   "execution_count": 30,
   "metadata": {
    "collapsed": false
   },
   "outputs": [
    {
     "data": {
      "text/plain": [
       "0.0015707385824904098"
      ]
     },
     "execution_count": 30,
     "metadata": {},
     "output_type": "execute_result"
    }
   ],
   "source": [
    "cis_med3 = std_by_med(a13_centers, b43_centers, 70, 72, 80, a13_files, b43_files, bkg_sh = 'CIS')\n",
    "cis_med3"
   ]
  },
  {
   "cell_type": "code",
   "execution_count": 31,
   "metadata": {
    "collapsed": false
   },
   "outputs": [
    {
     "data": {
      "text/plain": [
       "0.001515370619076153"
      ]
     },
     "execution_count": 31,
     "metadata": {},
     "output_type": "execute_result"
    }
   ],
   "source": [
    "circ_avg3 = std_by_med(a13_centers, b43_centers, 70, 72, 80, a13_files, b43_files, av = \"avg\")\n",
    "circ_avg3"
   ]
  },
  {
   "cell_type": "code",
   "execution_count": 32,
   "metadata": {
    "collapsed": false
   },
   "outputs": [
    {
     "data": {
      "text/plain": [
       "0.0015563822033089481"
      ]
     },
     "execution_count": 32,
     "metadata": {},
     "output_type": "execute_result"
    }
   ],
   "source": [
    "cis_avg3 = std_by_med(a13_centers, b43_centers, 70, 72, 80, a13_files, b43_files,rf = True,bkg_sh = 'CIS',av = \"avg\")\n",
    "cis_avg3"
   ]
  },
  {
   "cell_type": "code",
   "execution_count": 33,
   "metadata": {
    "collapsed": false
   },
   "outputs": [
    {
     "data": {
      "text/plain": [
       "0.0015203533341388077"
      ]
     },
     "execution_count": 33,
     "metadata": {},
     "output_type": "execute_result"
    }
   ],
   "source": [
    "circ_mad3 = std_by_med(a13_centers, b43_centers, 70, 72, 80, a13_files, b43_files, av = \"mad\")\n",
    "circ_mad3"
   ]
  },
  {
   "cell_type": "code",
   "execution_count": 34,
   "metadata": {
    "collapsed": false
   },
   "outputs": [
    {
     "data": {
      "text/plain": [
       "0.0015651804611118798"
      ]
     },
     "execution_count": 34,
     "metadata": {},
     "output_type": "execute_result"
    }
   ],
   "source": [
    "cis_mad3 = std_by_med(a13_centers, b43_centers, 70, 72, 80, a13_files, b43_files, \n",
    "                      bkg_sh = 'CIS', av = \"mad\")\n",
    "cis_mad3"
   ]
  },
  {
   "cell_type": "code",
   "execution_count": 35,
   "metadata": {
    "collapsed": false
   },
   "outputs": [
    {
     "data": {
      "text/plain": [
       "0.0015172298150566504"
      ]
     },
     "execution_count": 35,
     "metadata": {},
     "output_type": "execute_result"
    }
   ],
   "source": [
    "aper_std3 = std_by_med(a13_centers, b43_centers, 70, 72, 80, a13_files, b43_files, mode = \"astropy\")\n",
    "aper_std3"
   ]
  },
  {
   "cell_type": "markdown",
   "metadata": {},
   "source": [
    "## Test 4 (Full 2)"
   ]
  },
  {
   "cell_type": "code",
   "execution_count": 36,
   "metadata": {
    "collapsed": false
   },
   "outputs": [
    {
     "data": {
      "text/plain": [
       "225"
      ]
     },
     "execution_count": 36,
     "metadata": {},
     "output_type": "execute_result"
    }
   ],
   "source": [
    "a14_files = glob.glob('/data1/tso_analysis/all_tso_cv3/raw_separated_MMM'\n",
    "                              '/NRCN821WLP8FULL2-6012072417_1_481_SE_2016-01-12T10h40m58/*.red.fits')\n",
    "len(a14_files)"
   ]
  },
  {
   "cell_type": "code",
   "execution_count": 37,
   "metadata": {
    "collapsed": false
   },
   "outputs": [
    {
     "data": {
      "text/plain": [
       "225"
      ]
     },
     "execution_count": 37,
     "metadata": {},
     "output_type": "execute_result"
    }
   ],
   "source": [
    "b44_files = glob.glob('/data1/tso_analysis/all_tso_cv3/raw_separated_MMM'\n",
    "                              '/NRCN821WLP8FULL2-6012072532_1_489_SE_2016-01-12T11h09m06/*.red.fits')\n",
    "len(b44_files)"
   ]
  },
  {
   "cell_type": "code",
   "execution_count": 38,
   "metadata": {
    "collapsed": true
   },
   "outputs": [],
   "source": [
    "a14_centers = rl.gen_center_g2d(1405,1036,5,400,4,4,0, a14_files, red = True)"
   ]
  },
  {
   "cell_type": "code",
   "execution_count": 39,
   "metadata": {
    "collapsed": true
   },
   "outputs": [],
   "source": [
    "b44_centers = rl.gen_center_g2d(828,821,5,600,4,4,0, b44_files, red = True)"
   ]
  },
  {
   "cell_type": "code",
   "execution_count": 40,
   "metadata": {
    "collapsed": false
   },
   "outputs": [
    {
     "data": {
      "text/plain": [
       "0.0017302517868297096"
      ]
     },
     "execution_count": 40,
     "metadata": {},
     "output_type": "execute_result"
    }
   ],
   "source": [
    "circ_med4 = std_by_med(a14_centers, b44_centers, 70, 72, 80, a14_files, b44_files)\n",
    "circ_med4"
   ]
  },
  {
   "cell_type": "code",
   "execution_count": 41,
   "metadata": {
    "collapsed": false
   },
   "outputs": [
    {
     "data": {
      "text/plain": [
       "0.0017473898157574709"
      ]
     },
     "execution_count": 41,
     "metadata": {},
     "output_type": "execute_result"
    }
   ],
   "source": [
    "cis_med4 = std_by_med(a14_centers, b44_centers, 70, 72, 80, a14_files, b44_files, \n",
    "                      bkg_sh = 'CIS')\n",
    "cis_med4"
   ]
  },
  {
   "cell_type": "code",
   "execution_count": 42,
   "metadata": {
    "collapsed": false
   },
   "outputs": [
    {
     "data": {
      "text/plain": [
       "0.001726928368715496"
      ]
     },
     "execution_count": 42,
     "metadata": {},
     "output_type": "execute_result"
    }
   ],
   "source": [
    "circ_avg4 = std_by_med(a14_centers, b44_centers, 70, 72, 80, a14_files, b44_files, av = \"avg\")\n",
    "circ_avg4"
   ]
  },
  {
   "cell_type": "code",
   "execution_count": 43,
   "metadata": {
    "collapsed": false
   },
   "outputs": [
    {
     "data": {
      "text/plain": [
       "0.0017546232066440153"
      ]
     },
     "execution_count": 43,
     "metadata": {},
     "output_type": "execute_result"
    }
   ],
   "source": [
    "cis_avg4 = std_by_med(a14_centers, b44_centers, 70, 72, 80, a14_files, b44_files, \n",
    "                      bkg_sh = 'CIS', av = \"avg\")\n",
    "cis_avg4"
   ]
  },
  {
   "cell_type": "code",
   "execution_count": 44,
   "metadata": {
    "collapsed": false
   },
   "outputs": [
    {
     "data": {
      "text/plain": [
       "0.0017286067593546418"
      ]
     },
     "execution_count": 44,
     "metadata": {},
     "output_type": "execute_result"
    }
   ],
   "source": [
    "circ_mad4 = std_by_med(a14_centers, b44_centers, 70, 72, 80, a14_files, b44_files, av = \"mad\")\n",
    "circ_mad4"
   ]
  },
  {
   "cell_type": "code",
   "execution_count": 45,
   "metadata": {
    "collapsed": false
   },
   "outputs": [
    {
     "data": {
      "text/plain": [
       "0.0017534435650867954"
      ]
     },
     "execution_count": 45,
     "metadata": {},
     "output_type": "execute_result"
    }
   ],
   "source": [
    "cis_mad4 = std_by_med(a14_centers, b44_centers, 70, 72, 80, a14_files, b44_files, \n",
    "                      bkg_sh = 'CIS', av = \"mad\")\n",
    "cis_mad4"
   ]
  },
  {
   "cell_type": "code",
   "execution_count": 46,
   "metadata": {
    "collapsed": false
   },
   "outputs": [
    {
     "data": {
      "text/plain": [
       "0.0017210617319382993"
      ]
     },
     "execution_count": 46,
     "metadata": {},
     "output_type": "execute_result"
    }
   ],
   "source": [
    "aper_std4 = std_by_med(a14_centers, b44_centers, 70, 72, 80, a14_files, b44_files, mode = \"astropy\")\n",
    "aper_std4"
   ]
  },
  {
   "cell_type": "markdown",
   "metadata": {},
   "source": [
    "## Test 5 (Full 3)"
   ]
  },
  {
   "cell_type": "code",
   "execution_count": 47,
   "metadata": {
    "collapsed": false
   },
   "outputs": [
    {
     "data": {
      "text/plain": [
       "225"
      ]
     },
     "execution_count": 47,
     "metadata": {},
     "output_type": "execute_result"
    }
   ],
   "source": [
    "a15_files = glob.glob('/data1/tso_analysis/all_tso_cv3/raw_separated_MMM'\n",
    "                              '/NRCN821WLP8FULL3-6012093326_1_481_SE_2016-01-12T12h47m44/*.red.fits')\n",
    "len(a15_files)"
   ]
  },
  {
   "cell_type": "code",
   "execution_count": 48,
   "metadata": {
    "collapsed": false
   },
   "outputs": [
    {
     "data": {
      "text/plain": [
       "225"
      ]
     },
     "execution_count": 48,
     "metadata": {},
     "output_type": "execute_result"
    }
   ],
   "source": [
    "b45_files = glob.glob('/data1/tso_analysis/all_tso_cv3/raw_separated_MMM'\n",
    "                              '/NRCN821WLP8FULL3-6012093432_1_489_SE_2016-01-12T12h52m21/*.red.fits')\n",
    "len(b45_files)"
   ]
  },
  {
   "cell_type": "code",
   "execution_count": 49,
   "metadata": {
    "collapsed": false
   },
   "outputs": [],
   "source": [
    "a15_centers = rl.gen_center_g2d(1405,1036,5,400,4,4,0, a15_files, red = True)"
   ]
  },
  {
   "cell_type": "code",
   "execution_count": 50,
   "metadata": {
    "collapsed": false
   },
   "outputs": [],
   "source": [
    "b45_centers = rl.gen_center_g2d(828,821,5,600,4,4,0, b45_files, red = True)"
   ]
  },
  {
   "cell_type": "code",
   "execution_count": 51,
   "metadata": {
    "collapsed": false
   },
   "outputs": [
    {
     "data": {
      "text/plain": [
       "0.0019710612608247044"
      ]
     },
     "execution_count": 51,
     "metadata": {},
     "output_type": "execute_result"
    }
   ],
   "source": [
    "circ_med5 = std_by_med(a15_centers, b45_centers, 70, 72, 80, a15_files, b45_files)\n",
    "circ_med5"
   ]
  },
  {
   "cell_type": "code",
   "execution_count": 52,
   "metadata": {
    "collapsed": false
   },
   "outputs": [
    {
     "data": {
      "text/plain": [
       "0.0019663545507738515"
      ]
     },
     "execution_count": 52,
     "metadata": {},
     "output_type": "execute_result"
    }
   ],
   "source": [
    "cis_med5 = std_by_med(a15_centers, b45_centers, 70, 72, 80, a15_files, b45_files, bkg_sh = 'CIS')\n",
    "cis_med5"
   ]
  },
  {
   "cell_type": "code",
   "execution_count": 53,
   "metadata": {
    "collapsed": false
   },
   "outputs": [
    {
     "data": {
      "text/plain": [
       "0.0019489794813830018"
      ]
     },
     "execution_count": 53,
     "metadata": {},
     "output_type": "execute_result"
    }
   ],
   "source": [
    "circ_avg5 = std_by_med(a15_centers, b45_centers, 70, 72, 80, a15_files, b45_files, av = \"avg\")\n",
    "circ_avg5"
   ]
  },
  {
   "cell_type": "code",
   "execution_count": 54,
   "metadata": {
    "collapsed": false
   },
   "outputs": [
    {
     "data": {
      "text/plain": [
       "0.0019656748826758119"
      ]
     },
     "execution_count": 54,
     "metadata": {},
     "output_type": "execute_result"
    }
   ],
   "source": [
    "cis_avg5 = std_by_med(a15_centers, b45_centers, 70, 72, 80, a15_files, b45_files, \n",
    "                      bkg_sh = 'CIS', av = \"avg\")\n",
    "cis_avg5"
   ]
  },
  {
   "cell_type": "code",
   "execution_count": 55,
   "metadata": {
    "collapsed": false
   },
   "outputs": [
    {
     "data": {
      "text/plain": [
       "0.0019622215371776462"
      ]
     },
     "execution_count": 55,
     "metadata": {},
     "output_type": "execute_result"
    }
   ],
   "source": [
    "circ_mad5 = std_by_med(a15_centers, b45_centers, 70, 72, 80, a15_files, b45_files, av = \"mad\")\n",
    "circ_mad5"
   ]
  },
  {
   "cell_type": "code",
   "execution_count": 56,
   "metadata": {
    "collapsed": false
   },
   "outputs": [
    {
     "data": {
      "text/plain": [
       "0.0019708484029874996"
      ]
     },
     "execution_count": 56,
     "metadata": {},
     "output_type": "execute_result"
    }
   ],
   "source": [
    "cis_mad5 = std_by_med(a15_centers, b45_centers, 70, 72, 80, a15_files, b45_files, \n",
    "                      bkg_sh = 'CIS', av = \"mad\")\n",
    "cis_mad5"
   ]
  },
  {
   "cell_type": "code",
   "execution_count": 57,
   "metadata": {
    "collapsed": false
   },
   "outputs": [
    {
     "data": {
      "text/plain": [
       "0.0019595811657784679"
      ]
     },
     "execution_count": 57,
     "metadata": {},
     "output_type": "execute_result"
    }
   ],
   "source": [
    "aper_std5 = std_by_med(a15_centers, b45_centers, 70, 72, 80, a15_files, b45_files, mode = \"astropy\")\n",
    "aper_std5"
   ]
  },
  {
   "cell_type": "markdown",
   "metadata": {},
   "source": [
    "## Test 6 (Full 4)"
   ]
  },
  {
   "cell_type": "code",
   "execution_count": 58,
   "metadata": {
    "collapsed": false
   },
   "outputs": [
    {
     "data": {
      "text/plain": [
       "225"
      ]
     },
     "execution_count": 58,
     "metadata": {},
     "output_type": "execute_result"
    }
   ],
   "source": [
    "a16_files = glob.glob('/data1/tso_analysis/all_tso_cv3/raw_separated_MMM'\n",
    "                              '/NRCN821WLP8FULL4-6012114105_1_481_SE_2016-01-12T14h25m53/*.red.fits')\n",
    "len(a16_files)"
   ]
  },
  {
   "cell_type": "code",
   "execution_count": 59,
   "metadata": {
    "collapsed": false
   },
   "outputs": [
    {
     "data": {
      "text/plain": [
       "225"
      ]
     },
     "execution_count": 59,
     "metadata": {},
     "output_type": "execute_result"
    }
   ],
   "source": [
    "b46_files = glob.glob('/data1/tso_analysis/all_tso_cv3/raw_separated_MMM'\n",
    "                              '/NRCN821WLP8FULL4-6012114212_1_489_SE_2016-01-12T14h58m10/*.red.fits')\n",
    "len(b46_files)"
   ]
  },
  {
   "cell_type": "code",
   "execution_count": 60,
   "metadata": {
    "collapsed": false
   },
   "outputs": [],
   "source": [
    "a16_centers = rl.gen_center_g2d(1405,1036,5,400,4,4,0, a16_files, red = True)"
   ]
  },
  {
   "cell_type": "code",
   "execution_count": 61,
   "metadata": {
    "collapsed": false
   },
   "outputs": [],
   "source": [
    "b46_centers = rl.gen_center_g2d(828,821,5,600,4,4,0, b46_files, red = True)"
   ]
  },
  {
   "cell_type": "code",
   "execution_count": 62,
   "metadata": {
    "collapsed": false
   },
   "outputs": [
    {
     "data": {
      "text/plain": [
       "0.0013576647453500462"
      ]
     },
     "execution_count": 62,
     "metadata": {},
     "output_type": "execute_result"
    }
   ],
   "source": [
    "circ_med6 = std_by_med(a16_centers, b46_centers, 70, 72, 80, a16_files, b46_files)\n",
    "circ_med6"
   ]
  },
  {
   "cell_type": "code",
   "execution_count": 63,
   "metadata": {
    "collapsed": false
   },
   "outputs": [
    {
     "data": {
      "text/plain": [
       "0.0013931317993569883"
      ]
     },
     "execution_count": 63,
     "metadata": {},
     "output_type": "execute_result"
    }
   ],
   "source": [
    "cis_med6 = std_by_med(a16_centers, b46_centers, 70, 72, 80, a16_files, b46_files, bkg_sh = 'CIS')\n",
    "cis_med6"
   ]
  },
  {
   "cell_type": "code",
   "execution_count": 64,
   "metadata": {
    "collapsed": false
   },
   "outputs": [
    {
     "data": {
      "text/plain": [
       "0.0013655414888017806"
      ]
     },
     "execution_count": 64,
     "metadata": {},
     "output_type": "execute_result"
    }
   ],
   "source": [
    "circ_avg6 = std_by_med(a16_centers, b46_centers, 70, 72, 80, a16_files, b46_files, av = \"avg\")\n",
    "circ_avg6"
   ]
  },
  {
   "cell_type": "code",
   "execution_count": 65,
   "metadata": {
    "collapsed": false
   },
   "outputs": [
    {
     "data": {
      "text/plain": [
       "0.0013949991181226159"
      ]
     },
     "execution_count": 65,
     "metadata": {},
     "output_type": "execute_result"
    }
   ],
   "source": [
    "cis_avg6 = std_by_med(a16_centers, b46_centers, 70, 72, 80, a16_files, b46_files, \n",
    "                      bkg_sh = 'CIS', av = \"avg\")\n",
    "cis_avg6"
   ]
  },
  {
   "cell_type": "code",
   "execution_count": 66,
   "metadata": {
    "collapsed": false
   },
   "outputs": [
    {
     "data": {
      "text/plain": [
       "0.0013710175175482206"
      ]
     },
     "execution_count": 66,
     "metadata": {},
     "output_type": "execute_result"
    }
   ],
   "source": [
    "circ_mad6 = std_by_med(a16_centers, b46_centers, 70, 72, 80, a16_files, b46_files, av = \"mad\")\n",
    "circ_mad6"
   ]
  },
  {
   "cell_type": "code",
   "execution_count": 67,
   "metadata": {
    "collapsed": false
   },
   "outputs": [
    {
     "data": {
      "text/plain": [
       "0.0013859932984863089"
      ]
     },
     "execution_count": 67,
     "metadata": {},
     "output_type": "execute_result"
    }
   ],
   "source": [
    "cis_mad6 = std_by_med(a16_centers, b46_centers, 70, 72, 80, a16_files, b46_files, \n",
    "                      bkg_sh = 'CIS', av = \"mad\")\n",
    "cis_mad6"
   ]
  },
  {
   "cell_type": "code",
   "execution_count": 68,
   "metadata": {
    "collapsed": false
   },
   "outputs": [
    {
     "data": {
      "text/plain": [
       "0.0013548593637850374"
      ]
     },
     "execution_count": 68,
     "metadata": {},
     "output_type": "execute_result"
    }
   ],
   "source": [
    "aper_std6 = std_by_med(a16_centers, b46_centers, 70, 72, 80, a16_files, b46_files, mode = \"astropy\")\n",
    "aper_std6"
   ]
  },
  {
   "cell_type": "markdown",
   "metadata": {},
   "source": [
    "## Test 7 (Full 5)"
   ]
  },
  {
   "cell_type": "code",
   "execution_count": 69,
   "metadata": {
    "collapsed": false
   },
   "outputs": [
    {
     "data": {
      "text/plain": [
       "110"
      ]
     },
     "execution_count": 69,
     "metadata": {},
     "output_type": "execute_result"
    }
   ],
   "source": [
    "a17_files = glob.glob('/data1/tso_analysis/all_tso_cv3/raw_separated_MMM'\n",
    "                              '/NRCN821WLP8FULL5-6012184421_1_481_SE_2016-01-12T20h26m57/*.red.fits')\n",
    "len(a17_files)"
   ]
  },
  {
   "cell_type": "code",
   "execution_count": 70,
   "metadata": {
    "collapsed": false
   },
   "outputs": [
    {
     "data": {
      "text/plain": [
       "110"
      ]
     },
     "execution_count": 70,
     "metadata": {},
     "output_type": "execute_result"
    }
   ],
   "source": [
    "b47_files = glob.glob('/data1/tso_analysis/all_tso_cv3/raw_separated_MMM'\n",
    "                              '/NRCN821WLP8FULL5-6012185018_1_489_SE_2016-01-12T20h20m15/*.red.fits')\n",
    "len(b47_files)"
   ]
  },
  {
   "cell_type": "code",
   "execution_count": 71,
   "metadata": {
    "collapsed": false
   },
   "outputs": [],
   "source": [
    "a17_centers = rl.gen_center_g2d(1405,1036,5,400,4,4,0, a17_files, red = True)"
   ]
  },
  {
   "cell_type": "code",
   "execution_count": 72,
   "metadata": {
    "collapsed": false
   },
   "outputs": [],
   "source": [
    "b47_centers = rl.gen_center_g2d(828,821,5,600,4,4,0, b47_files, red = True)"
   ]
  },
  {
   "cell_type": "code",
   "execution_count": 73,
   "metadata": {
    "collapsed": false
   },
   "outputs": [
    {
     "data": {
      "text/plain": [
       "0.0012209601591931577"
      ]
     },
     "execution_count": 73,
     "metadata": {},
     "output_type": "execute_result"
    }
   ],
   "source": [
    "circ_med7 = std_by_med(a17_centers, b47_centers, 70, 72, 80, a17_files, b47_files)\n",
    "circ_med7"
   ]
  },
  {
   "cell_type": "code",
   "execution_count": 74,
   "metadata": {
    "collapsed": false
   },
   "outputs": [
    {
     "data": {
      "text/plain": [
       "0.0012415951683815119"
      ]
     },
     "execution_count": 74,
     "metadata": {},
     "output_type": "execute_result"
    }
   ],
   "source": [
    "cis_med7 = std_by_med(a17_centers, b47_centers, 70, 72, 80, a17_files, b47_files, bkg_sh = 'CIS')\n",
    "cis_med7"
   ]
  },
  {
   "cell_type": "code",
   "execution_count": 75,
   "metadata": {
    "collapsed": false
   },
   "outputs": [
    {
     "data": {
      "text/plain": [
       "0.0012029026362812816"
      ]
     },
     "execution_count": 75,
     "metadata": {},
     "output_type": "execute_result"
    }
   ],
   "source": [
    "circ_avg7 = std_by_med(a17_centers, b47_centers, 70, 72, 80, a17_files, b47_files, av = \"avg\")\n",
    "circ_avg7"
   ]
  },
  {
   "cell_type": "code",
   "execution_count": 76,
   "metadata": {
    "collapsed": false
   },
   "outputs": [
    {
     "data": {
      "text/plain": [
       "0.0012301337637509906"
      ]
     },
     "execution_count": 76,
     "metadata": {},
     "output_type": "execute_result"
    }
   ],
   "source": [
    "cis_avg7 = std_by_med(a17_centers, b47_centers, 70, 72, 80, a17_files, b47_files, \n",
    "                      bkg_sh = 'CIS', av = \"avg\")\n",
    "cis_avg7"
   ]
  },
  {
   "cell_type": "code",
   "execution_count": 77,
   "metadata": {
    "collapsed": false
   },
   "outputs": [
    {
     "data": {
      "text/plain": [
       "0.0011895898865276944"
      ]
     },
     "execution_count": 77,
     "metadata": {},
     "output_type": "execute_result"
    }
   ],
   "source": [
    "circ_mad7 = std_by_med(a17_centers, b47_centers, 70, 72, 80, a17_files, b47_files, av = \"mad\")\n",
    "circ_mad7"
   ]
  },
  {
   "cell_type": "code",
   "execution_count": 78,
   "metadata": {
    "collapsed": false
   },
   "outputs": [
    {
     "data": {
      "text/plain": [
       "0.0012307709310844033"
      ]
     },
     "execution_count": 78,
     "metadata": {},
     "output_type": "execute_result"
    }
   ],
   "source": [
    "cis_mad7 = std_by_med(a17_centers, b47_centers, 70, 72, 80, a17_files, b47_files, \n",
    "                      bkg_sh = 'CIS', av = \"mad\")\n",
    "cis_mad7"
   ]
  },
  {
   "cell_type": "code",
   "execution_count": 79,
   "metadata": {
    "collapsed": false
   },
   "outputs": [
    {
     "data": {
      "text/plain": [
       "0.0012200169301134977"
      ]
     },
     "execution_count": 79,
     "metadata": {},
     "output_type": "execute_result"
    }
   ],
   "source": [
    "aper_std7 = std_by_med(a17_centers, b47_centers, 70, 72, 80, a17_files, b47_files, mode = \"astropy\")\n",
    "aper_std7"
   ]
  },
  {
   "cell_type": "markdown",
   "metadata": {},
   "source": [
    "## Results"
   ]
  },
  {
   "cell_type": "code",
   "execution_count": 80,
   "metadata": {
    "collapsed": false
   },
   "outputs": [
    {
     "data": {
      "text/html": [
       "&lt;Table length=7&gt;\n",
       "<table id=\"table139797567735056\">\n",
       "<thead><tr><th>Test</th><th>Median Sub (Circ)</th><th>Median Sub (CIS)</th><th>Average Sub (Circ)</th><th>Average Sub (CIS)</th><th>Robust Average (Circ)</th><th>Robust Average (CIS)</th><th>Annular Aperture</th></tr></thead>\n",
       "<thead><tr><th>float64</th><th>float64</th><th>float64</th><th>float64</th><th>float64</th><th>float64</th><th>float64</th><th>float64</th></tr></thead>\n",
       "<tr><td>1.0</td><td>1572.03665952</td><td>1602.06533427</td><td>1575.41762249</td><td>1589.08702562</td><td>1558.54983285</td><td>1594.96303968</td><td>1608.09503749</td></tr>\n",
       "<tr><td>2.0</td><td>2359.45708532</td><td>2360.57545198</td><td>2337.98177228</td><td>2342.65282265</td><td>2337.84120931</td><td>2366.00886751</td><td>2336.91204295</td></tr>\n",
       "<tr><td>3.0</td><td>1520.12287517</td><td>1570.73858249</td><td>1515.37061908</td><td>1556.38220331</td><td>1520.35333414</td><td>1565.18046111</td><td>1517.22981506</td></tr>\n",
       "<tr><td>4.0</td><td>1730.25178683</td><td>1747.38981576</td><td>1726.92836872</td><td>1754.62320664</td><td>1728.60675935</td><td>1753.44356509</td><td>1721.06173194</td></tr>\n",
       "<tr><td>5.0</td><td>1971.06126082</td><td>1966.35455077</td><td>1948.97948138</td><td>1965.67488268</td><td>1962.22153718</td><td>1970.84840299</td><td>1959.58116578</td></tr>\n",
       "<tr><td>6.0</td><td>1357.66474535</td><td>1393.13179936</td><td>1365.5414888</td><td>1394.99911812</td><td>1371.01751755</td><td>1385.99329849</td><td>1354.85936379</td></tr>\n",
       "<tr><td>7.0</td><td>1220.96015919</td><td>1241.59516838</td><td>1202.90263628</td><td>1230.13376375</td><td>1189.58988653</td><td>1230.77093108</td><td>1220.01693011</td></tr>\n",
       "</table>"
      ],
      "text/plain": [
       "<Table length=7>\n",
       "  Test  Median Sub (Circ) ... Robust Average (CIS) Annular Aperture\n",
       "float64      float64      ...       float64            float64     \n",
       "------- ----------------- ... -------------------- ----------------\n",
       "    1.0     1572.03665952 ...        1594.96303968    1608.09503749\n",
       "    2.0     2359.45708532 ...        2366.00886751    2336.91204295\n",
       "    3.0     1520.12287517 ...        1565.18046111    1517.22981506\n",
       "    4.0     1730.25178683 ...        1753.44356509    1721.06173194\n",
       "    5.0     1971.06126082 ...        1970.84840299    1959.58116578\n",
       "    6.0     1357.66474535 ...        1385.99329849    1354.85936379\n",
       "    7.0     1220.96015919 ...        1230.77093108    1220.01693011"
      ]
     },
     "execution_count": 80,
     "metadata": {},
     "output_type": "execute_result"
    }
   ],
   "source": [
    "bkg_comparison = Table(names = ('Test', 'Median Sub (Circ)', 'Median Sub (CIS)', 'Average Sub (Circ)', \n",
    "                                'Average Sub (CIS)', 'Robust Average (Circ)', 'Robust Average (CIS)',\n",
    "                                'Annular Aperture'))\n",
    "for x in range(1,8):\n",
    "    circ_med = globals()['circ_med%s' % x]\n",
    "    cis_med  = globals()['cis_med%s' % x]\n",
    "    circ_avg = globals()['circ_avg%s' % x]\n",
    "    cis_avg  = globals()['cis_avg%s' % x]\n",
    "    circ_mad = globals()['circ_mad%s' % x]\n",
    "    cis_mad  = globals()['cis_mad%s' % x]\n",
    "    aper_std = globals()['aper_std%s' % x]\n",
    "    bkg_comparison.add_row([x, circ_med*1e6, cis_med*1e6, circ_avg*1e6, cis_avg*1e6, circ_mad*1e6, \n",
    "                            cis_mad*1e6, aper_std*1e6])\n",
    "bkg_comparison"
   ]
  }
 ],
 "metadata": {
  "kernelspec": {
   "display_name": "Python 2",
   "language": "python",
   "name": "python2"
  },
  "language_info": {
   "codemirror_mode": {
    "name": "ipython",
    "version": 2
   },
   "file_extension": ".py",
   "mimetype": "text/x-python",
   "name": "python",
   "nbconvert_exporter": "python",
   "pygments_lexer": "ipython2",
   "version": "2.7.11"
  }
 },
 "nbformat": 4,
 "nbformat_minor": 0
}
