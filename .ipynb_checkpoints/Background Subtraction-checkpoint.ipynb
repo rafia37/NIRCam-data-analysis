{
 "cells": [
  {
   "cell_type": "code",
   "execution_count": 3,
   "metadata": {
    "collapsed": true
   },
   "outputs": [],
   "source": [
    "from astropy.io import fits\n",
    "from astropy.table import Table, Column, hstack\n",
    "from astropy.modeling import models, fitting\n",
    "import pdb\n",
    "import numpy as np\n",
    "import rafias_lib as rl\n",
    "import glob\n",
    "import matplotlib\n",
    "import matplotlib.pyplot as plt\n",
    "%matplotlib inline\n",
    "plt.rcParams['figure.figsize'] = (10.0, 8.0)"
   ]
  },
  {
   "cell_type": "markdown",
   "metadata": {},
   "source": [
    "## General"
   ]
  },
  {
   "cell_type": "code",
   "execution_count": 4,
   "metadata": {
    "collapsed": true
   },
   "outputs": [],
   "source": [
    "def std_by_med(a1_center, b4_center, r, r_in, r_out, a1_hdu, b4_hdu, rf = True, rfs = False, \n",
    "               mode = \"shapes\", src_sh = \"Circ\", bkg_sh = \"Circ\", av = \"med\"):\n",
    "#     pdb.set_trace()\n",
    "    a1_data = rl.time_series(a1_center[1], a1_center[2], a1_hdu, r, r_in, r_out, red = rf, red2 = rfs, \n",
    "                             mode=mode, src_shape=src_sh, bkg_shape=bkg_sh, average=av)[2:]\n",
    "    b4_data = rl.time_series(b4_center[1], b4_center[2], b4_hdu, r, r_in, r_out, red = rf, red2 = rfs, \n",
    "                             mode=mode, src_shape=src_sh, bkg_shape=bkg_sh, average=av)[2:]\n",
    "    a1_res_dtrnd = rl.linear_bestfit(a1_data['time'], a1_data['res_flux'], 0.00002, 1)\n",
    "    b4_res_dtrnd = rl.linear_bestfit(b4_data['time'], b4_data['res_flux'], 0.00002, 1)\n",
    "    av_res_dtrnd = (a1_res_dtrnd+b4_res_dtrnd)/2\n",
    "    stdev = np.std(av_res_dtrnd/np.median(av_res_dtrnd))\n",
    "    return stdev*1e6"
   ]
  },
  {
   "cell_type": "markdown",
   "metadata": {},
   "source": [
    "## Test 1 (WLP8SUB)"
   ]
  },
  {
   "cell_type": "code",
   "execution_count": 5,
   "metadata": {
    "collapsed": false
   },
   "outputs": [
    {
     "data": {
      "text/plain": [
       "306"
      ]
     },
     "execution_count": 5,
     "metadata": {},
     "output_type": "execute_result"
    }
   ],
   "source": [
    "a11_files = glob.glob('/data1/tso_analysis/all_tso_cv3/raw_separated_MMM'\n",
    "                              '/NRCN821WLP8SUB-6012134600_1_481_SE_2016-01-12T16h42m53/*.slp.fits')\n",
    "len(a11_files)"
   ]
  },
  {
   "cell_type": "code",
   "execution_count": 6,
   "metadata": {
    "collapsed": false,
    "scrolled": true
   },
   "outputs": [
    {
     "data": {
      "text/plain": [
       "306"
      ]
     },
     "execution_count": 6,
     "metadata": {},
     "output_type": "execute_result"
    }
   ],
   "source": [
    "b41_files = glob.glob('/data1/tso_analysis/all_tso_cv3/raw_separated_MMM'\n",
    "                              '/NRCN821WLP8SUB-6012134957_1_489_SE_2016-01-12T16h43m29/*.slp.fits')[:306]\n",
    "len(b41_files)"
   ]
  },
  {
   "cell_type": "code",
   "execution_count": 7,
   "metadata": {
    "collapsed": true
   },
   "outputs": [],
   "source": [
    "a11_centers = rl.gen_center_g2d(166,160,5,400,2,2,0, a11_files)"
   ]
  },
  {
   "cell_type": "code",
   "execution_count": 8,
   "metadata": {
    "collapsed": true
   },
   "outputs": [],
   "source": [
    "b41_centers = rl.gen_center_g2d(162,156,5,500,2,2,0, b41_files)"
   ]
  },
  {
   "cell_type": "code",
   "execution_count": 8,
   "metadata": {
    "collapsed": false
   },
   "outputs": [
    {
     "data": {
      "text/plain": [
       "<module 'rafias_lib' from 'rafias_lib.py'>"
      ]
     },
     "execution_count": 8,
     "metadata": {},
     "output_type": "execute_result"
    }
   ],
   "source": [
    "reload(rl)"
   ]
  },
  {
   "cell_type": "code",
   "execution_count": 9,
   "metadata": {
    "collapsed": false,
    "scrolled": true
   },
   "outputs": [
    {
     "name": "stderr",
     "output_type": "stream",
     "text": [
      "WARNING: Model is linear in parameters; consider using linear fitting methods. [astropy.modeling.fitting]\n"
     ]
    },
    {
     "data": {
      "text/plain": [
       "512.14861017070621"
      ]
     },
     "execution_count": 9,
     "metadata": {},
     "output_type": "execute_result"
    }
   ],
   "source": [
    "circ_med1 = std_by_med(a11_centers, b41_centers, 70, 72, 80, a11_files, b41_files, rf = False, rfs = False)\n",
    "circ_med1"
   ]
  },
  {
   "cell_type": "code",
   "execution_count": 10,
   "metadata": {
    "collapsed": false
   },
   "outputs": [
    {
     "data": {
      "text/plain": [
       "500.49985914188062"
      ]
     },
     "execution_count": 10,
     "metadata": {},
     "output_type": "execute_result"
    }
   ],
   "source": [
    "cis_med1 = std_by_med(a11_centers, b41_centers, 70, 72, 80, a11_files, b41_files, rf = False,rfs = False, \n",
    "                      bkg_sh = \"CIS\")\n",
    "cis_med1"
   ]
  },
  {
   "cell_type": "code",
   "execution_count": 11,
   "metadata": {
    "collapsed": false
   },
   "outputs": [
    {
     "data": {
      "text/plain": [
       "496.33435446554921"
      ]
     },
     "execution_count": 11,
     "metadata": {},
     "output_type": "execute_result"
    }
   ],
   "source": [
    "circ_avg1 = std_by_med(a11_centers, b41_centers, 70, 72, 80, a11_files, b41_files, rf = False, rfs = False,\n",
    "                       av = \"avg\")\n",
    "circ_avg1"
   ]
  },
  {
   "cell_type": "code",
   "execution_count": 12,
   "metadata": {
    "collapsed": false
   },
   "outputs": [
    {
     "data": {
      "text/plain": [
       "498.88683493557363"
      ]
     },
     "execution_count": 12,
     "metadata": {},
     "output_type": "execute_result"
    }
   ],
   "source": [
    "cis_avg1 = std_by_med(a11_centers, b41_centers, 70, 72, 80, a11_files, b41_files, rf = False, rfs = False, \n",
    "                      bkg_sh = 'CIS', av = \"avg\")\n",
    "cis_avg1"
   ]
  },
  {
   "cell_type": "code",
   "execution_count": 13,
   "metadata": {
    "collapsed": false
   },
   "outputs": [
    {
     "name": "stderr",
     "output_type": "stream",
     "text": [
      "rafias_lib.py:223: RuntimeWarning: invalid value encountered in less\n",
      "  keep_pts = (np.abs(image2d-np.nanmedian(image2d[bkg_pts]))<(5*mad)) & bkg_pts\n"
     ]
    },
    {
     "data": {
      "text/plain": [
       "505.66662928029172"
      ]
     },
     "execution_count": 13,
     "metadata": {},
     "output_type": "execute_result"
    }
   ],
   "source": [
    "circ_mad1 = std_by_med(a11_centers, b41_centers, 70, 72, 80, a11_files, b41_files,rf = False,rfs = False,av = \"mad\")\n",
    "circ_mad1"
   ]
  },
  {
   "cell_type": "code",
   "execution_count": 14,
   "metadata": {
    "collapsed": false
   },
   "outputs": [
    {
     "data": {
      "text/plain": [
       "499.81790065561029"
      ]
     },
     "execution_count": 14,
     "metadata": {},
     "output_type": "execute_result"
    }
   ],
   "source": [
    "cis_mad1 = std_by_med(a11_centers, b41_centers, 70, 72, 80, a11_files, b41_files, rf = False, rfs = False, \n",
    "                      bkg_sh = 'CIS', av = \"mad\")\n",
    "cis_mad1"
   ]
  },
  {
   "cell_type": "code",
   "execution_count": 15,
   "metadata": {
    "collapsed": false,
    "scrolled": true
   },
   "outputs": [
    {
     "data": {
      "text/plain": [
       "499.37176358383039"
      ]
     },
     "execution_count": 15,
     "metadata": {},
     "output_type": "execute_result"
    }
   ],
   "source": [
    "aper_std1 = std_by_med(a11_centers, b41_centers, 70, 72, 80, a11_files, b41_files, rf = False, rfs = False, \n",
    "                   mode = \"astropy\")\n",
    "aper_std1"
   ]
  },
  {
   "cell_type": "code",
   "execution_count": 17,
   "metadata": {
    "collapsed": false
   },
   "outputs": [
    {
     "data": {
      "text/plain": [
       "<module 'rafias_lib' from 'rafias_lib.py'>"
      ]
     },
     "execution_count": 17,
     "metadata": {},
     "output_type": "execute_result"
    }
   ],
   "source": [
    "reload(rl)"
   ]
  },
  {
   "cell_type": "code",
   "execution_count": 18,
   "metadata": {
    "collapsed": false
   },
   "outputs": [
    {
     "data": {
      "text/plain": [
       "523.13705997310774"
      ]
     },
     "execution_count": 18,
     "metadata": {},
     "output_type": "execute_result"
    }
   ],
   "source": [
    "col_std1 = std_by_med(a11_centers, b41_centers, 70, None, None, a11_files, b41_files, rf = False, rfs = False, \n",
    "                   mode = \"col_col\")\n",
    "col_std1"
   ]
  },
  {
   "cell_type": "code",
   "execution_count": 19,
   "metadata": {
    "collapsed": false
   },
   "outputs": [
    {
     "data": {
      "text/plain": [
       "496.99346003079484"
      ]
     },
     "execution_count": 19,
     "metadata": {},
     "output_type": "execute_result"
    }
   ],
   "source": [
    "row_std1 = std_by_med(a11_centers, b41_centers, 70, None, None, a11_files, b41_files, rf = False, rfs = False, \n",
    "                   mode = \"row_row\")\n",
    "row_std1"
   ]
  },
  {
   "cell_type": "markdown",
   "metadata": {},
   "source": [
    "## Test 2 (WLP8SUB640)"
   ]
  },
  {
   "cell_type": "code",
   "execution_count": 20,
   "metadata": {
    "collapsed": false
   },
   "outputs": [
    {
     "data": {
      "text/plain": [
       "60"
      ]
     },
     "execution_count": 20,
     "metadata": {},
     "output_type": "execute_result"
    }
   ],
   "source": [
    "a12_files = glob.glob('/data1/tso_analysis/all_tso_cv3/raw_separated_MMM'\n",
    "                              '/NRCN821WLP8SUB640-6012195832_1_481_SE_2016-01-12T20h57m57/*.slp.fits')\n",
    "len(a12_files)"
   ]
  },
  {
   "cell_type": "code",
   "execution_count": 21,
   "metadata": {
    "collapsed": false
   },
   "outputs": [
    {
     "data": {
      "text/plain": [
       "60"
      ]
     },
     "execution_count": 21,
     "metadata": {},
     "output_type": "execute_result"
    }
   ],
   "source": [
    "b42_files = glob.glob('/data1/tso_analysis/all_tso_cv3/raw_separated_MMM'\n",
    "                              '/NRCN821WLP8SUB640-6012200140_1_489_SE_2016-01-12T20h58m27/*.slp.fits')\n",
    "len(b42_files)"
   ]
  },
  {
   "cell_type": "code",
   "execution_count": 22,
   "metadata": {
    "collapsed": true
   },
   "outputs": [],
   "source": [
    "a12_centers = rl.gen_center_g2d(326,320,5,400,2,2,0, a12_files)"
   ]
  },
  {
   "cell_type": "code",
   "execution_count": 23,
   "metadata": {
    "collapsed": true
   },
   "outputs": [],
   "source": [
    "b42_centers = rl.gen_center_g2d(319,316,5,500,2,2,0, b42_files)"
   ]
  },
  {
   "cell_type": "code",
   "execution_count": 24,
   "metadata": {
    "collapsed": false
   },
   "outputs": [
    {
     "data": {
      "text/plain": [
       "1215.644125619436"
      ]
     },
     "execution_count": 24,
     "metadata": {},
     "output_type": "execute_result"
    }
   ],
   "source": [
    "circ_med2 = std_by_med(a12_centers, b42_centers, 70, 72, 80, a12_files, b42_files, rf = False, rfs = False)\n",
    "circ_med2"
   ]
  },
  {
   "cell_type": "code",
   "execution_count": 25,
   "metadata": {
    "collapsed": false
   },
   "outputs": [
    {
     "data": {
      "text/plain": [
       "1220.0815030486442"
      ]
     },
     "execution_count": 25,
     "metadata": {},
     "output_type": "execute_result"
    }
   ],
   "source": [
    "cis_med2 = std_by_med(a12_centers, b42_centers, 70, 72, 80, a12_files, b42_files, rf = False, rfs = False, \n",
    "                      bkg_sh = 'CIS')\n",
    "cis_med2"
   ]
  },
  {
   "cell_type": "code",
   "execution_count": 26,
   "metadata": {
    "collapsed": false
   },
   "outputs": [
    {
     "data": {
      "text/plain": [
       "1215.624527887943"
      ]
     },
     "execution_count": 26,
     "metadata": {},
     "output_type": "execute_result"
    }
   ],
   "source": [
    "circ_avg2 = std_by_med(a12_centers, b42_centers, 70, 72, 80, a12_files, b42_files, rf = False, rfs = False, \n",
    "                       av = \"avg\")\n",
    "circ_avg2"
   ]
  },
  {
   "cell_type": "code",
   "execution_count": 27,
   "metadata": {
    "collapsed": false
   },
   "outputs": [
    {
     "data": {
      "text/plain": [
       "1209.8085374912123"
      ]
     },
     "execution_count": 27,
     "metadata": {},
     "output_type": "execute_result"
    }
   ],
   "source": [
    "cis_avg2 = std_by_med(a12_centers, b42_centers, 70, 72, 80, a12_files, b42_files, rf = False, rfs = False, \n",
    "                      bkg_sh = 'CIS', av = \"avg\")\n",
    "cis_avg2"
   ]
  },
  {
   "cell_type": "code",
   "execution_count": 28,
   "metadata": {
    "collapsed": false
   },
   "outputs": [
    {
     "data": {
      "text/plain": [
       "1201.6180848211279"
      ]
     },
     "execution_count": 28,
     "metadata": {},
     "output_type": "execute_result"
    }
   ],
   "source": [
    "circ_mad2 = std_by_med(a12_centers, b42_centers, 70, 72, 80, a12_files, b42_files, rf = False, rfs = False, \n",
    "                       av = \"mad\")\n",
    "circ_mad2"
   ]
  },
  {
   "cell_type": "code",
   "execution_count": 29,
   "metadata": {
    "collapsed": false
   },
   "outputs": [
    {
     "data": {
      "text/plain": [
       "1226.1005512452771"
      ]
     },
     "execution_count": 29,
     "metadata": {},
     "output_type": "execute_result"
    }
   ],
   "source": [
    "cis_mad2 = std_by_med(a12_centers, b42_centers, 70, 72, 80, a12_files, b42_files, rf = False, rfs = False, \n",
    "                      bkg_sh = 'CIS', av = \"mad\")\n",
    "cis_mad2"
   ]
  },
  {
   "cell_type": "code",
   "execution_count": 30,
   "metadata": {
    "collapsed": false
   },
   "outputs": [
    {
     "data": {
      "text/plain": [
       "1206.9736379209207"
      ]
     },
     "execution_count": 30,
     "metadata": {},
     "output_type": "execute_result"
    }
   ],
   "source": [
    "aper_std2 = std_by_med(a12_centers, b42_centers, 70, 72, 80, a12_files, b42_files, rf = False, rfs = False, \n",
    "                   mode = \"astropy\")\n",
    "aper_std2"
   ]
  },
  {
   "cell_type": "code",
   "execution_count": 31,
   "metadata": {
    "collapsed": false
   },
   "outputs": [
    {
     "data": {
      "text/plain": [
       "1338.8899100676806"
      ]
     },
     "execution_count": 31,
     "metadata": {},
     "output_type": "execute_result"
    }
   ],
   "source": [
    "col_std2 = std_by_med(a12_centers, b42_centers, 70, None, None, a12_files, b42_files, rf = False, rfs = False, \n",
    "                   mode = \"col_col\")\n",
    "col_std2"
   ]
  },
  {
   "cell_type": "code",
   "execution_count": 32,
   "metadata": {
    "collapsed": false
   },
   "outputs": [
    {
     "data": {
      "text/plain": [
       "1206.3547543355212"
      ]
     },
     "execution_count": 32,
     "metadata": {},
     "output_type": "execute_result"
    }
   ],
   "source": [
    "row_std2 = std_by_med(a12_centers, b42_centers, 70, None, None, a12_files, b42_files, rf = False, rfs = False, \n",
    "                   mode = \"row_row\")\n",
    "row_std2"
   ]
  },
  {
   "cell_type": "markdown",
   "metadata": {},
   "source": [
    "## Test 3 (Full 1)"
   ]
  },
  {
   "cell_type": "code",
   "execution_count": 33,
   "metadata": {
    "collapsed": false
   },
   "outputs": [
    {
     "data": {
      "text/plain": [
       "225"
      ]
     },
     "execution_count": 33,
     "metadata": {},
     "output_type": "execute_result"
    }
   ],
   "source": [
    "a13_files = glob.glob('/data1/tso_analysis/all_tso_cv3/raw_separated_MMM'\n",
    "                              '/NRCN821WLP8FULL1-6012051326_1_481_SE_2016-01-12T08h55m24/*.red.fits')\n",
    "len(a13_files)"
   ]
  },
  {
   "cell_type": "code",
   "execution_count": 34,
   "metadata": {
    "collapsed": false
   },
   "outputs": [
    {
     "data": {
      "text/plain": [
       "225"
      ]
     },
     "execution_count": 34,
     "metadata": {},
     "output_type": "execute_result"
    }
   ],
   "source": [
    "b43_files = glob.glob('/data1/tso_analysis/all_tso_cv3/raw_separated_MMM'\n",
    "                              '/NRCN821WLP8FULL1-6012051528_1_489_SE_2016-01-12T08h30m07/*.red.fits')\n",
    "len(b43_files)"
   ]
  },
  {
   "cell_type": "code",
   "execution_count": 35,
   "metadata": {
    "collapsed": false
   },
   "outputs": [],
   "source": [
    "a13_centers = rl.gen_center_g2d(1405,1036,5,400,4,4,0, a13_files, red = True)"
   ]
  },
  {
   "cell_type": "code",
   "execution_count": 36,
   "metadata": {
    "collapsed": false
   },
   "outputs": [],
   "source": [
    "b43_centers = rl.gen_center_g2d(828,821,5,600,4,4,0, b43_files, red = True)"
   ]
  },
  {
   "cell_type": "code",
   "execution_count": 37,
   "metadata": {
    "collapsed": false
   },
   "outputs": [
    {
     "data": {
      "text/plain": [
       "1302.2095195568434"
      ]
     },
     "execution_count": 37,
     "metadata": {},
     "output_type": "execute_result"
    }
   ],
   "source": [
    "circ_med3 = std_by_med(a13_centers, b43_centers, 70, 72, 80, a13_files, b43_files)\n",
    "circ_med3"
   ]
  },
  {
   "cell_type": "code",
   "execution_count": 38,
   "metadata": {
    "collapsed": false
   },
   "outputs": [
    {
     "data": {
      "text/plain": [
       "1348.2532605666522"
      ]
     },
     "execution_count": 38,
     "metadata": {},
     "output_type": "execute_result"
    }
   ],
   "source": [
    "cis_med3 = std_by_med(a13_centers, b43_centers, 70, 72, 80, a13_files, b43_files, bkg_sh = 'CIS')\n",
    "cis_med3"
   ]
  },
  {
   "cell_type": "code",
   "execution_count": 39,
   "metadata": {
    "collapsed": false
   },
   "outputs": [
    {
     "data": {
      "text/plain": [
       "1293.0851216938606"
      ]
     },
     "execution_count": 39,
     "metadata": {},
     "output_type": "execute_result"
    }
   ],
   "source": [
    "circ_avg3 = std_by_med(a13_centers, b43_centers, 70, 72, 80, a13_files, b43_files, av = \"avg\")\n",
    "circ_avg3"
   ]
  },
  {
   "cell_type": "code",
   "execution_count": 40,
   "metadata": {
    "collapsed": false
   },
   "outputs": [
    {
     "data": {
      "text/plain": [
       "1339.4297527400856"
      ]
     },
     "execution_count": 40,
     "metadata": {},
     "output_type": "execute_result"
    }
   ],
   "source": [
    "cis_avg3 = std_by_med(a13_centers, b43_centers, 70, 72, 80, a13_files, b43_files,rf = True,bkg_sh = 'CIS',av = \"avg\")\n",
    "cis_avg3"
   ]
  },
  {
   "cell_type": "code",
   "execution_count": 41,
   "metadata": {
    "collapsed": false
   },
   "outputs": [
    {
     "data": {
      "text/plain": [
       "1301.1390626839609"
      ]
     },
     "execution_count": 41,
     "metadata": {},
     "output_type": "execute_result"
    }
   ],
   "source": [
    "circ_mad3 = std_by_med(a13_centers, b43_centers, 70, 72, 80, a13_files, b43_files, av = \"mad\")\n",
    "circ_mad3"
   ]
  },
  {
   "cell_type": "code",
   "execution_count": 42,
   "metadata": {
    "collapsed": false
   },
   "outputs": [
    {
     "data": {
      "text/plain": [
       "1344.6318892824904"
      ]
     },
     "execution_count": 42,
     "metadata": {},
     "output_type": "execute_result"
    }
   ],
   "source": [
    "cis_mad3 = std_by_med(a13_centers, b43_centers, 70, 72, 80, a13_files, b43_files, \n",
    "                      bkg_sh = 'CIS', av = \"mad\")\n",
    "cis_mad3"
   ]
  },
  {
   "cell_type": "code",
   "execution_count": 43,
   "metadata": {
    "collapsed": false
   },
   "outputs": [
    {
     "data": {
      "text/plain": [
       "1294.0794611437236"
      ]
     },
     "execution_count": 43,
     "metadata": {},
     "output_type": "execute_result"
    }
   ],
   "source": [
    "aper_std3 = std_by_med(a13_centers, b43_centers, 70, 72, 80, a13_files, b43_files, mode = \"astropy\")\n",
    "aper_std3"
   ]
  },
  {
   "cell_type": "code",
   "execution_count": 44,
   "metadata": {
    "collapsed": false,
    "scrolled": true
   },
   "outputs": [
    {
     "data": {
      "text/plain": [
       "1584.7469428262316"
      ]
     },
     "execution_count": 44,
     "metadata": {},
     "output_type": "execute_result"
    }
   ],
   "source": [
    "col_std3 = std_by_med(a13_centers, b43_centers, 70, None, None, a13_files, b43_files, mode = \"col_col\")\n",
    "col_std3"
   ]
  },
  {
   "cell_type": "code",
   "execution_count": 45,
   "metadata": {
    "collapsed": false,
    "scrolled": true
   },
   "outputs": [
    {
     "data": {
      "text/plain": [
       "1229.697704274075"
      ]
     },
     "execution_count": 45,
     "metadata": {},
     "output_type": "execute_result"
    }
   ],
   "source": [
    "row_std3 = std_by_med(a13_centers, b43_centers, 70, None, None, a13_files, b43_files, mode = \"row_row\")\n",
    "row_std3"
   ]
  },
  {
   "cell_type": "markdown",
   "metadata": {},
   "source": [
    "## Test 4 (Full 2)"
   ]
  },
  {
   "cell_type": "code",
   "execution_count": 46,
   "metadata": {
    "collapsed": false
   },
   "outputs": [
    {
     "data": {
      "text/plain": [
       "225"
      ]
     },
     "execution_count": 46,
     "metadata": {},
     "output_type": "execute_result"
    }
   ],
   "source": [
    "a14_files = glob.glob('/data1/tso_analysis/all_tso_cv3/raw_separated_MMM'\n",
    "                              '/NRCN821WLP8FULL2-6012072417_1_481_SE_2016-01-12T10h40m58/*.red.fits')\n",
    "len(a14_files)"
   ]
  },
  {
   "cell_type": "code",
   "execution_count": 47,
   "metadata": {
    "collapsed": false
   },
   "outputs": [
    {
     "data": {
      "text/plain": [
       "225"
      ]
     },
     "execution_count": 47,
     "metadata": {},
     "output_type": "execute_result"
    }
   ],
   "source": [
    "b44_files = glob.glob('/data1/tso_analysis/all_tso_cv3/raw_separated_MMM'\n",
    "                              '/NRCN821WLP8FULL2-6012072532_1_489_SE_2016-01-12T11h09m06/*.red.fits')\n",
    "len(b44_files)"
   ]
  },
  {
   "cell_type": "code",
   "execution_count": 48,
   "metadata": {
    "collapsed": true
   },
   "outputs": [],
   "source": [
    "a14_centers = rl.gen_center_g2d(1405,1036,5,400,4,4,0, a14_files, red = True)"
   ]
  },
  {
   "cell_type": "code",
   "execution_count": 49,
   "metadata": {
    "collapsed": true
   },
   "outputs": [],
   "source": [
    "b44_centers = rl.gen_center_g2d(828,821,5,600,4,4,0, b44_files, red = True)"
   ]
  },
  {
   "cell_type": "code",
   "execution_count": 50,
   "metadata": {
    "collapsed": false
   },
   "outputs": [
    {
     "data": {
      "text/plain": [
       "1586.0898243059944"
      ]
     },
     "execution_count": 50,
     "metadata": {},
     "output_type": "execute_result"
    }
   ],
   "source": [
    "circ_med4 = std_by_med(a14_centers, b44_centers, 70, 72, 80, a14_files, b44_files)\n",
    "circ_med4"
   ]
  },
  {
   "cell_type": "code",
   "execution_count": 51,
   "metadata": {
    "collapsed": false
   },
   "outputs": [
    {
     "data": {
      "text/plain": [
       "1605.9078246539966"
      ]
     },
     "execution_count": 51,
     "metadata": {},
     "output_type": "execute_result"
    }
   ],
   "source": [
    "cis_med4 = std_by_med(a14_centers, b44_centers, 70, 72, 80, a14_files, b44_files, \n",
    "                      bkg_sh = 'CIS')\n",
    "cis_med4"
   ]
  },
  {
   "cell_type": "code",
   "execution_count": 52,
   "metadata": {
    "collapsed": false
   },
   "outputs": [
    {
     "data": {
      "text/plain": [
       "1578.5806971821114"
      ]
     },
     "execution_count": 52,
     "metadata": {},
     "output_type": "execute_result"
    }
   ],
   "source": [
    "circ_avg4 = std_by_med(a14_centers, b44_centers, 70, 72, 80, a14_files, b44_files, av = \"avg\")\n",
    "circ_avg4"
   ]
  },
  {
   "cell_type": "code",
   "execution_count": 53,
   "metadata": {
    "collapsed": false
   },
   "outputs": [
    {
     "data": {
      "text/plain": [
       "1613.4822991744734"
      ]
     },
     "execution_count": 53,
     "metadata": {},
     "output_type": "execute_result"
    }
   ],
   "source": [
    "cis_avg4 = std_by_med(a14_centers, b44_centers, 70, 72, 80, a14_files, b44_files, \n",
    "                      bkg_sh = 'CIS', av = \"avg\")\n",
    "cis_avg4"
   ]
  },
  {
   "cell_type": "code",
   "execution_count": 54,
   "metadata": {
    "collapsed": false
   },
   "outputs": [
    {
     "data": {
      "text/plain": [
       "1584.4370369812868"
      ]
     },
     "execution_count": 54,
     "metadata": {},
     "output_type": "execute_result"
    }
   ],
   "source": [
    "circ_mad4 = std_by_med(a14_centers, b44_centers, 70, 72, 80, a14_files, b44_files, av = \"mad\")\n",
    "circ_mad4"
   ]
  },
  {
   "cell_type": "code",
   "execution_count": 55,
   "metadata": {
    "collapsed": false
   },
   "outputs": [
    {
     "data": {
      "text/plain": [
       "1607.4985518207839"
      ]
     },
     "execution_count": 55,
     "metadata": {},
     "output_type": "execute_result"
    }
   ],
   "source": [
    "cis_mad4 = std_by_med(a14_centers, b44_centers, 70, 72, 80, a14_files, b44_files, \n",
    "                      bkg_sh = 'CIS', av = \"mad\")\n",
    "cis_mad4"
   ]
  },
  {
   "cell_type": "code",
   "execution_count": 56,
   "metadata": {
    "collapsed": false
   },
   "outputs": [
    {
     "data": {
      "text/plain": [
       "1572.7469962730045"
      ]
     },
     "execution_count": 56,
     "metadata": {},
     "output_type": "execute_result"
    }
   ],
   "source": [
    "aper_std4 = std_by_med(a14_centers, b44_centers, 70, 72, 80, a14_files, b44_files, mode = \"astropy\")\n",
    "aper_std4"
   ]
  },
  {
   "cell_type": "code",
   "execution_count": 57,
   "metadata": {
    "collapsed": false
   },
   "outputs": [
    {
     "data": {
      "text/plain": [
       "1805.9899068160339"
      ]
     },
     "execution_count": 57,
     "metadata": {},
     "output_type": "execute_result"
    }
   ],
   "source": [
    "col_std4 = std_by_med(a14_centers, b44_centers, 70, None, None, a14_files, b44_files, mode = \"col_col\")\n",
    "col_std4"
   ]
  },
  {
   "cell_type": "code",
   "execution_count": 58,
   "metadata": {
    "collapsed": false
   },
   "outputs": [
    {
     "data": {
      "text/plain": [
       "1542.3652956568117"
      ]
     },
     "execution_count": 58,
     "metadata": {},
     "output_type": "execute_result"
    }
   ],
   "source": [
    "row_std4 = std_by_med(a14_centers, b44_centers, 70, None, None, a14_files, b44_files, mode = \"row_row\")\n",
    "row_std4"
   ]
  },
  {
   "cell_type": "markdown",
   "metadata": {},
   "source": [
    "## Test 5 (Full 3)"
   ]
  },
  {
   "cell_type": "code",
   "execution_count": 59,
   "metadata": {
    "collapsed": false
   },
   "outputs": [
    {
     "data": {
      "text/plain": [
       "225"
      ]
     },
     "execution_count": 59,
     "metadata": {},
     "output_type": "execute_result"
    }
   ],
   "source": [
    "a15_files = glob.glob('/data1/tso_analysis/all_tso_cv3/raw_separated_MMM'\n",
    "                              '/NRCN821WLP8FULL3-6012093326_1_481_SE_2016-01-12T12h47m44/*.red.fits')\n",
    "len(a15_files)"
   ]
  },
  {
   "cell_type": "code",
   "execution_count": 60,
   "metadata": {
    "collapsed": false
   },
   "outputs": [
    {
     "data": {
      "text/plain": [
       "225"
      ]
     },
     "execution_count": 60,
     "metadata": {},
     "output_type": "execute_result"
    }
   ],
   "source": [
    "b45_files = glob.glob('/data1/tso_analysis/all_tso_cv3/raw_separated_MMM'\n",
    "                              '/NRCN821WLP8FULL3-6012093432_1_489_SE_2016-01-12T12h52m21/*.red.fits')\n",
    "len(b45_files)"
   ]
  },
  {
   "cell_type": "code",
   "execution_count": 61,
   "metadata": {
    "collapsed": false
   },
   "outputs": [],
   "source": [
    "a15_centers = rl.gen_center_g2d(1405,1036,5,400,4,4,0, a15_files, red = True)"
   ]
  },
  {
   "cell_type": "code",
   "execution_count": 62,
   "metadata": {
    "collapsed": false
   },
   "outputs": [],
   "source": [
    "b45_centers = rl.gen_center_g2d(828,821,5,600,4,4,0, b45_files, red = True)"
   ]
  },
  {
   "cell_type": "code",
   "execution_count": 63,
   "metadata": {
    "collapsed": false
   },
   "outputs": [
    {
     "data": {
      "text/plain": [
       "1063.1328916925643"
      ]
     },
     "execution_count": 63,
     "metadata": {},
     "output_type": "execute_result"
    }
   ],
   "source": [
    "circ_med5 = std_by_med(a15_centers, b45_centers, 70, 72, 80, a15_files, b45_files)\n",
    "circ_med5"
   ]
  },
  {
   "cell_type": "code",
   "execution_count": 64,
   "metadata": {
    "collapsed": false
   },
   "outputs": [
    {
     "data": {
      "text/plain": [
       "1079.7644446473832"
      ]
     },
     "execution_count": 64,
     "metadata": {},
     "output_type": "execute_result"
    }
   ],
   "source": [
    "cis_med5 = std_by_med(a15_centers, b45_centers, 70, 72, 80, a15_files, b45_files, bkg_sh = 'CIS')\n",
    "cis_med5"
   ]
  },
  {
   "cell_type": "code",
   "execution_count": 65,
   "metadata": {
    "collapsed": false
   },
   "outputs": [
    {
     "data": {
      "text/plain": [
       "1028.1018752212901"
      ]
     },
     "execution_count": 65,
     "metadata": {},
     "output_type": "execute_result"
    }
   ],
   "source": [
    "circ_avg5 = std_by_med(a15_centers, b45_centers, 70, 72, 80, a15_files, b45_files, av = \"avg\")\n",
    "circ_avg5"
   ]
  },
  {
   "cell_type": "code",
   "execution_count": 66,
   "metadata": {
    "collapsed": false
   },
   "outputs": [
    {
     "data": {
      "text/plain": [
       "1069.8110580408538"
      ]
     },
     "execution_count": 66,
     "metadata": {},
     "output_type": "execute_result"
    }
   ],
   "source": [
    "cis_avg5 = std_by_med(a15_centers, b45_centers, 70, 72, 80, a15_files, b45_files, \n",
    "                      bkg_sh = 'CIS', av = \"avg\")\n",
    "cis_avg5"
   ]
  },
  {
   "cell_type": "code",
   "execution_count": 67,
   "metadata": {
    "collapsed": false
   },
   "outputs": [
    {
     "data": {
      "text/plain": [
       "1040.9748697254386"
      ]
     },
     "execution_count": 67,
     "metadata": {},
     "output_type": "execute_result"
    }
   ],
   "source": [
    "circ_mad5 = std_by_med(a15_centers, b45_centers, 70, 72, 80, a15_files, b45_files, av = \"mad\")\n",
    "circ_mad5"
   ]
  },
  {
   "cell_type": "code",
   "execution_count": 68,
   "metadata": {
    "collapsed": false
   },
   "outputs": [
    {
     "data": {
      "text/plain": [
       "1070.4137366190735"
      ]
     },
     "execution_count": 68,
     "metadata": {},
     "output_type": "execute_result"
    }
   ],
   "source": [
    "cis_mad5 = std_by_med(a15_centers, b45_centers, 70, 72, 80, a15_files, b45_files, \n",
    "                      bkg_sh = 'CIS', av = \"mad\")\n",
    "cis_mad5"
   ]
  },
  {
   "cell_type": "code",
   "execution_count": 69,
   "metadata": {
    "collapsed": false
   },
   "outputs": [
    {
     "data": {
      "text/plain": [
       "1030.344848412069"
      ]
     },
     "execution_count": 69,
     "metadata": {},
     "output_type": "execute_result"
    }
   ],
   "source": [
    "aper_std5 = std_by_med(a15_centers, b45_centers, 70, 72, 80, a15_files, b45_files, mode = \"astropy\")\n",
    "aper_std5"
   ]
  },
  {
   "cell_type": "code",
   "execution_count": 70,
   "metadata": {
    "collapsed": false
   },
   "outputs": [
    {
     "data": {
      "text/plain": [
       "1366.5999190779607"
      ]
     },
     "execution_count": 70,
     "metadata": {},
     "output_type": "execute_result"
    }
   ],
   "source": [
    "col_std5 = std_by_med(a15_centers, b45_centers, 70, None, None, a15_files, b45_files, mode = \"col_col\")\n",
    "col_std5"
   ]
  },
  {
   "cell_type": "code",
   "execution_count": 71,
   "metadata": {
    "collapsed": false
   },
   "outputs": [
    {
     "data": {
      "text/plain": [
       "1021.506179378412"
      ]
     },
     "execution_count": 71,
     "metadata": {},
     "output_type": "execute_result"
    }
   ],
   "source": [
    "row_std5 = std_by_med(a15_centers, b45_centers, 70, None, None, a15_files, b45_files, mode = \"row_row\")\n",
    "row_std5"
   ]
  },
  {
   "cell_type": "markdown",
   "metadata": {},
   "source": [
    "## Test 6 (Full 4)"
   ]
  },
  {
   "cell_type": "code",
   "execution_count": 72,
   "metadata": {
    "collapsed": false
   },
   "outputs": [
    {
     "data": {
      "text/plain": [
       "225"
      ]
     },
     "execution_count": 72,
     "metadata": {},
     "output_type": "execute_result"
    }
   ],
   "source": [
    "a16_files = glob.glob('/data1/tso_analysis/all_tso_cv3/raw_separated_MMM'\n",
    "                              '/NRCN821WLP8FULL4-6012114105_1_481_SE_2016-01-12T14h25m53/*.red.fits')\n",
    "len(a16_files)"
   ]
  },
  {
   "cell_type": "code",
   "execution_count": 73,
   "metadata": {
    "collapsed": false
   },
   "outputs": [
    {
     "data": {
      "text/plain": [
       "225"
      ]
     },
     "execution_count": 73,
     "metadata": {},
     "output_type": "execute_result"
    }
   ],
   "source": [
    "b46_files = glob.glob('/data1/tso_analysis/all_tso_cv3/raw_separated_MMM'\n",
    "                              '/NRCN821WLP8FULL4-6012114212_1_489_SE_2016-01-12T14h58m10/*.red.fits')\n",
    "len(b46_files)"
   ]
  },
  {
   "cell_type": "code",
   "execution_count": 74,
   "metadata": {
    "collapsed": false
   },
   "outputs": [],
   "source": [
    "a16_centers = rl.gen_center_g2d(1405,1036,5,400,4,4,0, a16_files, red = True)"
   ]
  },
  {
   "cell_type": "code",
   "execution_count": 75,
   "metadata": {
    "collapsed": false
   },
   "outputs": [],
   "source": [
    "b46_centers = rl.gen_center_g2d(828,821,5,600,4,4,0, b46_files, red = True)"
   ]
  },
  {
   "cell_type": "code",
   "execution_count": 76,
   "metadata": {
    "collapsed": false
   },
   "outputs": [
    {
     "data": {
      "text/plain": [
       "1119.9357089522125"
      ]
     },
     "execution_count": 76,
     "metadata": {},
     "output_type": "execute_result"
    }
   ],
   "source": [
    "circ_med6 = std_by_med(a16_centers, b46_centers, 70, 72, 80, a16_files, b46_files)\n",
    "circ_med6"
   ]
  },
  {
   "cell_type": "code",
   "execution_count": 77,
   "metadata": {
    "collapsed": false
   },
   "outputs": [
    {
     "data": {
      "text/plain": [
       "1166.3577576060645"
      ]
     },
     "execution_count": 77,
     "metadata": {},
     "output_type": "execute_result"
    }
   ],
   "source": [
    "cis_med6 = std_by_med(a16_centers, b46_centers, 70, 72, 80, a16_files, b46_files, bkg_sh = 'CIS')\n",
    "cis_med6"
   ]
  },
  {
   "cell_type": "code",
   "execution_count": 78,
   "metadata": {
    "collapsed": false
   },
   "outputs": [
    {
     "data": {
      "text/plain": [
       "1111.0319802576744"
      ]
     },
     "execution_count": 78,
     "metadata": {},
     "output_type": "execute_result"
    }
   ],
   "source": [
    "circ_avg6 = std_by_med(a16_centers, b46_centers, 70, 72, 80, a16_files, b46_files, av = \"avg\")\n",
    "circ_avg6"
   ]
  },
  {
   "cell_type": "code",
   "execution_count": 79,
   "metadata": {
    "collapsed": false
   },
   "outputs": [
    {
     "data": {
      "text/plain": [
       "1156.9281172453111"
      ]
     },
     "execution_count": 79,
     "metadata": {},
     "output_type": "execute_result"
    }
   ],
   "source": [
    "cis_avg6 = std_by_med(a16_centers, b46_centers, 70, 72, 80, a16_files, b46_files, \n",
    "                      bkg_sh = 'CIS', av = \"avg\")\n",
    "cis_avg6"
   ]
  },
  {
   "cell_type": "code",
   "execution_count": 80,
   "metadata": {
    "collapsed": false
   },
   "outputs": [
    {
     "data": {
      "text/plain": [
       "1118.6304348728199"
      ]
     },
     "execution_count": 80,
     "metadata": {},
     "output_type": "execute_result"
    }
   ],
   "source": [
    "circ_mad6 = std_by_med(a16_centers, b46_centers, 70, 72, 80, a16_files, b46_files, av = \"mad\")\n",
    "circ_mad6"
   ]
  },
  {
   "cell_type": "code",
   "execution_count": 81,
   "metadata": {
    "collapsed": false
   },
   "outputs": [
    {
     "data": {
      "text/plain": [
       "1153.3011757148076"
      ]
     },
     "execution_count": 81,
     "metadata": {},
     "output_type": "execute_result"
    }
   ],
   "source": [
    "cis_mad6 = std_by_med(a16_centers, b46_centers, 70, 72, 80, a16_files, b46_files, \n",
    "                      bkg_sh = 'CIS', av = \"mad\")\n",
    "cis_mad6"
   ]
  },
  {
   "cell_type": "code",
   "execution_count": 82,
   "metadata": {
    "collapsed": false
   },
   "outputs": [
    {
     "data": {
      "text/plain": [
       "1110.745021662417"
      ]
     },
     "execution_count": 82,
     "metadata": {},
     "output_type": "execute_result"
    }
   ],
   "source": [
    "aper_std6 = std_by_med(a16_centers, b46_centers, 70, 72, 80, a16_files, b46_files, mode = \"astropy\")\n",
    "aper_std6"
   ]
  },
  {
   "cell_type": "code",
   "execution_count": 83,
   "metadata": {
    "collapsed": false
   },
   "outputs": [
    {
     "data": {
      "text/plain": [
       "1471.5159883695894"
      ]
     },
     "execution_count": 83,
     "metadata": {},
     "output_type": "execute_result"
    }
   ],
   "source": [
    "col_std6 = std_by_med(a16_centers, b46_centers, 70, None, None, a16_files, b46_files, mode = \"col_col\")\n",
    "col_std6"
   ]
  },
  {
   "cell_type": "code",
   "execution_count": 84,
   "metadata": {
    "collapsed": false
   },
   "outputs": [
    {
     "data": {
      "text/plain": [
       "1056.6776077012985"
      ]
     },
     "execution_count": 84,
     "metadata": {},
     "output_type": "execute_result"
    }
   ],
   "source": [
    "row_std6 = std_by_med(a16_centers, b46_centers, 70, None, None, a16_files, b46_files, mode = \"row_row\")\n",
    "row_std6"
   ]
  },
  {
   "cell_type": "markdown",
   "metadata": {},
   "source": [
    "## Test 7 (Full 5)"
   ]
  },
  {
   "cell_type": "code",
   "execution_count": 85,
   "metadata": {
    "collapsed": false
   },
   "outputs": [
    {
     "data": {
      "text/plain": [
       "110"
      ]
     },
     "execution_count": 85,
     "metadata": {},
     "output_type": "execute_result"
    }
   ],
   "source": [
    "a17_files = glob.glob('/data1/tso_analysis/all_tso_cv3/raw_separated_MMM'\n",
    "                              '/NRCN821WLP8FULL5-6012184421_1_481_SE_2016-01-12T20h26m57/*.red.fits')\n",
    "len(a17_files)"
   ]
  },
  {
   "cell_type": "code",
   "execution_count": 86,
   "metadata": {
    "collapsed": false
   },
   "outputs": [
    {
     "data": {
      "text/plain": [
       "110"
      ]
     },
     "execution_count": 86,
     "metadata": {},
     "output_type": "execute_result"
    }
   ],
   "source": [
    "b47_files = glob.glob('/data1/tso_analysis/all_tso_cv3/raw_separated_MMM'\n",
    "                              '/NRCN821WLP8FULL5-6012185018_1_489_SE_2016-01-12T20h20m15/*.red.fits')\n",
    "len(b47_files)"
   ]
  },
  {
   "cell_type": "code",
   "execution_count": 87,
   "metadata": {
    "collapsed": false
   },
   "outputs": [],
   "source": [
    "a17_centers = rl.gen_center_g2d(1405,1036,5,400,4,4,0, a17_files, red = True)"
   ]
  },
  {
   "cell_type": "code",
   "execution_count": 88,
   "metadata": {
    "collapsed": false
   },
   "outputs": [],
   "source": [
    "b47_centers = rl.gen_center_g2d(828,821,5,600,4,4,0, b47_files, red = True)"
   ]
  },
  {
   "cell_type": "code",
   "execution_count": 89,
   "metadata": {
    "collapsed": false
   },
   "outputs": [
    {
     "data": {
      "text/plain": [
       "849.6625579994037"
      ]
     },
     "execution_count": 89,
     "metadata": {},
     "output_type": "execute_result"
    }
   ],
   "source": [
    "circ_med7 = std_by_med(a17_centers, b47_centers, 70, 72, 80, a17_files, b47_files)\n",
    "circ_med7"
   ]
  },
  {
   "cell_type": "code",
   "execution_count": 90,
   "metadata": {
    "collapsed": false
   },
   "outputs": [
    {
     "data": {
      "text/plain": [
       "909.14286210377361"
      ]
     },
     "execution_count": 90,
     "metadata": {},
     "output_type": "execute_result"
    }
   ],
   "source": [
    "cis_med7 = std_by_med(a17_centers, b47_centers, 70, 72, 80, a17_files, b47_files, bkg_sh = 'CIS')\n",
    "cis_med7"
   ]
  },
  {
   "cell_type": "code",
   "execution_count": 91,
   "metadata": {
    "collapsed": false
   },
   "outputs": [
    {
     "data": {
      "text/plain": [
       "834.65804045213588"
      ]
     },
     "execution_count": 91,
     "metadata": {},
     "output_type": "execute_result"
    }
   ],
   "source": [
    "circ_avg7 = std_by_med(a17_centers, b47_centers, 70, 72, 80, a17_files, b47_files, av = \"avg\")\n",
    "circ_avg7"
   ]
  },
  {
   "cell_type": "code",
   "execution_count": 92,
   "metadata": {
    "collapsed": false
   },
   "outputs": [
    {
     "data": {
      "text/plain": [
       "884.58985500824792"
      ]
     },
     "execution_count": 92,
     "metadata": {},
     "output_type": "execute_result"
    }
   ],
   "source": [
    "cis_avg7 = std_by_med(a17_centers, b47_centers, 70, 72, 80, a17_files, b47_files, \n",
    "                      bkg_sh = 'CIS', av = \"avg\")\n",
    "cis_avg7"
   ]
  },
  {
   "cell_type": "code",
   "execution_count": 93,
   "metadata": {
    "collapsed": false
   },
   "outputs": [
    {
     "data": {
      "text/plain": [
       "837.70588718705221"
      ]
     },
     "execution_count": 93,
     "metadata": {},
     "output_type": "execute_result"
    }
   ],
   "source": [
    "circ_mad7 = std_by_med(a17_centers, b47_centers, 70, 72, 80, a17_files, b47_files, av = \"mad\")\n",
    "circ_mad7"
   ]
  },
  {
   "cell_type": "code",
   "execution_count": 94,
   "metadata": {
    "collapsed": false
   },
   "outputs": [
    {
     "data": {
      "text/plain": [
       "895.10654707840899"
      ]
     },
     "execution_count": 94,
     "metadata": {},
     "output_type": "execute_result"
    }
   ],
   "source": [
    "cis_mad7 = std_by_med(a17_centers, b47_centers, 70, 72, 80, a17_files, b47_files, \n",
    "                      bkg_sh = 'CIS', av = \"mad\")\n",
    "cis_mad7"
   ]
  },
  {
   "cell_type": "code",
   "execution_count": 95,
   "metadata": {
    "collapsed": false
   },
   "outputs": [
    {
     "data": {
      "text/plain": [
       "841.87216280330631"
      ]
     },
     "execution_count": 95,
     "metadata": {},
     "output_type": "execute_result"
    }
   ],
   "source": [
    "aper_std7 = std_by_med(a17_centers, b47_centers, 70, 72, 80, a17_files, b47_files, mode = \"astropy\")\n",
    "aper_std7"
   ]
  },
  {
   "cell_type": "code",
   "execution_count": 96,
   "metadata": {
    "collapsed": true
   },
   "outputs": [
    {
     "ename": "KeyboardInterrupt",
     "evalue": "",
     "output_type": "error",
     "traceback": [
      "\u001b[1;31m---------------------------------------------------------------------------\u001b[0m",
      "\u001b[1;31mKeyboardInterrupt\u001b[0m                         Traceback (most recent call last)",
      "\u001b[1;32m<ipython-input-96-02cf5ab24307>\u001b[0m in \u001b[0;36m<module>\u001b[1;34m()\u001b[0m\n\u001b[1;32m----> 1\u001b[1;33m \u001b[0mcol_std7\u001b[0m \u001b[1;33m=\u001b[0m \u001b[0mstd_by_med\u001b[0m\u001b[1;33m(\u001b[0m\u001b[0ma17_centers\u001b[0m\u001b[1;33m,\u001b[0m \u001b[0mb47_centers\u001b[0m\u001b[1;33m,\u001b[0m \u001b[1;36m70\u001b[0m\u001b[1;33m,\u001b[0m \u001b[0mNone\u001b[0m\u001b[1;33m,\u001b[0m \u001b[0mNone\u001b[0m\u001b[1;33m,\u001b[0m \u001b[0ma17_files\u001b[0m\u001b[1;33m,\u001b[0m \u001b[0mb47_files\u001b[0m\u001b[1;33m,\u001b[0m \u001b[0mmode\u001b[0m \u001b[1;33m=\u001b[0m \u001b[1;34m\"col_col\"\u001b[0m\u001b[1;33m)\u001b[0m\u001b[1;33m\u001b[0m\u001b[0m\n\u001b[0m\u001b[0;32m      2\u001b[0m \u001b[0mcol_std7\u001b[0m\u001b[1;33m\u001b[0m\u001b[0m\n",
      "\u001b[1;32m<ipython-input-4-8eb381d8428a>\u001b[0m in \u001b[0;36mstd_by_med\u001b[1;34m(a1_center, b4_center, r, r_in, r_out, a1_hdu, b4_hdu, rf, rfs, mode, src_sh, bkg_sh, av)\u001b[0m\n\u001b[0;32m      5\u001b[0m                              mode=mode, src_shape=src_sh, bkg_shape=bkg_sh, average=av)[2:]\n\u001b[0;32m      6\u001b[0m     b4_data = rl.time_series(b4_center[1], b4_center[2], b4_hdu, r, r_in, r_out, red = rf, red2 = rfs, \n\u001b[1;32m----> 7\u001b[1;33m                              mode=mode, src_shape=src_sh, bkg_shape=bkg_sh, average=av)[2:]\n\u001b[0m\u001b[0;32m      8\u001b[0m     \u001b[0ma1_res_dtrnd\u001b[0m \u001b[1;33m=\u001b[0m \u001b[0mrl\u001b[0m\u001b[1;33m.\u001b[0m\u001b[0mlinear_bestfit\u001b[0m\u001b[1;33m(\u001b[0m\u001b[0ma1_data\u001b[0m\u001b[1;33m[\u001b[0m\u001b[1;34m'time'\u001b[0m\u001b[1;33m]\u001b[0m\u001b[1;33m,\u001b[0m \u001b[0ma1_data\u001b[0m\u001b[1;33m[\u001b[0m\u001b[1;34m'res_flux'\u001b[0m\u001b[1;33m]\u001b[0m\u001b[1;33m,\u001b[0m \u001b[1;36m0.00002\u001b[0m\u001b[1;33m,\u001b[0m \u001b[1;36m1\u001b[0m\u001b[1;33m)\u001b[0m\u001b[1;33m\u001b[0m\u001b[0m\n\u001b[0;32m      9\u001b[0m     \u001b[0mb4_res_dtrnd\u001b[0m \u001b[1;33m=\u001b[0m \u001b[0mrl\u001b[0m\u001b[1;33m.\u001b[0m\u001b[0mlinear_bestfit\u001b[0m\u001b[1;33m(\u001b[0m\u001b[0mb4_data\u001b[0m\u001b[1;33m[\u001b[0m\u001b[1;34m'time'\u001b[0m\u001b[1;33m]\u001b[0m\u001b[1;33m,\u001b[0m \u001b[0mb4_data\u001b[0m\u001b[1;33m[\u001b[0m\u001b[1;34m'res_flux'\u001b[0m\u001b[1;33m]\u001b[0m\u001b[1;33m,\u001b[0m \u001b[1;36m0.00002\u001b[0m\u001b[1;33m,\u001b[0m \u001b[1;36m1\u001b[0m\u001b[1;33m)\u001b[0m\u001b[1;33m\u001b[0m\u001b[0m\n",
      "\u001b[1;32m/home/rafia/Time-series-data/rafias_lib.py\u001b[0m in \u001b[0;36mtime_series\u001b[1;34m(xcenter, ycenter, filenames, r, r_in, r_out, rs_in, rs_out, flat_name, w, h, w_in, w_out, h_out, ws_in, ws_out, hs_out, red, red2, mode, src_shape, bkg_shape, average)\u001b[0m\n\u001b[0;32m    230\u001b[0m                 \u001b[0mbkg\u001b[0m \u001b[1;33m=\u001b[0m \u001b[0maperture_photometry\u001b[0m\u001b[1;33m(\u001b[0m\u001b[0mimage2d\u001b[0m\u001b[1;33m,\u001b[0m \u001b[0mbkg_ap\u001b[0m\u001b[1;33m,\u001b[0m \u001b[0mmask\u001b[0m \u001b[1;33m=\u001b[0m \u001b[0mmask\u001b[0m\u001b[1;33m)\u001b[0m\u001b[1;33m\u001b[0m\u001b[0m\n\u001b[0;32m    231\u001b[0m                 \u001b[0mbkg_mean\u001b[0m \u001b[1;33m=\u001b[0m \u001b[0mbkg\u001b[0m\u001b[1;33m/\u001b[0m\u001b[0mbkg_apperture\u001b[0m\u001b[1;33m.\u001b[0m\u001b[0marea\u001b[0m\u001b[1;33m(\u001b[0m\u001b[1;33m)\u001b[0m\u001b[1;33m\u001b[0m\u001b[0m\n\u001b[1;32m--> 232\u001b[1;33m \u001b[1;33m\u001b[0m\u001b[0m\n\u001b[0m\u001b[0;32m    233\u001b[0m             \u001b[1;32melse\u001b[0m\u001b[1;33m:\u001b[0m\u001b[1;33m\u001b[0m\u001b[0m\n\u001b[0;32m    234\u001b[0m                 \u001b[0mwarnings\u001b[0m\u001b[1;33m.\u001b[0m\u001b[0mwarn\u001b[0m\u001b[1;33m(\u001b[0m\u001b[1;34m\"Not a recognized astropy shape\"\u001b[0m\u001b[1;33m)\u001b[0m\u001b[1;33m\u001b[0m\u001b[0m\n",
      "\u001b[1;32m/home/rafia/Time-series-data/rafias_lib.py\u001b[0m in \u001b[0;36mcol_col\u001b[1;34m(image, mask1, cenX, cenY, r, box, plots, col)\u001b[0m\n\u001b[0;32m    110\u001b[0m     \u001b[0mindex\u001b[0m \u001b[1;33m=\u001b[0m \u001b[1;32mif\u001b[0m \u001b[0mcen_x\u001b[0m \u001b[1;32mand\u001b[0m \u001b[0mcen_Y\u001b[0m \u001b[1;32mis\u001b[0m \u001b[0ma\u001b[0m \u001b[0mlist\u001b[0m \u001b[0mof\u001b[0m \u001b[0mmore\u001b[0m \u001b[0mthan\u001b[0m \u001b[1;36m1\u001b[0m \u001b[0melement\u001b[0m\u001b[1;33m,\u001b[0m \u001b[0mspecify\u001b[0m \u001b[0mthe\u001b[0m \u001b[0mdesired\u001b[0m \u001b[0mindex\u001b[0m\u001b[1;33m.\u001b[0m \u001b[0mType\u001b[0m \u001b[1;33m=\u001b[0m \u001b[0mInteger\u001b[0m\u001b[1;33m\u001b[0m\u001b[0m\n\u001b[0;32m    111\u001b[0m     \u001b[0mshape\u001b[0m \u001b[1;33m=\u001b[0m \u001b[1;34m'Circ'\u001b[0m\u001b[1;33m:\u001b[0m\u001b[0mCircularAperture\u001b[0m\u001b[1;33m,\u001b[0m \u001b[1;34m'Rect'\u001b[0m\u001b[1;33m:\u001b[0m\u001b[0mRectangularAperture\u001b[0m\u001b[1;33m,\u001b[0m \u001b[1;34m'CircAnn'\u001b[0m\u001b[1;33m:\u001b[0m\u001b[0mCircularAnnulus\u001b[0m\u001b[1;33m,\u001b[0m \u001b[1;34m'RectAnn'\u001b[0m\u001b[1;33m:\u001b[0m\u001b[0mRectangularAnnulus\u001b[0m\u001b[1;33m\u001b[0m\u001b[0m\n\u001b[1;32m--> 112\u001b[1;33m     \u001b[0mrad\u001b[0m\u001b[1;33m,\u001b[0m \u001b[0mr_in\u001b[0m\u001b[1;33m,\u001b[0m \u001b[0mr_out\u001b[0m\u001b[1;33m,\u001b[0m \u001b[0mht\u001b[0m\u001b[1;33m,\u001b[0m \u001b[0mwid\u001b[0m\u001b[1;33m,\u001b[0m \u001b[0mw_in\u001b[0m\u001b[1;33m,\u001b[0m \u001b[0mw_out\u001b[0m\u001b[1;33m,\u001b[0m \u001b[0mh_out\u001b[0m\u001b[1;33m,\u001b[0m \u001b[0mang\u001b[0m \u001b[1;33m=\u001b[0m \u001b[0mAstropy\u001b[0m\u001b[0;31m'\u001b[0m\u001b[0ms\u001b[0m \u001b[0maperture\u001b[0m \u001b[0mparameters\u001b[0m\u001b[1;33m\u001b[0m\u001b[0m\n\u001b[0m\u001b[0;32m    113\u001b[0m \u001b[1;33m\u001b[0m\u001b[0m\n\u001b[0;32m    114\u001b[0m     \u001b[0mReturns\u001b[0m\u001b[1;33m:\u001b[0m\u001b[1;33m\u001b[0m\u001b[0m\n",
      "\u001b[1;31mKeyboardInterrupt\u001b[0m: "
     ]
    }
   ],
   "source": [
    "col_std7 = std_by_med(a17_centers, b47_centers, 70, None, None, a17_files, b47_files, mode = \"col_col\")\n",
    "col_std7"
   ]
  },
  {
   "cell_type": "code",
   "execution_count": null,
   "metadata": {
    "collapsed": false
   },
   "outputs": [],
   "source": [
    "row_std7 = std_by_med(a17_centers, b47_centers, 70, None, None, a17_files, b47_files, mode = \"row_row\")\n",
    "row_std7"
   ]
  },
  {
   "cell_type": "markdown",
   "metadata": {},
   "source": [
    "## Results"
   ]
  },
  {
   "cell_type": "code",
   "execution_count": null,
   "metadata": {
    "collapsed": false
   },
   "outputs": [],
   "source": [
    "test = ['SUB', 'SUB640', 'FULL1', 'FULL2', 'FULL3', 'FULL4', 'FULL5']\n",
    "n = ('Test','Median Sub (Circ)','Median Sub (CIS)','Average Sub (Circ)','Average Sub (CIS)','Robust Average (Circ)',\n",
    "     'Robust Average (CIS)','Astropy CircAnn', 'col by col', 'row by row', 'Result')\n",
    "bkg_comparison = Table(names = n, dtype = ('S16', 'i4', 'i4', 'i4', 'i4', 'i4', 'i4', 'i4', 'S25'))\n",
    "for x in range(1,8):\n",
    "    var = np.array([globals()['circ_med%s' % x], globals()['cis_med%s' % x], globals()['circ_avg%s' % x], \n",
    "                    globals()['cis_avg%s' % x], globals()['circ_mad%s' % x], globals()['cis_mad%s' % x], \n",
    "                    globals()['aper_std%s' % x], globals()['col_std%s' % x], globals()['row_std%s' % x]])\n",
    "    best = np.argmin(var)\n",
    "    result = n[best+1] \n",
    "    bkg_comparison.add_row([test[x-1], var[0], var[1], var[2], var[3], var[4], var[5], var[6], var[7], var[8], result])\n",
    "bkg_comparison"
   ]
  },
  {
   "cell_type": "code",
   "execution_count": null,
   "metadata": {
    "collapsed": true
   },
   "outputs": [],
   "source": [
    "bkg_comparison.write('bkg_comparison.tex')"
   ]
  },
  {
   "cell_type": "markdown",
   "metadata": {},
   "source": [
    "# Column By Column Subtraction"
   ]
  },
  {
   "cell_type": "code",
   "execution_count": 108,
   "metadata": {
    "collapsed": false
   },
   "outputs": [
    {
     "data": {
      "text/html": [
       "&lt;Table length=6&gt;\n",
       "<table id=\"table139872748458448\" class=\"table-striped table-bordered table-condensed\">\n",
       "<thead><tr><th>Test</th><th>Med_Circ</th><th>Med_CIS</th><th>Mean_Circ</th><th>Mean_CIS</th><th>Robust_Circ</th><th>Robust_CIS</th><th>Astropy</th><th>col_col</th><th>row_row</th><th>Result</th></tr></thead>\n",
       "<thead><tr><th>str16</th><th>float32</th><th>float32</th><th>float32</th><th>float32</th><th>float32</th><th>float32</th><th>float32</th><th>float32</th><th>float32</th><th>str25</th></tr></thead>\n",
       "<tr><td>SUB</td><td>512.149</td><td>500.5</td><td>496.334</td><td>498.887</td><td>505.667</td><td>499.818</td><td>499.372</td><td>523.137</td><td>496.993</td><td>Mean_Circ</td></tr>\n",
       "<tr><td>SUB640</td><td>1215.64</td><td>1220.08</td><td>1215.62</td><td>1209.81</td><td>1201.62</td><td>1226.1</td><td>1206.97</td><td>1338.89</td><td>1206.35</td><td>Robust_Circ</td></tr>\n",
       "<tr><td>FULL1</td><td>1302.21</td><td>1348.25</td><td>1293.09</td><td>1339.43</td><td>1301.14</td><td>1344.63</td><td>1294.08</td><td>1584.75</td><td>1229.7</td><td>row_row</td></tr>\n",
       "<tr><td>FULL2</td><td>1586.09</td><td>1605.91</td><td>1578.58</td><td>1613.48</td><td>1584.44</td><td>1607.5</td><td>1572.75</td><td>1805.99</td><td>1542.37</td><td>row_row</td></tr>\n",
       "<tr><td>FULL3</td><td>1063.13</td><td>1079.76</td><td>1028.1</td><td>1069.81</td><td>1040.97</td><td>1070.41</td><td>1030.34</td><td>1366.6</td><td>1021.51</td><td>row_row</td></tr>\n",
       "<tr><td>FULL4</td><td>1119.94</td><td>1166.36</td><td>1111.03</td><td>1156.93</td><td>1118.63</td><td>1153.3</td><td>1110.74</td><td>1471.52</td><td>1056.68</td><td>row_row</td></tr>\n",
       "</table>"
      ],
      "text/plain": [
       "<Table length=6>\n",
       " Test  Med_Circ Med_CIS Mean_Circ ... Astropy col_col row_row    Result  \n",
       "str16  float32  float32  float32  ... float32 float32 float32    str25   \n",
       "------ -------- ------- --------- ... ------- ------- ------- -----------\n",
       "   SUB  512.149   500.5   496.334 ... 499.372 523.137 496.993   Mean_Circ\n",
       "SUB640  1215.64 1220.08   1215.62 ... 1206.97 1338.89 1206.35 Robust_Circ\n",
       " FULL1  1302.21 1348.25   1293.09 ... 1294.08 1584.75  1229.7     row_row\n",
       " FULL2  1586.09 1605.91   1578.58 ... 1572.75 1805.99 1542.37     row_row\n",
       " FULL3  1063.13 1079.76    1028.1 ... 1030.34  1366.6 1021.51     row_row\n",
       " FULL4  1119.94 1166.36   1111.03 ... 1110.74 1471.52 1056.68     row_row"
      ]
     },
     "execution_count": 108,
     "metadata": {},
     "output_type": "execute_result"
    }
   ],
   "source": [
    "test = ['SUB', 'SUB640', 'FULL1', 'FULL2', 'FULL3', 'FULL4', 'FULL5']\n",
    "n = ('Test','Med_Circ','Med_CIS','Mean_Circ','Mean_CIS','Robust_Circ', 'Robust_CIS','Astropy', 'col_col', 'row_row', \n",
    "     'Result')\n",
    "bkg_comparison = Table(names = n, dtype = ('S16', 'f4', 'f4', 'f4', 'f4', 'f4', 'f4', 'f4', 'f4', 'f4', 'S25'))\n",
    "for x in range(1,7):\n",
    "    var = np.array([globals()['circ_med%s' % x], globals()['cis_med%s' % x], globals()['circ_avg%s' % x], \n",
    "                    globals()['cis_avg%s' % x], globals()['circ_mad%s' % x], globals()['cis_mad%s' % x], \n",
    "                    globals()['aper_std%s' % x], globals()['col_std%s' % x], globals()['row_std%s' % x]])\n",
    "    best = np.argmin(var)\n",
    "    result = n[best+1] \n",
    "    bkg_comparison.add_row([test[x-1], var[0], var[1], var[2], var[3], var[4], var[5], var[6], var[7], var[8], result])\n",
    "bkg_comparison"
   ]
  },
  {
   "cell_type": "code",
   "execution_count": null,
   "metadata": {
    "collapsed": true
   },
   "outputs": [],
   "source": [
    "col_col = rl.time_series(a11_centers[1], a11_centers[2], a11_files, r = 40, rs_in = 70, mode = \"col_col\")\n",
    "col_col"
   ]
  },
  {
   "cell_type": "code",
   "execution_count": null,
   "metadata": {
    "collapsed": true
   },
   "outputs": [],
   "source": [
    "circ_ann = rl.time_series(a11_centers[1], a11_centers[2], a11_files, r = 40, r_in = 50, r_out = 70)\n",
    "circ_ann"
   ]
  },
  {
   "cell_type": "code",
   "execution_count": null,
   "metadata": {
    "collapsed": true
   },
   "outputs": [],
   "source": [
    "stdev_col = np.std(col_col['res_flux'])/np.median(col_col['res_flux'])\n",
    "stdev_circ = np.std(circ_ann['res_flux'])/np.median(circ_ann['res_flux'])"
   ]
  },
  {
   "cell_type": "code",
   "execution_count": null,
   "metadata": {
    "collapsed": true
   },
   "outputs": [],
   "source": [
    "print \"Column by column background subtraction (70): \", stdev_col*1e6, \"ppm\"\n",
    "print \"CircularAnulus (Astropy) background subtraction (70, 80, 90): \", stdev_circ*1e6, \"ppm\""
   ]
  },
  {
   "cell_type": "code",
   "execution_count": null,
   "metadata": {
    "collapsed": true
   },
   "outputs": [],
   "source": [
    "rad_combo = ['(40, 50, 70)','(70, 72, 80)', '(50, 60, 70)', '(50, 60, 70)', '(50, 60, 70)', '(50, 60, 70)', \n",
    "             '(50, 60, 70)']\n",
    "masked_rad_combo = ['(70, None, None)', '(70, None, None)', '(70, None, None)', '(70, None, None)', '(70, None, None)', \n",
    "                    '(70, None, None)', '(70, None, None)']\n",
    "tests = ['WLP8SUB', 'WLP8SUB640', 'FULL1', 'FULL2', 'FULL3', 'FULL4', 'FULL5']\n",
    "col_test = Table(names = ('Test Name', 'Masked Combination', 'Col_Col Stdev', 'CircAnn Combination', 'CircAnn Stdev', \n",
    "                          'Result'), dtype = ('S16', 'S16', 'f8', 'S16','f8', 'S25'))\n",
    "for i, test in enumerate(tests):\n",
    "    col_std = globals()['col_std%i' % (i+1)]*1e6\n",
    "    astropy_std = globals()['aper_std%i' % (i+1)]*1e6\n",
    "    if (col_std < astropy_std):\n",
    "        better = 'columns for %s' % test\n",
    "    else:\n",
    "        better = 'CircAnn for %s' % test\n",
    "    col_test.add_row([test, masked_rad_combo[i], col_std, rad_combo[i], astropy_std, better])\n",
    "col_test"
   ]
  }
 ],
 "metadata": {
  "kernelspec": {
   "display_name": "Python 2",
   "language": "python",
   "name": "python2"
  },
  "language_info": {
   "codemirror_mode": {
    "name": "ipython",
    "version": 2
   },
   "file_extension": ".py",
   "mimetype": "text/x-python",
   "name": "python",
   "nbconvert_exporter": "python",
   "pygments_lexer": "ipython2",
   "version": "2.7.13"
  }
 },
 "nbformat": 4,
 "nbformat_minor": 0
}
