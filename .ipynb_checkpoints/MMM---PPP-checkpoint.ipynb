{
 "cells": [
  {
   "cell_type": "code",
   "execution_count": 22,
   "metadata": {
    "collapsed": false
   },
   "outputs": [],
   "source": [
    "from astropy.io import fits\n",
    "from astropy.table import Table, Column, hstack\n",
    "import numpy as np\n",
    "import rafias_lib as rl\n",
    "import pdb, glob\n",
    "import matplotlib\n",
    "import matplotlib.pyplot as plt\n",
    "%matplotlib inline\n",
    "plt.rcParams['figure.figsize'] = (8, 6)"
   ]
  },
  {
   "cell_type": "code",
   "execution_count": 48,
   "metadata": {
    "collapsed": false
   },
   "outputs": [],
   "source": [
    "def get_stdev(centers1, fname1, centers2, fname2, r, r_in, r_out, ff1, ff2, rf = True, r2 = False):\n",
    "    data1 = rl.time_series(centers1[1], centers1[2], fname1, r, r_in, r_out, flat_name = ff1, red = rf, red2 = r2)\n",
    "    data2 = rl.time_series(centers2[1], centers2[2], fname2, r, r_in, r_out, flat_name = ff2, red = rf, red2 = r2)\n",
    "    detrended_flux1 = rl.linear_bestfit(data1['time'], data1['res_flux'], 0.00002, 1)\n",
    "    detrended_flux2 = rl.linear_bestfit(data2['time'], data2['res_flux'], 0.00002, 1)\n",
    "    av_det_res_flux = (detrended_flux1+detrended_flux2)/2\n",
    "    return (np.std(av_det_res_flux)*1e6)"
   ]
  },
  {
   "cell_type": "code",
   "execution_count": 3,
   "metadata": {
    "collapsed": false
   },
   "outputs": [],
   "source": [
    "def best_set(set_array, std_array):\n",
    "    min_stdev = np.amin(std_array)\n",
    "    b_set = set_array[np.argmin(std_array)]\n",
    "    return b_set"
   ]
  },
  {
   "cell_type": "code",
   "execution_count": 4,
   "metadata": {
    "collapsed": true
   },
   "outputs": [],
   "source": [
    "ff_a = '/usr/local/nircamsuite/cal/Flat/ISIMCV3/NRCA1_17004_PFlat_F150W_CLEAR_2016-04-05.fits'\n",
    "ff_b = '/usr/local/nircamsuite/cal/Flat/ISIMCV3/NRCB4_17047_PFlat_F150W_CLEAR_2016-04-05.fits'"
   ]
  },
  {
   "cell_type": "code",
   "execution_count": 5,
   "metadata": {
    "collapsed": true
   },
   "outputs": [],
   "source": [
    "the_type = ['MMM', 'MMP', 'MPM', 'PMM', 'PPM', 'PMP', 'MPP', 'PPP']\n",
    "the_type_num = ['111', '112', '121', '211', '221', '212', '122', '222']\n",
    "flats_a = [False, ff_a, False, False, False, ff_a, ff_a, ff_a]\n",
    "flats_b = [False, ff_b, False, False, False, ff_b, ff_b, ff_b]"
   ]
  },
  {
   "cell_type": "markdown",
   "metadata": {},
   "source": [
    "## Test 1\n",
    "##### WLP8SUB"
   ]
  },
  {
   "cell_type": "code",
   "execution_count": 6,
   "metadata": {
    "collapsed": false
   },
   "outputs": [
    {
     "name": "stdout",
     "output_type": "stream",
     "text": [
      "8 306\n"
     ]
    }
   ],
   "source": [
    "a11_files = []\n",
    "for each in the_type:\n",
    "    a11_files.append(glob.glob('/data1/tso_analysis/all_tso_cv3/raw_separated_'+each+\n",
    "                              '/NRCN821WLP8SUB-6012134600_1_481_SE_2016-01-12T16h42m53/*.slp.fits'))\n",
    "print len(a11_files), len(a11_files[1])"
   ]
  },
  {
   "cell_type": "code",
   "execution_count": 32,
   "metadata": {
    "collapsed": false
   },
   "outputs": [
    {
     "name": "stdout",
     "output_type": "stream",
     "text": [
      "8 306\n"
     ]
    }
   ],
   "source": [
    "b41_files = []\n",
    "for each in the_type:\n",
    "    b41_files.append(glob.glob('/data1/tso_analysis/all_tso_cv3/raw_separated_'+each+\n",
    "                              '/NRCN821WLP8SUB-6012134957_1_489_SE_2016-01-12T16h43m29/*.slp.fits')[:306])\n",
    "print len(b41_files), len(b41_files[1])"
   ]
  },
  {
   "cell_type": "code",
   "execution_count": 18,
   "metadata": {
    "collapsed": false
   },
   "outputs": [
    {
     "name": "stdout",
     "output_type": "stream",
     "text": [
      "8 306\n"
     ]
    }
   ],
   "source": [
    "a11_centers = []\n",
    "for ds, f_a in zip(a11_files, flats_a): \n",
    "    a11_centers.append(rl.gen_center_g2d(166,160,5,400,2,2,0,ds, flat_name = f_a))\n",
    "print len(a11_centers), len(a11_centers[0][1])"
   ]
  },
  {
   "cell_type": "code",
   "execution_count": 33,
   "metadata": {
    "collapsed": false
   },
   "outputs": [
    {
     "name": "stdout",
     "output_type": "stream",
     "text": [
      "8 306\n"
     ]
    }
   ],
   "source": [
    "b41_centers = []\n",
    "for ds, f_b in zip(b41_files, flats_b): \n",
    "    b41_centers.append(rl.gen_center_g2d(162,156,5,500,2,2,0,ds, flat_name = f_b))\n",
    "print len(b41_centers), len(b41_centers[0][1])"
   ]
  },
  {
   "cell_type": "code",
   "execution_count": 49,
   "metadata": {
    "collapsed": false
   },
   "outputs": [
    {
     "data": {
      "text/html": [
       "&lt;Table length=8&gt;\n",
       "<table id=\"table139800260288848\">\n",
       "<thead><tr><th>Index</th><th>Stdev</th></tr></thead>\n",
       "<thead><tr><th>float64</th><th>float64</th></tr></thead>\n",
       "<tr><td>111.0</td><td>499.548788671</td></tr>\n",
       "<tr><td>112.0</td><td>547.210487457</td></tr>\n",
       "<tr><td>121.0</td><td>507.010594616</td></tr>\n",
       "<tr><td>211.0</td><td>499.548788671</td></tr>\n",
       "<tr><td>221.0</td><td>507.010594616</td></tr>\n",
       "<tr><td>212.0</td><td>516.852783943</td></tr>\n",
       "<tr><td>122.0</td><td>523.201718709</td></tr>\n",
       "<tr><td>222.0</td><td>506.73014238</td></tr>\n",
       "</table>"
      ],
      "text/plain": [
       "<Table length=8>\n",
       " Index      Stdev    \n",
       "float64    float64   \n",
       "------- -------------\n",
       "  111.0 499.548788671\n",
       "  112.0 547.210487457\n",
       "  121.0 507.010594616\n",
       "  211.0 499.548788671\n",
       "  221.0 507.010594616\n",
       "  212.0 516.852783943\n",
       "  122.0 523.201718709\n",
       "  222.0  506.73014238"
      ]
     },
     "execution_count": 49,
     "metadata": {},
     "output_type": "execute_result"
    }
   ],
   "source": [
    "stdev_comparison1 = Table(names = ('Index','Stdev'))\n",
    "for index, (a11, b41, a11c, b41c, f_a, f_b) in enumerate(zip(a11_files, b41_files, a11_centers, b41_centers, \n",
    "                                                             flats_a, flats_b)):\n",
    "    stdev = get_stdev(a11c, a11, b41c, b41, 70, 72, 80, f_a, f_b, rf = False)\n",
    "    stdev_comparison1.add_row([the_type_num[index],stdev])\n",
    "stdev_comparison1"
   ]
  },
  {
   "cell_type": "code",
   "execution_count": 51,
   "metadata": {
    "collapsed": false
   },
   "outputs": [
    {
     "data": {
      "text/plain": [
       "111.0"
      ]
     },
     "execution_count": 51,
     "metadata": {},
     "output_type": "execute_result"
    }
   ],
   "source": [
    "# 1 = M, 2 = P. eg. 212 = PMP\n",
    "the_set1 = best_set(stdev_comparison1['Index'], stdev_comparison1['Stdev'])\n",
    "the_set1"
   ]
  },
  {
   "cell_type": "markdown",
   "metadata": {},
   "source": [
    "## Test 2\n",
    "##### WLP8SUB640"
   ]
  },
  {
   "cell_type": "code",
   "execution_count": 36,
   "metadata": {
    "collapsed": false
   },
   "outputs": [
    {
     "name": "stdout",
     "output_type": "stream",
     "text": [
      "8 60\n"
     ]
    }
   ],
   "source": [
    "a12_files = []\n",
    "for each in the_type:\n",
    "    a12_files.append(glob.glob('/data1/tso_analysis/all_tso_cv3/raw_separated_'+each+\n",
    "                              '/NRCN821WLP8SUB640-6012195832_1_481_SE_2016-01-12T20h57m57/*.slp.fits'))\n",
    "print len(a12_files), len(a12_files[1])"
   ]
  },
  {
   "cell_type": "code",
   "execution_count": 37,
   "metadata": {
    "collapsed": false
   },
   "outputs": [
    {
     "name": "stdout",
     "output_type": "stream",
     "text": [
      "8 60\n"
     ]
    }
   ],
   "source": [
    "b42_files = []\n",
    "for each in the_type:\n",
    "    b42_files.append(glob.glob('/data1/tso_analysis/all_tso_cv3/raw_separated_'+each+\n",
    "                              '/NRCN821WLP8SUB640-6012200140_1_489_SE_2016-01-12T20h58m27/*.slp.fits'))\n",
    "print len(b42_files), len(b42_files[1])"
   ]
  },
  {
   "cell_type": "code",
   "execution_count": 40,
   "metadata": {
    "collapsed": false
   },
   "outputs": [
    {
     "name": "stdout",
     "output_type": "stream",
     "text": [
      "8 60\n"
     ]
    }
   ],
   "source": [
    "a12_centers = []\n",
    "for ds, f_a in zip(a12_files, flats_a): \n",
    "    a12_centers.append(rl.gen_center_g2d(326,320,5,400,2,2,0,ds, flat_name = f_a))\n",
    "print len(a12_centers), len(a12_centers[0][1])"
   ]
  },
  {
   "cell_type": "code",
   "execution_count": 41,
   "metadata": {
    "collapsed": false
   },
   "outputs": [
    {
     "name": "stdout",
     "output_type": "stream",
     "text": [
      "8 60\n"
     ]
    }
   ],
   "source": [
    "b42_centers = []\n",
    "for ds, f_b in zip(b42_files, flats_b): \n",
    "    b42_centers.append(rl.gen_center_g2d(319,316,5,500,2,2,0,ds, flat_name = f_b))\n",
    "print len(b42_centers), len(b42_centers[0][1])"
   ]
  },
  {
   "cell_type": "code",
   "execution_count": 50,
   "metadata": {
    "collapsed": false
   },
   "outputs": [
    {
     "data": {
      "text/html": [
       "&lt;Table length=8&gt;\n",
       "<table id=\"table139800148008784\">\n",
       "<thead><tr><th>Index</th><th>Stdev</th></tr></thead>\n",
       "<thead><tr><th>float64</th><th>float64</th></tr></thead>\n",
       "<tr><td>111.0</td><td>1197.02728225</td></tr>\n",
       "<tr><td>112.0</td><td>1196.9393218</td></tr>\n",
       "<tr><td>121.0</td><td>1209.14704903</td></tr>\n",
       "<tr><td>211.0</td><td>1197.02728225</td></tr>\n",
       "<tr><td>221.0</td><td>1209.14704903</td></tr>\n",
       "<tr><td>212.0</td><td>1196.9393218</td></tr>\n",
       "<tr><td>122.0</td><td>1209.02096274</td></tr>\n",
       "<tr><td>222.0</td><td>1209.02096274</td></tr>\n",
       "</table>"
      ],
      "text/plain": [
       "<Table length=8>\n",
       " Index      Stdev    \n",
       "float64    float64   \n",
       "------- -------------\n",
       "  111.0 1197.02728225\n",
       "  112.0  1196.9393218\n",
       "  121.0 1209.14704903\n",
       "  211.0 1197.02728225\n",
       "  221.0 1209.14704903\n",
       "  212.0  1196.9393218\n",
       "  122.0 1209.02096274\n",
       "  222.0 1209.02096274"
      ]
     },
     "execution_count": 50,
     "metadata": {},
     "output_type": "execute_result"
    }
   ],
   "source": [
    "stdev_comparison2 = Table(names = ('Index','Stdev'))\n",
    "for index, (a12, b42, a12c, b42c, f_a, f_b) in enumerate(zip(a12_files, b42_files, a12_centers, b42_centers, \n",
    "                                                             flats_a, flats_b)):\n",
    "    stdev = get_stdev(a12c, a12, b42c, b42, 70, 72, 80, f_a, f_b, rf = False)\n",
    "    stdev_comparison2.add_row([the_type_num[index],stdev])\n",
    "stdev_comparison2"
   ]
  },
  {
   "cell_type": "code",
   "execution_count": 52,
   "metadata": {
    "collapsed": false
   },
   "outputs": [
    {
     "data": {
      "text/plain": [
       "112.0"
      ]
     },
     "execution_count": 52,
     "metadata": {},
     "output_type": "execute_result"
    }
   ],
   "source": [
    "# 1 = M, 2 = P. eg. 212 = PMP\n",
    "the_set2 = best_set(stdev_comparison2['Index'], stdev_comparison2['Stdev'])\n",
    "the_set2"
   ]
  },
  {
   "cell_type": "markdown",
   "metadata": {},
   "source": [
    "## Test 3\n",
    "##### FULLQ"
   ]
  },
  {
   "cell_type": "code",
   "execution_count": 45,
   "metadata": {
    "collapsed": false
   },
   "outputs": [
    {
     "name": "stdout",
     "output_type": "stream",
     "text": [
      "8 55\n"
     ]
    }
   ],
   "source": [
    "a13_files = []\n",
    "for each in the_type:\n",
    "    a13_files.append(glob.glob('/data1/tso_analysis/all_tso_cv3/raw_separated_'+each+\n",
    "                              '/NRCN821WLP8FULLQ-6013001651_1_481_SE_2016-01-13T01h03m43/*.red.fits'))\n",
    "print len(a13_files), len(a13_files[1])"
   ]
  },
  {
   "cell_type": "code",
   "execution_count": 46,
   "metadata": {
    "collapsed": false
   },
   "outputs": [
    {
     "name": "stdout",
     "output_type": "stream",
     "text": [
      "8 55\n"
     ]
    }
   ],
   "source": [
    "b43_files = []\n",
    "for each in the_type:\n",
    "    b43_files.append(glob.glob('/data1/tso_analysis/all_tso_cv3/raw_separated_'+each+\n",
    "                              '/NRCN821WLP8FULLQ-6013002009_1_489_SE_2016-01-13T01h03m23/*.red.fits'))\n",
    "print len(b43_files), len(b43_files[1])"
   ]
  },
  {
   "cell_type": "code",
   "execution_count": 54,
   "metadata": {
    "collapsed": false
   },
   "outputs": [
    {
     "name": "stdout",
     "output_type": "stream",
     "text": [
      "8 55\n"
     ]
    }
   ],
   "source": [
    "a13_centers = []\n",
    "for ds, f_a in zip(a13_files, flats_a): \n",
    "    a13_centers.append(rl.gen_center_g2d(1405,1036,5,400,4,4,0,ds, flat_name = f_a))\n",
    "print len(a13_centers), len(a13_centers[0][1])"
   ]
  },
  {
   "cell_type": "code",
   "execution_count": 55,
   "metadata": {
    "collapsed": false
   },
   "outputs": [
    {
     "name": "stdout",
     "output_type": "stream",
     "text": [
      "8 55\n"
     ]
    }
   ],
   "source": [
    "b43_centers = []\n",
    "for ds, f_b in zip(b43_files, flats_b): \n",
    "    b43_centers.append(rl.gen_center_g2d(828,821,5,600,4,4,0,ds, flat_name = f_b))\n",
    "print len(b43_centers), len(b43_centers[0][1])"
   ]
  },
  {
   "cell_type": "code",
   "execution_count": 56,
   "metadata": {
    "collapsed": false
   },
   "outputs": [
    {
     "data": {
      "text/html": [
       "&lt;Table length=8&gt;\n",
       "<table id=\"table139800148008272\">\n",
       "<thead><tr><th>Index</th><th>Stdev</th></tr></thead>\n",
       "<thead><tr><th>float64</th><th>float64</th></tr></thead>\n",
       "<tr><td>111.0</td><td>3300.96715092</td></tr>\n",
       "<tr><td>112.0</td><td>3300.96715092</td></tr>\n",
       "<tr><td>121.0</td><td>3308.95769321</td></tr>\n",
       "<tr><td>211.0</td><td>3300.95497982</td></tr>\n",
       "<tr><td>221.0</td><td>2500.81670356</td></tr>\n",
       "<tr><td>212.0</td><td>3300.95497982</td></tr>\n",
       "<tr><td>122.0</td><td>3308.95769321</td></tr>\n",
       "<tr><td>222.0</td><td>3308.80976006</td></tr>\n",
       "</table>"
      ],
      "text/plain": [
       "<Table length=8>\n",
       " Index      Stdev    \n",
       "float64    float64   \n",
       "------- -------------\n",
       "  111.0 3300.96715092\n",
       "  112.0 3300.96715092\n",
       "  121.0 3308.95769321\n",
       "  211.0 3300.95497982\n",
       "  221.0 2500.81670356\n",
       "  212.0 3300.95497982\n",
       "  122.0 3308.95769321\n",
       "  222.0 3308.80976006"
      ]
     },
     "execution_count": 56,
     "metadata": {},
     "output_type": "execute_result"
    }
   ],
   "source": [
    "stdev_comparison3 = Table(names = ('Index','Stdev'))\n",
    "for index, (a13, b43, a13c, b43c, f_a, f_b) in enumerate(zip(a13_files, b43_files, a13_centers, b43_centers, \n",
    "                                                             flats_a, flats_b)):\n",
    "    stdev = get_stdev(a13c, a13, b43c, b43, 70, 72, 80, f_a, f_b, rf = False)\n",
    "    stdev_comparison3.add_row([the_type_num[index],stdev])\n",
    "stdev_comparison3"
   ]
  },
  {
   "cell_type": "code",
   "execution_count": 57,
   "metadata": {
    "collapsed": false
   },
   "outputs": [
    {
     "data": {
      "text/plain": [
       "221.0"
      ]
     },
     "execution_count": 57,
     "metadata": {},
     "output_type": "execute_result"
    }
   ],
   "source": [
    "# 1 = M, 2 = P. eg. 212 = PMP\n",
    "the_set3 = best_set(stdev_comparison3['Index'], stdev_comparison3['Stdev'])\n",
    "the_set3"
   ]
  },
  {
   "cell_type": "markdown",
   "metadata": {},
   "source": [
    "## Test 4\n",
    "##### FULL1"
   ]
  },
  {
   "cell_type": "code",
   "execution_count": 58,
   "metadata": {
    "collapsed": false
   },
   "outputs": [
    {
     "name": "stdout",
     "output_type": "stream",
     "text": [
      "8 225\n"
     ]
    }
   ],
   "source": [
    "a14_files = []\n",
    "for each in the_type:\n",
    "    a14_files.append(glob.glob('/data1/tso_analysis/all_tso_cv3/raw_separated_'+each+\n",
    "                              '/NRCN821WLP8FULL1-6012051326_1_481_SE_2016-01-12T08h55m24/*.red.fits'))\n",
    "print len(a14_files), len(a14_files[1])"
   ]
  },
  {
   "cell_type": "code",
   "execution_count": 59,
   "metadata": {
    "collapsed": false
   },
   "outputs": [
    {
     "name": "stdout",
     "output_type": "stream",
     "text": [
      "8 225\n"
     ]
    }
   ],
   "source": [
    "b44_files = []\n",
    "for each in the_type:\n",
    "    b44_files.append(glob.glob('/data1/tso_analysis/all_tso_cv3/raw_separated_'+each+\n",
    "                              '/NRCN821WLP8FULL1-6012051528_1_489_SE_2016-01-12T08h30m07/*.red.fits'))\n",
    "print len(b44_files), len(b44_files[1])"
   ]
  },
  {
   "cell_type": "code",
   "execution_count": 60,
   "metadata": {
    "collapsed": false
   },
   "outputs": [
    {
     "name": "stdout",
     "output_type": "stream",
     "text": [
      "8 225\n"
     ]
    }
   ],
   "source": [
    "a14_centers = []\n",
    "for ds, f_a in zip(a14_files, flats_a): \n",
    "    a14_centers.append(rl.gen_center_g2d(1405,1036,5,400,4,4,0,ds, flat_name = f_a))\n",
    "print len(a14_centers), len(a14_centers[0][1])"
   ]
  },
  {
   "cell_type": "code",
   "execution_count": 61,
   "metadata": {
    "collapsed": false
   },
   "outputs": [
    {
     "name": "stdout",
     "output_type": "stream",
     "text": [
      "8 225\n"
     ]
    }
   ],
   "source": [
    "b44_centers = []\n",
    "for ds, f_b in zip(b44_files, flats_b): \n",
    "    b44_centers.append(rl.gen_center_g2d(828,821,5,600,4,4,0,ds, flat_name = f_b))\n",
    "print len(b44_centers), len(b44_centers[0][1])"
   ]
  },
  {
   "cell_type": "code",
   "execution_count": 62,
   "metadata": {
    "collapsed": false
   },
   "outputs": [
    {
     "data": {
      "text/html": [
       "&lt;Table length=8&gt;\n",
       "<table id=\"table139800134967184\">\n",
       "<thead><tr><th>Index</th><th>Stdev</th></tr></thead>\n",
       "<thead><tr><th>float64</th><th>float64</th></tr></thead>\n",
       "<tr><td>111.0</td><td>1935.3529893</td></tr>\n",
       "<tr><td>112.0</td><td>1935.3529893</td></tr>\n",
       "<tr><td>121.0</td><td>1944.80820148</td></tr>\n",
       "<tr><td>211.0</td><td>1935.35138009</td></tr>\n",
       "<tr><td>221.0</td><td>1944.75401475</td></tr>\n",
       "<tr><td>212.0</td><td>1935.35138009</td></tr>\n",
       "<tr><td>122.0</td><td>1944.80820148</td></tr>\n",
       "<tr><td>222.0</td><td>1944.75401475</td></tr>\n",
       "</table>"
      ],
      "text/plain": [
       "<Table length=8>\n",
       " Index      Stdev    \n",
       "float64    float64   \n",
       "------- -------------\n",
       "  111.0  1935.3529893\n",
       "  112.0  1935.3529893\n",
       "  121.0 1944.80820148\n",
       "  211.0 1935.35138009\n",
       "  221.0 1944.75401475\n",
       "  212.0 1935.35138009\n",
       "  122.0 1944.80820148\n",
       "  222.0 1944.75401475"
      ]
     },
     "execution_count": 62,
     "metadata": {},
     "output_type": "execute_result"
    }
   ],
   "source": [
    "stdev_comparison4 = Table(names = ('Index','Stdev'))\n",
    "for index, (a14, b44, a14c, b44c, f_a, f_b) in enumerate(zip(a14_files, b44_files, a14_centers, b44_centers, \n",
    "                                                             flats_a, flats_b)):\n",
    "    stdev = get_stdev(a14c, a14, b44c, b44, 70, 72, 80, f_a, f_b, rf = False)\n",
    "    stdev_comparison4.add_row([the_type_num[index],stdev])\n",
    "stdev_comparison4"
   ]
  },
  {
   "cell_type": "code",
   "execution_count": 63,
   "metadata": {
    "collapsed": false
   },
   "outputs": [
    {
     "data": {
      "text/plain": [
       "211.0"
      ]
     },
     "execution_count": 63,
     "metadata": {},
     "output_type": "execute_result"
    }
   ],
   "source": [
    "# 1 = M, 2 = P. eg. 212 = PMP\n",
    "the_set4 = best_set(stdev_comparison4['Index'], stdev_comparison4['Stdev'])\n",
    "the_set4"
   ]
  },
  {
   "cell_type": "markdown",
   "metadata": {},
   "source": [
    "## Test 5\n",
    "##### FULL2"
   ]
  },
  {
   "cell_type": "code",
   "execution_count": 64,
   "metadata": {
    "collapsed": false
   },
   "outputs": [
    {
     "name": "stdout",
     "output_type": "stream",
     "text": [
      "8 225\n"
     ]
    }
   ],
   "source": [
    "a15_files = []\n",
    "for each in the_type:\n",
    "    a15_files.append(glob.glob('/data1/tso_analysis/all_tso_cv3/raw_separated_'+each+\n",
    "                              '/NRCN821WLP8FULL2-6012072417_1_481_SE_2016-01-12T10h40m58/*.red.fits'))\n",
    "print len(a15_files), len(a15_files[1])"
   ]
  },
  {
   "cell_type": "code",
   "execution_count": 65,
   "metadata": {
    "collapsed": false
   },
   "outputs": [
    {
     "name": "stdout",
     "output_type": "stream",
     "text": [
      "8 225\n"
     ]
    }
   ],
   "source": [
    "b45_files = []\n",
    "for each in the_type:\n",
    "    b45_files.append(glob.glob('/data1/tso_analysis/all_tso_cv3/raw_separated_'+each+\n",
    "                              '/NRCN821WLP8FULL2-6012072532_1_489_SE_2016-01-12T11h09m06/*.red.fits'))\n",
    "print len(b45_files), len(b45_files[1])"
   ]
  },
  {
   "cell_type": "code",
   "execution_count": 66,
   "metadata": {
    "collapsed": false
   },
   "outputs": [
    {
     "name": "stdout",
     "output_type": "stream",
     "text": [
      "8 225\n"
     ]
    }
   ],
   "source": [
    "a15_centers = []\n",
    "for ds, f_a in zip(a15_files, flats_a): \n",
    "    a15_centers.append(rl.gen_center_g2d(1405,1036,5,400,4,4,0,ds, flat_name = f_a))\n",
    "print len(a15_centers), len(a15_centers[0][1])"
   ]
  },
  {
   "cell_type": "code",
   "execution_count": 67,
   "metadata": {
    "collapsed": false
   },
   "outputs": [
    {
     "name": "stdout",
     "output_type": "stream",
     "text": [
      "8 225\n"
     ]
    }
   ],
   "source": [
    "b45_centers = []\n",
    "for ds, f_b in zip(b45_files, flats_b): \n",
    "    b45_centers.append(rl.gen_center_g2d(828,821,5,600,4,4,0,ds, flat_name = f_b))\n",
    "print len(b45_centers), len(b45_centers[0][1])"
   ]
  },
  {
   "cell_type": "code",
   "execution_count": 68,
   "metadata": {
    "collapsed": false
   },
   "outputs": [
    {
     "data": {
      "text/html": [
       "&lt;Table length=8&gt;\n",
       "<table id=\"table139800111217040\">\n",
       "<thead><tr><th>Index</th><th>Stdev</th></tr></thead>\n",
       "<thead><tr><th>float64</th><th>float64</th></tr></thead>\n",
       "<tr><td>111.0</td><td>2075.59175839</td></tr>\n",
       "<tr><td>112.0</td><td>2075.59175839</td></tr>\n",
       "<tr><td>121.0</td><td>2085.48171276</td></tr>\n",
       "<tr><td>211.0</td><td>2075.7929843</td></tr>\n",
       "<tr><td>221.0</td><td>2085.63599064</td></tr>\n",
       "<tr><td>212.0</td><td>2075.7929843</td></tr>\n",
       "<tr><td>122.0</td><td>2085.48171276</td></tr>\n",
       "<tr><td>222.0</td><td>2085.63599064</td></tr>\n",
       "</table>"
      ],
      "text/plain": [
       "<Table length=8>\n",
       " Index      Stdev    \n",
       "float64    float64   \n",
       "------- -------------\n",
       "  111.0 2075.59175839\n",
       "  112.0 2075.59175839\n",
       "  121.0 2085.48171276\n",
       "  211.0  2075.7929843\n",
       "  221.0 2085.63599064\n",
       "  212.0  2075.7929843\n",
       "  122.0 2085.48171276\n",
       "  222.0 2085.63599064"
      ]
     },
     "execution_count": 68,
     "metadata": {},
     "output_type": "execute_result"
    }
   ],
   "source": [
    "stdev_comparison5 = Table(names = ('Index','Stdev'))\n",
    "for index, (a15, b45, a15c, b45c, f_a, f_b) in enumerate(zip(a15_files, b45_files, a15_centers, b45_centers, \n",
    "                                                             flats_a, flats_b)):\n",
    "    stdev = get_stdev(a15c, a15, b45c, b45, 70, 72, 80, f_a, f_b, rf = False)\n",
    "    stdev_comparison5.add_row([the_type_num[index],stdev])\n",
    "stdev_comparison5"
   ]
  },
  {
   "cell_type": "code",
   "execution_count": 69,
   "metadata": {
    "collapsed": false
   },
   "outputs": [
    {
     "data": {
      "text/plain": [
       "111.0"
      ]
     },
     "execution_count": 69,
     "metadata": {},
     "output_type": "execute_result"
    }
   ],
   "source": [
    "# 1 = M, 2 = P. eg. 212 = PMP\n",
    "the_set5 = best_set(stdev_comparison5['Index'], stdev_comparison5['Stdev'])\n",
    "the_set5"
   ]
  },
  {
   "cell_type": "markdown",
   "metadata": {},
   "source": [
    "## Test 6\n",
    "##### FULL3"
   ]
  },
  {
   "cell_type": "code",
   "execution_count": 70,
   "metadata": {
    "collapsed": false
   },
   "outputs": [
    {
     "name": "stdout",
     "output_type": "stream",
     "text": [
      "8 225\n"
     ]
    }
   ],
   "source": [
    "a16_files = []\n",
    "for each in the_type:\n",
    "    a16_files.append(glob.glob('/data1/tso_analysis/all_tso_cv3/raw_separated_'+each+\n",
    "                              '/NRCN821WLP8FULL3-6012093326_1_481_SE_2016-01-12T12h47m44/*.red.fits'))\n",
    "print len(a16_files), len(a16_files[1])"
   ]
  },
  {
   "cell_type": "code",
   "execution_count": 71,
   "metadata": {
    "collapsed": false
   },
   "outputs": [
    {
     "name": "stdout",
     "output_type": "stream",
     "text": [
      "8 225\n"
     ]
    }
   ],
   "source": [
    "b46_files = []\n",
    "for each in the_type:\n",
    "    b46_files.append(glob.glob('/data1/tso_analysis/all_tso_cv3/raw_separated_'+each+\n",
    "                              '/NRCN821WLP8FULL3-6012093432_1_489_SE_2016-01-12T12h52m21/*.red.fits'))\n",
    "print len(b46_files), len(b46_files[1])"
   ]
  },
  {
   "cell_type": "code",
   "execution_count": 72,
   "metadata": {
    "collapsed": false
   },
   "outputs": [
    {
     "name": "stdout",
     "output_type": "stream",
     "text": [
      "8 225\n"
     ]
    }
   ],
   "source": [
    "a16_centers = []\n",
    "for ds, f_a in zip(a16_files, flats_a): \n",
    "    a16_centers.append(rl.gen_center_g2d(1405,1036,5,400,4,4,0,ds, flat_name = f_a))\n",
    "print len(a16_centers), len(a16_centers[0][1])"
   ]
  },
  {
   "cell_type": "code",
   "execution_count": 73,
   "metadata": {
    "collapsed": false
   },
   "outputs": [
    {
     "name": "stdout",
     "output_type": "stream",
     "text": [
      "8 225\n"
     ]
    }
   ],
   "source": [
    "b46_centers = []\n",
    "for ds, f_b in zip(b46_files, flats_b): \n",
    "    b46_centers.append(rl.gen_center_g2d(828,821,5,600,4,4,0,ds, flat_name = f_b))\n",
    "print len(b46_centers), len(b46_centers[0][1])"
   ]
  },
  {
   "cell_type": "code",
   "execution_count": 74,
   "metadata": {
    "collapsed": false
   },
   "outputs": [
    {
     "data": {
      "text/html": [
       "&lt;Table length=8&gt;\n",
       "<table id=\"table139800090042832\">\n",
       "<thead><tr><th>Index</th><th>Stdev</th></tr></thead>\n",
       "<thead><tr><th>float64</th><th>float64</th></tr></thead>\n",
       "<tr><td>111.0</td><td>1653.49576726</td></tr>\n",
       "<tr><td>112.0</td><td>1653.49576726</td></tr>\n",
       "<tr><td>121.0</td><td>1655.53800533</td></tr>\n",
       "<tr><td>211.0</td><td>1653.67903636</td></tr>\n",
       "<tr><td>221.0</td><td>1655.66277782</td></tr>\n",
       "<tr><td>212.0</td><td>1653.67903636</td></tr>\n",
       "<tr><td>122.0</td><td>1655.53800533</td></tr>\n",
       "<tr><td>222.0</td><td>1655.66277782</td></tr>\n",
       "</table>"
      ],
      "text/plain": [
       "<Table length=8>\n",
       " Index      Stdev    \n",
       "float64    float64   \n",
       "------- -------------\n",
       "  111.0 1653.49576726\n",
       "  112.0 1653.49576726\n",
       "  121.0 1655.53800533\n",
       "  211.0 1653.67903636\n",
       "  221.0 1655.66277782\n",
       "  212.0 1653.67903636\n",
       "  122.0 1655.53800533\n",
       "  222.0 1655.66277782"
      ]
     },
     "execution_count": 74,
     "metadata": {},
     "output_type": "execute_result"
    }
   ],
   "source": [
    "stdev_comparison6 = Table(names = ('Index','Stdev'))\n",
    "for index, (a16, b46, a16c, b46c, f_a, f_b) in enumerate(zip(a16_files, b46_files, a16_centers, b46_centers, \n",
    "                                                             flats_a, flats_b)):\n",
    "    stdev = get_stdev(a16c, a16, b46c, b46, 70, 72, 80, f_a, f_b, rf = False)\n",
    "    stdev_comparison6.add_row([the_type_num[index],stdev])\n",
    "stdev_comparison6"
   ]
  },
  {
   "cell_type": "code",
   "execution_count": 75,
   "metadata": {
    "collapsed": false
   },
   "outputs": [
    {
     "data": {
      "text/plain": [
       "111.0"
      ]
     },
     "execution_count": 75,
     "metadata": {},
     "output_type": "execute_result"
    }
   ],
   "source": [
    "# 1 = M, 2 = P. eg. 212 = PMP\n",
    "the_set6 = best_set(stdev_comparison6['Index'], stdev_comparison6['Stdev'])\n",
    "the_set6"
   ]
  },
  {
   "cell_type": "markdown",
   "metadata": {},
   "source": [
    "## Test 7\n",
    "##### FULL4"
   ]
  },
  {
   "cell_type": "code",
   "execution_count": 76,
   "metadata": {
    "collapsed": false
   },
   "outputs": [
    {
     "name": "stdout",
     "output_type": "stream",
     "text": [
      "8 225\n"
     ]
    }
   ],
   "source": [
    "a17_files = []\n",
    "for each in the_type:\n",
    "    a17_files.append(glob.glob('/data1/tso_analysis/all_tso_cv3/raw_separated_'+each+\n",
    "                              '/NRCN821WLP8FULL4-6012114105_1_481_SE_2016-01-12T14h25m53/*.red.fits'))\n",
    "print len(a17_files), len(a17_files[1])"
   ]
  },
  {
   "cell_type": "code",
   "execution_count": 77,
   "metadata": {
    "collapsed": false
   },
   "outputs": [
    {
     "name": "stdout",
     "output_type": "stream",
     "text": [
      "8 225\n"
     ]
    }
   ],
   "source": [
    "b47_files = []\n",
    "for each in the_type:\n",
    "    b47_files.append(glob.glob('/data1/tso_analysis/all_tso_cv3/raw_separated_'+each+\n",
    "                              '/NRCN821WLP8FULL4-6012114212_1_489_SE_2016-01-12T14h58m10/*.red.fits'))\n",
    "print len(b47_files), len(b47_files[1])"
   ]
  },
  {
   "cell_type": "code",
   "execution_count": 78,
   "metadata": {
    "collapsed": false
   },
   "outputs": [
    {
     "name": "stdout",
     "output_type": "stream",
     "text": [
      "8 225\n"
     ]
    }
   ],
   "source": [
    "a17_centers = []\n",
    "for ds, f_a in zip(a17_files, flats_a): \n",
    "    a17_centers.append(rl.gen_center_g2d(1405,1036,5,400,4,4,0,ds, flat_name = f_a))\n",
    "print len(a17_centers), len(a17_centers[0][1])"
   ]
  },
  {
   "cell_type": "code",
   "execution_count": 79,
   "metadata": {
    "collapsed": false
   },
   "outputs": [
    {
     "name": "stdout",
     "output_type": "stream",
     "text": [
      "8 225\n"
     ]
    }
   ],
   "source": [
    "b47_centers = []\n",
    "for ds, f_b in zip(b47_files, flats_b): \n",
    "    b47_centers.append(rl.gen_center_g2d(828,821,5,600,4,4,0,ds, flat_name = f_b))\n",
    "print len(b47_centers), len(b47_centers[0][1])"
   ]
  },
  {
   "cell_type": "code",
   "execution_count": 80,
   "metadata": {
    "collapsed": false
   },
   "outputs": [
    {
     "data": {
      "text/html": [
       "&lt;Table length=8&gt;\n",
       "<table id=\"table139800037785040\">\n",
       "<thead><tr><th>Index</th><th>Stdev</th></tr></thead>\n",
       "<thead><tr><th>float64</th><th>float64</th></tr></thead>\n",
       "<tr><td>111.0</td><td>1776.78440541</td></tr>\n",
       "<tr><td>112.0</td><td>1776.78440541</td></tr>\n",
       "<tr><td>121.0</td><td>1785.84302242</td></tr>\n",
       "<tr><td>211.0</td><td>1776.94120985</td></tr>\n",
       "<tr><td>221.0</td><td>1785.94811649</td></tr>\n",
       "<tr><td>212.0</td><td>1776.94120985</td></tr>\n",
       "<tr><td>122.0</td><td>1785.84302242</td></tr>\n",
       "<tr><td>222.0</td><td>1785.94811649</td></tr>\n",
       "</table>"
      ],
      "text/plain": [
       "<Table length=8>\n",
       " Index      Stdev    \n",
       "float64    float64   \n",
       "------- -------------\n",
       "  111.0 1776.78440541\n",
       "  112.0 1776.78440541\n",
       "  121.0 1785.84302242\n",
       "  211.0 1776.94120985\n",
       "  221.0 1785.94811649\n",
       "  212.0 1776.94120985\n",
       "  122.0 1785.84302242\n",
       "  222.0 1785.94811649"
      ]
     },
     "execution_count": 80,
     "metadata": {},
     "output_type": "execute_result"
    }
   ],
   "source": [
    "stdev_comparison7 = Table(names = ('Index','Stdev'))\n",
    "for index, (a17, b47, a17c, b47c, f_a, f_b) in enumerate(zip(a17_files, b47_files, a17_centers, b47_centers, \n",
    "                                                             flats_a, flats_b)):\n",
    "    stdev = get_stdev(a17c, a17, b47c, b47, 70, 72, 80, f_a, f_b, rf = False)\n",
    "    stdev_comparison7.add_row([the_type_num[index],stdev])\n",
    "stdev_comparison7"
   ]
  },
  {
   "cell_type": "code",
   "execution_count": 81,
   "metadata": {
    "collapsed": false
   },
   "outputs": [
    {
     "data": {
      "text/plain": [
       "111.0"
      ]
     },
     "execution_count": 81,
     "metadata": {},
     "output_type": "execute_result"
    }
   ],
   "source": [
    "# 1 = M, 2 = P. eg. 212 = PMP\n",
    "the_set7 = best_set(stdev_comparison7['Index'], stdev_comparison7['Stdev'])\n",
    "the_set7"
   ]
  },
  {
   "cell_type": "markdown",
   "metadata": {},
   "source": [
    "## Test 8\n",
    "##### FULL5"
   ]
  },
  {
   "cell_type": "code",
   "execution_count": 82,
   "metadata": {
    "collapsed": false
   },
   "outputs": [
    {
     "name": "stdout",
     "output_type": "stream",
     "text": [
      "8 110\n"
     ]
    }
   ],
   "source": [
    "a18_files = []\n",
    "for each in the_type:\n",
    "    a18_files.append(glob.glob('/data1/tso_analysis/all_tso_cv3/raw_separated_'+each+\n",
    "                              '/NRCN821WLP8FULL5-6012184421_1_481_SE_2016-01-12T20h26m57/*.red.fits'))\n",
    "print len(a18_files), len(a18_files[1])"
   ]
  },
  {
   "cell_type": "code",
   "execution_count": 83,
   "metadata": {
    "collapsed": false
   },
   "outputs": [
    {
     "name": "stdout",
     "output_type": "stream",
     "text": [
      "8 110\n"
     ]
    }
   ],
   "source": [
    "b48_files = []\n",
    "for each in the_type:\n",
    "    b48_files.append(glob.glob('/data1/tso_analysis/all_tso_cv3/raw_separated_'+each+\n",
    "                              '/NRCN821WLP8FULL5-6012185018_1_489_SE_2016-01-12T20h20m15/*.red.fits'))\n",
    "print len(b48_files), len(b48_files[1])"
   ]
  },
  {
   "cell_type": "code",
   "execution_count": 84,
   "metadata": {
    "collapsed": false
   },
   "outputs": [
    {
     "name": "stdout",
     "output_type": "stream",
     "text": [
      "8 110\n"
     ]
    }
   ],
   "source": [
    "a18_centers = []\n",
    "for ds, f_a in zip(a18_files, flats_a): \n",
    "    a18_centers.append(rl.gen_center_g2d(1405,1036,5,400,4,4,0,ds, flat_name = f_a))\n",
    "print len(a18_centers), len(a18_centers[0][1])"
   ]
  },
  {
   "cell_type": "code",
   "execution_count": 85,
   "metadata": {
    "collapsed": false
   },
   "outputs": [
    {
     "name": "stdout",
     "output_type": "stream",
     "text": [
      "8 110\n"
     ]
    }
   ],
   "source": [
    "b48_centers = []\n",
    "for ds, f_b in zip(b48_files, flats_b): \n",
    "    b48_centers.append(rl.gen_center_g2d(828,821,5,600,4,4,0,ds, flat_name = f_b))\n",
    "print len(b48_centers), len(b48_centers[0][1])"
   ]
  },
  {
   "cell_type": "code",
   "execution_count": 86,
   "metadata": {
    "collapsed": false
   },
   "outputs": [
    {
     "data": {
      "text/html": [
       "&lt;Table length=8&gt;\n",
       "<table id=\"table139800055296592\">\n",
       "<thead><tr><th>Index</th><th>Stdev</th></tr></thead>\n",
       "<thead><tr><th>float64</th><th>float64</th></tr></thead>\n",
       "<tr><td>111.0</td><td>1976.89374963</td></tr>\n",
       "<tr><td>112.0</td><td>1976.89374963</td></tr>\n",
       "<tr><td>121.0</td><td>1982.53528391</td></tr>\n",
       "<tr><td>211.0</td><td>1977.03299761</td></tr>\n",
       "<tr><td>221.0</td><td>1982.58218978</td></tr>\n",
       "<tr><td>212.0</td><td>1977.03299761</td></tr>\n",
       "<tr><td>122.0</td><td>1982.53528391</td></tr>\n",
       "<tr><td>222.0</td><td>1982.58218978</td></tr>\n",
       "</table>"
      ],
      "text/plain": [
       "<Table length=8>\n",
       " Index      Stdev    \n",
       "float64    float64   \n",
       "------- -------------\n",
       "  111.0 1976.89374963\n",
       "  112.0 1976.89374963\n",
       "  121.0 1982.53528391\n",
       "  211.0 1977.03299761\n",
       "  221.0 1982.58218978\n",
       "  212.0 1977.03299761\n",
       "  122.0 1982.53528391\n",
       "  222.0 1982.58218978"
      ]
     },
     "execution_count": 86,
     "metadata": {},
     "output_type": "execute_result"
    }
   ],
   "source": [
    "stdev_comparison8 = Table(names = ('Index','Stdev'))\n",
    "for index, (a18, b48, a18c, b48c, f_a, f_b) in enumerate(zip(a18_files, b48_files, a18_centers, b48_centers, \n",
    "                                                             flats_a, flats_b)):\n",
    "    stdev = get_stdev(a18c, a18, b48c, b48, 70, 72, 80, f_a, f_b, rf = False)\n",
    "    stdev_comparison8.add_row([the_type_num[index],stdev])\n",
    "stdev_comparison8"
   ]
  },
  {
   "cell_type": "code",
   "execution_count": 87,
   "metadata": {
    "collapsed": false
   },
   "outputs": [
    {
     "data": {
      "text/plain": [
       "111.0"
      ]
     },
     "execution_count": 87,
     "metadata": {},
     "output_type": "execute_result"
    }
   ],
   "source": [
    "# 1 = M, 2 = P. eg. 212 = PMP\n",
    "the_set8 = best_set(stdev_comparison8['Index'], stdev_comparison8['Stdev'])\n",
    "the_set8"
   ]
  },
  {
   "cell_type": "markdown",
   "metadata": {
    "collapsed": true
   },
   "source": [
    "## Results"
   ]
  },
  {
   "cell_type": "code",
   "execution_count": 88,
   "metadata": {
    "collapsed": false,
    "scrolled": true
   },
   "outputs": [
    {
     "data": {
      "text/html": [
       "&lt;Table length=8&gt;\n",
       "<table id=\"table139800042190544\">\n",
       "<thead><tr><th>Test Name</th><th>WLP8SUB</th><th>WLP8SUB640</th><th>FULLQ</th><th>FULL1</th><th>FULL2</th><th>FULL3</th><th>FULL4</th><th>FULL5</th></tr></thead>\n",
       "<thead><tr><th>str3</th><th>float64</th><th>float64</th><th>float64</th><th>float64</th><th>float64</th><th>float64</th><th>float64</th><th>float64</th></tr></thead>\n",
       "<tr><td>111</td><td>499.548788671</td><td>1197.02728225</td><td>3300.96715092</td><td>1935.3529893</td><td>2075.59175839</td><td>1653.49576726</td><td>1776.78440541</td><td>1976.89374963</td></tr>\n",
       "<tr><td>112</td><td>547.210487457</td><td>1196.9393218</td><td>3300.96715092</td><td>1935.3529893</td><td>2075.59175839</td><td>1653.49576726</td><td>1776.78440541</td><td>1976.89374963</td></tr>\n",
       "<tr><td>121</td><td>507.010594616</td><td>1209.14704903</td><td>3308.95769321</td><td>1944.80820148</td><td>2085.48171276</td><td>1655.53800533</td><td>1785.84302242</td><td>1982.53528391</td></tr>\n",
       "<tr><td>211</td><td>499.548788671</td><td>1197.02728225</td><td>3300.95497982</td><td>1935.35138009</td><td>2075.7929843</td><td>1653.67903636</td><td>1776.94120985</td><td>1977.03299761</td></tr>\n",
       "<tr><td>221</td><td>507.010594616</td><td>1209.14704903</td><td>2500.81670356</td><td>1944.75401475</td><td>2085.63599064</td><td>1655.66277782</td><td>1785.94811649</td><td>1982.58218978</td></tr>\n",
       "<tr><td>212</td><td>516.852783943</td><td>1196.9393218</td><td>3300.95497982</td><td>1935.35138009</td><td>2075.7929843</td><td>1653.67903636</td><td>1776.94120985</td><td>1977.03299761</td></tr>\n",
       "<tr><td>122</td><td>523.201718709</td><td>1209.02096274</td><td>3308.95769321</td><td>1944.80820148</td><td>2085.48171276</td><td>1655.53800533</td><td>1785.84302242</td><td>1982.53528391</td></tr>\n",
       "<tr><td>222</td><td>506.73014238</td><td>1209.02096274</td><td>3308.80976006</td><td>1944.75401475</td><td>2085.63599064</td><td>1655.66277782</td><td>1785.94811649</td><td>1982.58218978</td></tr>\n",
       "</table>"
      ],
      "text/plain": [
       "<Table length=8>\n",
       "Test Name    WLP8SUB      WLP8SUB640  ...     FULL4         FULL5    \n",
       "   str3      float64       float64    ...    float64       float64   \n",
       "--------- ------------- ------------- ... ------------- -------------\n",
       "      111 499.548788671 1197.02728225 ... 1776.78440541 1976.89374963\n",
       "      112 547.210487457  1196.9393218 ... 1776.78440541 1976.89374963\n",
       "      121 507.010594616 1209.14704903 ... 1785.84302242 1982.53528391\n",
       "      211 499.548788671 1197.02728225 ... 1776.94120985 1977.03299761\n",
       "      221 507.010594616 1209.14704903 ... 1785.94811649 1982.58218978\n",
       "      212 516.852783943  1196.9393218 ... 1776.94120985 1977.03299761\n",
       "      122 523.201718709 1209.02096274 ... 1785.84302242 1982.53528391\n",
       "      222  506.73014238 1209.02096274 ... 1785.94811649 1982.58218978"
      ]
     },
     "execution_count": 88,
     "metadata": {},
     "output_type": "execute_result"
    }
   ],
   "source": [
    "result_table = Table()\n",
    "#initializing variables\n",
    "tests = ['WLP8SUB', 'WLP8SUB640', 'FULLQ', 'FULL1', 'FULL2', 'FULL3','FULL4', 'FULL5']\n",
    "table_names = []\n",
    "for x in range(1,9):\n",
    "    table_names.append(globals()['stdev_comparison%s' % x])\n",
    "#creating the actual table\n",
    "result_table['Test Name'] = the_type_num\n",
    "for index, test in enumerate(tests):\n",
    "    result_table[test] = table_names[index]['Stdev']\n",
    "result_table"
   ]
  },
  {
   "cell_type": "code",
   "execution_count": 93,
   "metadata": {
    "collapsed": false
   },
   "outputs": [],
   "source": [
    "result_table.write('full_MP_stdev.csv')"
   ]
  },
  {
   "cell_type": "code",
   "execution_count": 90,
   "metadata": {
    "collapsed": false
   },
   "outputs": [
    {
     "name": "stdout",
     "output_type": "stream",
     "text": [
      "WLP8SUB : 111.0\n",
      "WLP8SUB640 : 112.0\n",
      "FULLQ : 221.0\n",
      "FULL1 : 211.0\n",
      "FULL2 : 111.0\n",
      "FULL3 : 111.0\n",
      "FULL4 : 111.0\n",
      "FULL5 : 111.0\n"
     ]
    }
   ],
   "source": [
    "table_names2 = []\n",
    "for x in range(1,9):\n",
    "    table_names2.append(globals()['the_set%s' % x])\n",
    "# Printing out results\n",
    "for index, test in enumerate(tests):\n",
    "    print '%s : %s' % (test, table_names2[index])"
   ]
  },
  {
   "cell_type": "code",
   "execution_count": 91,
   "metadata": {
    "collapsed": false
   },
   "outputs": [
    {
     "data": {
      "image/png": "[encoded data removed]",
      "text/plain": [
       "<matplotlib.figure.Figure at 0x7f25bb469910>"
      ]
     },
     "metadata": {},
     "output_type": "display_data"
    }
   ],
   "source": [
    "for i, test in enumerate(tests):\n",
    "    x = [1,2,3,4,5,6,7,8]\n",
    "    plt.plot(x, result_table[test], label = test)\n",
    "    plt.xticks(x, the_type)\n",
    "    plt.xlabel('Test Type')\n",
    "    plt.ylabel('Standard Deviation (ppm)')\n",
    "    plt.legend(loc = 'best', bbox_to_anchor = (1,1))"
   ]
  }
 ],
 "metadata": {
  "kernelspec": {
   "display_name": "Python 2",
   "language": "python",
   "name": "python2"
  },
  "language_info": {
   "codemirror_mode": {
    "name": "ipython",
    "version": 2
   },
   "file_extension": ".py",
   "mimetype": "text/x-python",
   "name": "python",
   "nbconvert_exporter": "python",
   "pygments_lexer": "ipython2",
   "version": "2.7.11"
  }
 },
 "nbformat": 4,
 "nbformat_minor": 0
}
