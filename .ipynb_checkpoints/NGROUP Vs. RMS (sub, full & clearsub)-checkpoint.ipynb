{
 "cells": [
  {
   "cell_type": "code",
   "execution_count": 1,
   "metadata": {
    "collapsed": true
   },
   "outputs": [],
   "source": [
    "from astropy.io import fits\n",
    "from astropy.table import Table, Column, hstack\n",
    "import pdb, glob\n",
    "import numpy as np\n",
    "import rafias_lib as rl\n",
    "import matplotlib.pyplot as plt\n",
    "%matplotlib inline\n",
    "plt.rcParams['figure.figsize'] = (10.0, 8.0)"
   ]
  },
  {
   "cell_type": "markdown",
   "metadata": {},
   "source": [
    "## Clearsubs"
   ]
  },
  {
   "cell_type": "code",
   "execution_count": 11,
   "metadata": {
    "collapsed": true
   },
   "outputs": [],
   "source": [
    "a1_files_clr = []\n",
    "for n in ['1', '2', '3', '4', '5', '6']:\n",
    "    a1_files_clr.append(np.sort(glob.glob('/data1/tso_analysis/all_tso_cv3/raw_separated_MMM'\n",
    "                              '/NRCN821CLRSUB'+n+'*_481_SE_2016-*/*.slp.fits')))"
   ]
  },
  {
   "cell_type": "code",
   "execution_count": 12,
   "metadata": {
    "collapsed": true
   },
   "outputs": [],
   "source": [
    "b4_files_clr = []\n",
    "for n in ['1', '2', '3', '4', '5', '6']:\n",
    "    b4_files_clr.append(np.sort(glob.glob('/data1/tso_analysis/all_tso_cv3/raw_separated_MMM'\n",
    "                              '/NRCN821CLRSUB'+n+'*_489_SE_2016-*/*.slp.fits')))"
   ]
  },
  {
   "cell_type": "code",
   "execution_count": 13,
   "metadata": {
    "collapsed": true
   },
   "outputs": [],
   "source": [
    "a1_centers_clr = []\n",
    "for ds in a1_files_clr:\n",
    "    a1_centers_clr.append(rl.gen_center_g2d(164,161,5,3500,2,2,0,ds))"
   ]
  },
  {
   "cell_type": "code",
   "execution_count": 14,
   "metadata": {
    "collapsed": true
   },
   "outputs": [],
   "source": [
    "b4_centers_clr = []\n",
    "for ds in b4_files_clr:\n",
    "    b4_centers_clr.append(rl.gen_center_g2d(160,155,5,4500,2,2,0,ds))"
   ]
  },
  {
   "cell_type": "code",
   "execution_count": 15,
   "metadata": {
    "collapsed": true
   },
   "outputs": [],
   "source": [
    "a1_data_clr = []\n",
    "for x in range(1,7):\n",
    "    globals()['a1_data_clr%s' % x] = rl.time_series(a1_centers_clr[x-1][1], a1_centers_clr[x-1][2],\n",
    "                                                    a1_files_clr[x-1], 3, 9, 10)\n",
    "    a1_data_clr.append(globals()['a1_data_clr%s' % x])"
   ]
  },
  {
   "cell_type": "code",
   "execution_count": 16,
   "metadata": {
    "collapsed": true
   },
   "outputs": [],
   "source": [
    "b4_data_clr = []\n",
    "for x in range(1,7):\n",
    "    globals()['b4_data_clr%s' % x] = rl.time_series(b4_centers_clr[x-1][1], b4_centers_clr[x-1][2], \n",
    "                                                    b4_files_clr[x-1], 3, 9, 10)\n",
    "    b4_data_clr.append(globals()['b4_data_clr%s' % x])"
   ]
  },
  {
   "cell_type": "code",
   "execution_count": 17,
   "metadata": {
    "collapsed": true
   },
   "outputs": [],
   "source": [
    "av_data_clr = []\n",
    "for x in range(1,7):\n",
    "    globals()['av_data_clr%s' % x] = (a1_data_clr[x-1]['res_flux']+b4_data_clr[x-1]['res_flux'])/2 \n",
    "    av_data_clr.append(globals()['av_data_clr%s' % x])"
   ]
  },
  {
   "cell_type": "code",
   "execution_count": 18,
   "metadata": {
    "collapsed": false
   },
   "outputs": [
    {
     "data": {
      "text/html": [
       "&lt;Table length=6&gt;\n",
       "<table id=\"table140681044194512\">\n",
       "<thead><tr><th>Test Number</th><th>Stdev</th></tr></thead>\n",
       "<thead><tr><th>float64</th><th>float64</th></tr></thead>\n",
       "<tr><td>1.0</td><td>2513.05772647</td></tr>\n",
       "<tr><td>2.0</td><td>2388.57613272</td></tr>\n",
       "<tr><td>3.0</td><td>2374.41464553</td></tr>\n",
       "<tr><td>4.0</td><td>2680.91156766</td></tr>\n",
       "<tr><td>5.0</td><td>2220.09672255</td></tr>\n",
       "<tr><td>6.0</td><td>2331.85451648</td></tr>\n",
       "</table>"
      ],
      "text/plain": [
       "<Table length=6>\n",
       "Test Number     Stdev    \n",
       "  float64      float64   \n",
       "----------- -------------\n",
       "        1.0 2513.05772647\n",
       "        2.0 2388.57613272\n",
       "        3.0 2374.41464553\n",
       "        4.0 2680.91156766\n",
       "        5.0 2220.09672255\n",
       "        6.0 2331.85451648"
      ]
     },
     "execution_count": 18,
     "metadata": {},
     "output_type": "execute_result"
    }
   ],
   "source": [
    "stdev_clr = Table(names = ('Test Number', 'NGROUP', 'Stdev'))\n",
    "for i, files in enumerate(a1_files_clr):\n",
    "    st_dev = np.std(av_data_clr[i][3:]/np.median(av_data_clr[i][3:]))\n",
    "    header = rl.test_image(files[5])[2]\n",
    "    ngroup = header['NGROUP']\n",
    "    stdev_clr.add_row([i+1, ngroup, st_dev*1e6])\n",
    "stdev_clr"
   ]
  },
  {
   "cell_type": "markdown",
   "metadata": {},
   "source": [
    "## Full"
   ]
  },
  {
   "cell_type": "code",
   "execution_count": 21,
   "metadata": {
    "collapsed": true
   },
   "outputs": [],
   "source": [
    "a1_files_full = []\n",
    "for n in ['1', '2', '3', '4', '5', 'Q']:\n",
    "    a1_files_full.append(np.sort(glob.glob('/data1/tso_analysis/all_tso_cv3/raw_separated_MMM/'\n",
    "                              'NRCN821WLP8FULL'+n+'-*_1_481_SE_*/*.red.fits')))"
   ]
  },
  {
   "cell_type": "code",
   "execution_count": 22,
   "metadata": {
    "collapsed": true
   },
   "outputs": [],
   "source": [
    "b4_files_full = []\n",
    "for n in ['1', '2', '3', '4', '5', 'Q']:\n",
    "    b4_files_full.append(np.sort(glob.glob('/data1/tso_analysis/all_tso_cv3/raw_separated_MMM/'\n",
    "                              'NRCN821WLP8FULL'+n+'-*_1_489_SE_*/*.red.fits')))"
   ]
  },
  {
   "cell_type": "code",
   "execution_count": 23,
   "metadata": {
    "collapsed": true
   },
   "outputs": [],
   "source": [
    "a1_centers_full = []\n",
    "for ds in a1_files_full:\n",
    "    a1_centers.append(rl.gen_center_g2d(1405,1036,5,400,4,4,0,ds, red = True))"
   ]
  },
  {
   "cell_type": "code",
   "execution_count": 30,
   "metadata": {
    "collapsed": false
   },
   "outputs": [],
   "source": [
    "b4_centers_full = []\n",
    "for ds in b4_files_full:\n",
    "    b4_centers_full.append(rl.gen_center_g2d(828,821,5,600,4,4,0,ds, red = True))"
   ]
  },
  {
   "cell_type": "code",
   "execution_count": 31,
   "metadata": {
    "collapsed": false
   },
   "outputs": [
    {
     "ename": "IndexError",
     "evalue": "list index out of range",
     "output_type": "error",
     "traceback": [
      "\u001b[1;31m---------------------------------------------------------------------------\u001b[0m",
      "\u001b[1;31mIndexError\u001b[0m                                Traceback (most recent call last)",
      "\u001b[1;32m<ipython-input-31-5027fa958837>\u001b[0m in \u001b[0;36m<module>\u001b[1;34m()\u001b[0m\n\u001b[0;32m      1\u001b[0m \u001b[0ma1_data_full\u001b[0m \u001b[1;33m=\u001b[0m \u001b[1;33m[\u001b[0m\u001b[1;33m]\u001b[0m\u001b[1;33m\u001b[0m\u001b[0m\n\u001b[0;32m      2\u001b[0m \u001b[1;32mfor\u001b[0m \u001b[0mx\u001b[0m \u001b[1;32min\u001b[0m \u001b[0mrange\u001b[0m\u001b[1;33m(\u001b[0m\u001b[1;36m1\u001b[0m\u001b[1;33m,\u001b[0m\u001b[1;36m7\u001b[0m\u001b[1;33m)\u001b[0m\u001b[1;33m:\u001b[0m\u001b[1;33m\u001b[0m\u001b[0m\n\u001b[1;32m----> 3\u001b[1;33m     globals()['a1_data_full%s' % x] = rl.time_series(a1_centers_full[x-1][1], a1_centers_full[x-1][2], \n\u001b[0m\u001b[0;32m      4\u001b[0m                                                      a1_files_full[x-1], 70, 72, 80, red = True)\n\u001b[0;32m      5\u001b[0m     \u001b[0ma1_data_full\u001b[0m\u001b[1;33m.\u001b[0m\u001b[0mappend\u001b[0m\u001b[1;33m(\u001b[0m\u001b[0mglobals\u001b[0m\u001b[1;33m(\u001b[0m\u001b[1;33m)\u001b[0m\u001b[1;33m[\u001b[0m\u001b[1;34m'a1_data_full%s'\u001b[0m \u001b[1;33m%\u001b[0m \u001b[0mx\u001b[0m\u001b[1;33m]\u001b[0m\u001b[1;33m)\u001b[0m\u001b[1;33m\u001b[0m\u001b[0m\n",
      "\u001b[1;31mIndexError\u001b[0m: list index out of range"
     ]
    }
   ],
   "source": [
    "a1_data_full = []\n",
    "for x in range(1,7):\n",
    "    globals()['a1_data_full%s' % x] = rl.time_series(a1_centers_full[x-1][1], a1_centers_full[x-1][2], \n",
    "                                                     a1_files_full[x-1], 70, 72, 80, red = True)\n",
    "    a1_data_full.append(globals()['a1_data_full%s' % x])"
   ]
  },
  {
   "cell_type": "code",
   "execution_count": null,
   "metadata": {
    "collapsed": true
   },
   "outputs": [],
   "source": [
    "b4_data_full = []\n",
    "for x in range(1,7):\n",
    "    globals()['b4_data_full%s' % x] = rl.time_series(b4_centers_full[x-1][1], b4_centers_full[x-1][2], \n",
    "                                                     b4_files_full[x-1], 70, 72, 80, red = True)\n",
    "    b4_data_full.append(globals()['b4_data_full%s' % x])"
   ]
  },
  {
   "cell_type": "code",
   "execution_count": null,
   "metadata": {
    "collapsed": true
   },
   "outputs": [],
   "source": [
    "av_data_full = []\n",
    "for x in range(1,7):\n",
    "    globals()['av_data_full%s' % x] = (a1_data_full[x-1]['res_flux']+b4_data_full[x-1]['res_flux'])/2 \n",
    "    av_data_full.append(globals()['av_data_full%s' % x])"
   ]
  },
  {
   "cell_type": "code",
   "execution_count": null,
   "metadata": {
    "collapsed": false
   },
   "outputs": [],
   "source": [
    "stdev_full = Table(names = ('Test Number', 'NGROUP', 'Stdev'))\n",
    "for i, files in enumerate(a1_files_full):\n",
    "    st_dev = np.std(av_data_full[i-1][3:]/np.median(av_data_full[i-1][3:]))\n",
    "    header = rl.test_image(files[5])[2]\n",
    "    ngroup = header['NGROUP']\n",
    "    stdev_full.add_row([i+1, ngroup, st_dev*1e6])\n",
    "stdev_full"
   ]
  },
  {
   "cell_type": "markdown",
   "metadata": {},
   "source": [
    "## Sub"
   ]
  },
  {
   "cell_type": "code",
   "execution_count": null,
   "metadata": {
    "collapsed": true
   },
   "outputs": [],
   "source": [
    "a1_files_sub = []\n",
    "for n in ['-', '640-']:\n",
    "    a1_files_sub.append(np.sort(glob.glob('/data1/tso_analysis/all_tso_cv3/raw_separated_MMM'\n",
    "                              '/NRCN821WLP8SUB'+n+'60*_1_481_SE_*/*.slp.fits')))"
   ]
  },
  {
   "cell_type": "code",
   "execution_count": null,
   "metadata": {
    "collapsed": true
   },
   "outputs": [],
   "source": [
    "b4_files_sub = []\n",
    "for n in ['1', '2', '3', '4', '5', 'Q']:\n",
    "    b4_files_sub.append(np.sort(glob.glob('/data1/tso_analysis/all_tso_cv3/raw_separated_MMM/'\n",
    "                              '/NRCN821WLP8SUB'+n+'60*_1_489_SE_*/*.slp.fits')))"
   ]
  },
  {
   "cell_type": "code",
   "execution_count": null,
   "metadata": {
    "collapsed": true
   },
   "outputs": [],
   "source": [
    "a1_centers_sub = []\n",
    "for i, ds in enumerate(a1_files_sub):\n",
    "    if i == 0:\n",
    "        a1_centers.append(rl.gen_center_g2d(166,160,5,400,2,2,0,ds))\n",
    "    else:\n",
    "        a1_centers.append(rl.gen_center_g2d(326,320,5,400,2,2,0,ds))"
   ]
  },
  {
   "cell_type": "code",
   "execution_count": null,
   "metadata": {
    "collapsed": true
   },
   "outputs": [],
   "source": [
    "b4_centers_sub = []\n",
    "for i, ds in enumerate(b4_files_sub):\n",
    "    if i == 0:\n",
    "        b4_centers_sub.append(rl.gen_center_g2d(162,156,5,500,2,2,0,ds))\n",
    "    else:\n",
    "        b4_centers_sub.append(rl.gen_center_g2d(319,316,5,500,2,2,0,ds))"
   ]
  },
  {
   "cell_type": "code",
   "execution_count": null,
   "metadata": {
    "collapsed": true
   },
   "outputs": [],
   "source": [
    "a1_data_sub = []\n",
    "for x in range(1,3):\n",
    "    globals()['a1_data_sub%s' % x] = rl.time_series(a1_centers_sub[x-1][1], a1_centers_sub[x-1][2], \n",
    "                                                     a1_files_sub[x-1], 70, 72, 80)\n",
    "    a1_data_sub.append(globals()['a1_data_sub%s' % x])"
   ]
  },
  {
   "cell_type": "code",
   "execution_count": null,
   "metadata": {
    "collapsed": true
   },
   "outputs": [],
   "source": [
    "b4_data_sub = []\n",
    "for x in range(1,3):\n",
    "    globals()['b4_data_sub%s' % x] = rl.time_series(b4_centers_sub[x-1][1], b4_centers_sub[x-1][2], \n",
    "                                                     b4_files_sub[x-1], 70, 72, 80)\n",
    "    b4_data_sub.append(globals()['b4_data_sub%s' % x])"
   ]
  },
  {
   "cell_type": "code",
   "execution_count": null,
   "metadata": {
    "collapsed": true
   },
   "outputs": [],
   "source": [
    "av_data_sub = []\n",
    "for x in range(1,3):\n",
    "    globals()['av_data_sub%s' % x] = (a1_data_sub[x-1]['res_flux']+b4_data_sub[x-1]['res_flux'])/2 \n",
    "    av_data_sub.append(globals()['av_data_sub%s' % x])"
   ]
  },
  {
   "cell_type": "code",
   "execution_count": null,
   "metadata": {
    "collapsed": false
   },
   "outputs": [],
   "source": [
    "stdev_sub = Table(names = ('Test Number', 'NGROUP', 'Stdev'))\n",
    "for i, files in enumerate(a1_files_sub):\n",
    "    st_dev = np.std(av_data_sub[i-1][3:]/np.median(av_data_sub[i-1][3:]))\n",
    "    header = rl.test_image(files[5])[2]\n",
    "    ngroup = header['NGROUP']\n",
    "    stdev_sub.add_row([i+1, ngroup, st_dev*1e6])\n",
    "stdev_sub"
   ]
  },
  {
   "cell_type": "markdown",
   "metadata": {},
   "source": [
    "## Results"
   ]
  },
  {
   "cell_type": "code",
   "execution_count": null,
   "metadata": {
    "collapsed": true
   },
   "outputs": [],
   "source": [
    "for (clr, full, sub) in zip(a1_files_sub)"
   ]
  }
 ],
 "metadata": {
  "kernelspec": {
   "display_name": "Python 2",
   "language": "python",
   "name": "python2"
  },
  "language_info": {
   "codemirror_mode": {
    "name": "ipython",
    "version": 2
   },
   "file_extension": ".py",
   "mimetype": "text/x-python",
   "name": "python",
   "nbconvert_exporter": "python",
   "pygments_lexer": "ipython2",
   "version": "2.7.11"
  }
 },
 "nbformat": 4,
 "nbformat_minor": 0
}
