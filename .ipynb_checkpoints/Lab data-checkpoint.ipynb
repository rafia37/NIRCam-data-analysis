{
 "cells": [
  {
   "cell_type": "code",
   "execution_count": 2,
   "metadata": {
    "collapsed": true
   },
   "outputs": [],
   "source": [
    "from astropy.io import fits, ascii\n",
    "from astropy.table import Table, Column, hstack\n",
    "from astropy.time import Time\n",
    "import numpy as np\n",
    "import rafias_lib as rl\n",
    "import pdb, glob, matplotlib, string\n",
    "import matplotlib.pyplot as plt\n",
    "%matplotlib inline\n",
    "plt.rcParams['figure.figsize'] =  (10, 8)"
   ]
  },
  {
   "cell_type": "code",
   "execution_count": 3,
   "metadata": {
    "collapsed": false
   },
   "outputs": [
    {
     "name": "stdout",
     "output_type": "stream",
     "text": [
      "150\n"
     ]
    }
   ],
   "source": [
    "hdu_filenames_s1 = glob.glob('/data/Local/Run95/More_Subarray/Run95_subarray_1mi*.S01.fits')\n",
    "print len(hdu_filenames_s1)"
   ]
  },
  {
   "cell_type": "code",
   "execution_count": 4,
   "metadata": {
    "collapsed": true
   },
   "outputs": [
    {
     "data": {
      "text/plain": [
       "[2456966.6835879628,\n",
       " 2456966.6835995372,\n",
       " 2456966.6836111112,\n",
       " 2456966.6836226853,\n",
       " 2456966.6836342593,\n",
       " 2456966.6836342593,\n",
       " 2456966.6836458333,\n",
       " 2456966.6836574073,\n",
       " 2456966.6836689813,\n",
       " 2456966.683680556,\n",
       " 2456966.68369213,\n",
       " 2456966.68369213,\n",
       " 2456966.683703704,\n",
       " 2456966.683715278,\n",
       " 2456966.683726852,\n",
       " 2456966.683738426,\n",
       " 2456966.68375,\n",
       " 2456966.68375,\n",
       " 2456966.683761574,\n",
       " 2456966.6837731483,\n",
       " 2456966.6837847224,\n",
       " 2456966.6837962964,\n",
       " 2456966.6838078704,\n",
       " 2456966.6838078704,\n",
       " 2456966.6838194444,\n",
       " 2456966.6838310184,\n",
       " 2456966.6838425924,\n",
       " 2456966.683854167,\n",
       " 2456966.683865741,\n",
       " 2456966.683865741,\n",
       " 2456966.683877315,\n",
       " 2456966.683888889,\n",
       " 2456966.683900463,\n",
       " 2456966.683912037,\n",
       " 2456966.683923611,\n",
       " 2456966.683923611,\n",
       " 2456966.683935185,\n",
       " 2456966.6839467594,\n",
       " 2456966.6839583335,\n",
       " 2456966.6839699075,\n",
       " 2456966.6839814815,\n",
       " 2456966.6839814815,\n",
       " 2456966.6839930555,\n",
       " 2456966.6840046295,\n",
       " 2456966.6840162035,\n",
       " 2456966.684027778,\n",
       " 2456966.684039352,\n",
       " 2456966.684050926,\n",
       " 2456966.684050926,\n",
       " 2456966.6840625,\n",
       " 2456966.684074074,\n",
       " 2456966.684085648,\n",
       " 2456966.684097222,\n",
       " 2456966.684108796,\n",
       " 2456966.684108796,\n",
       " 2456966.6841203705,\n",
       " 2456966.6841319446,\n",
       " 2456966.6841435186,\n",
       " 2456966.6841550926,\n",
       " 2456966.6841666666,\n",
       " 2456966.6841666666,\n",
       " 2456966.6841782406,\n",
       " 2456966.6841898146,\n",
       " 2456966.684201389,\n",
       " 2456966.684212963,\n",
       " 2456966.684224537,\n",
       " 2456966.684224537,\n",
       " 2456966.684236111,\n",
       " 2456966.684247685,\n",
       " 2456966.684259259,\n",
       " 2456966.684270833,\n",
       " 2456966.6842824076,\n",
       " 2456966.6842824076,\n",
       " 2456966.6842939816,\n",
       " 2456966.6843055557,\n",
       " 2456966.6843171297,\n",
       " 2456966.6843287037,\n",
       " 2456966.6843402777,\n",
       " 2456966.6843402777,\n",
       " 2456966.6843518517,\n",
       " 2456966.6843634257,\n",
       " 2456966.684375,\n",
       " 2456966.684386574,\n",
       " 2456966.684398148,\n",
       " 2456966.684398148,\n",
       " 2456966.684409722,\n",
       " 2456966.684421296,\n",
       " 2456966.6844328702,\n",
       " 2456966.6844444443,\n",
       " 2456966.6844560187,\n",
       " 2456966.6844560187,\n",
       " 2456966.6844675927,\n",
       " 2456966.6844791668,\n",
       " 2456966.6844907408,\n",
       " 2456966.684502315,\n",
       " 2456966.684513889,\n",
       " 2456966.684513889,\n",
       " 2456966.684525463,\n",
       " 2456966.684537037,\n",
       " 2456966.6845486113,\n",
       " 2456966.6845601853,\n",
       " 2456966.6845717593,\n",
       " 2456966.6845717593,\n",
       " 2456966.6845833333,\n",
       " 2456966.6845949073,\n",
       " 2456966.6846064813,\n",
       " 2456966.6846180554,\n",
       " 2456966.68462963,\n",
       " 2456966.68462963,\n",
       " 2456966.684641204,\n",
       " 2456966.684652778,\n",
       " 2456966.684664352,\n",
       " 2456966.684675926,\n",
       " 2456966.6846875,\n",
       " 2456966.6846875,\n",
       " 2456966.684699074,\n",
       " 2456966.6847106484,\n",
       " 2456966.6847222224,\n",
       " 2456966.6847337964,\n",
       " 2456966.6847453704,\n",
       " 2456966.6847453704,\n",
       " 2456966.6847569444,\n",
       " 2456966.6847685184,\n",
       " 2456966.6847800924,\n",
       " 2456966.6847916665,\n",
       " 2456966.684803241,\n",
       " 2456966.684803241,\n",
       " 2456966.684814815,\n",
       " 2456966.684826389,\n",
       " 2456966.684837963,\n",
       " 2456966.684849537,\n",
       " 2456966.684861111,\n",
       " 2456966.684861111,\n",
       " 2456966.684872685,\n",
       " 2456966.6848842595,\n",
       " 2456966.6848958335,\n",
       " 2456966.6849074075,\n",
       " 2456966.6849189815,\n",
       " 2456966.6849189815,\n",
       " 2456966.6849305555,\n",
       " 2456966.6849421295,\n",
       " 2456966.6849537035,\n",
       " 2456966.6849652776,\n",
       " 2456966.684976852,\n",
       " 2456966.684988426,\n",
       " 2456966.684988426,\n",
       " 2456966.685,\n",
       " 2456966.685011574,\n",
       " 2456966.685023148,\n",
       " 2456966.685034722]"
      ]
     },
     "execution_count": 4,
     "metadata": {},
     "output_type": "execute_result"
    }
   ],
   "source": [
    "time_s1 = []\n",
    "for hdus in hdu_filenames_s1:\n",
    "    hdu = fits.open(hdus)\n",
    "    header = hdu[0].header\n",
    "    date1 = string.split(string.replace(header['DATE'], '/', '-'), '-')\n",
    "    date = date1[2] + '-' + date1[0] + '-' + date1[1]\n",
    "    time_str = date +'T'+ header['STARTEXP']\n",
    "    time_s1.append(Time(time_str).jd)\n",
    "time_s1"
   ]
  },
  {
   "cell_type": "code",
   "execution_count": 5,
   "metadata": {
    "collapsed": false
   },
   "outputs": [
    {
     "name": "stdout",
     "output_type": "stream",
     "text": [
      "Help on function time_series in module rafias_lib:\n",
      "\n",
      "time_series(xcenter, ycenter, filenames, r, r_in, r_out, flat_name=False, w=None, h=None, w_in=None, w_out=None, h_out=None, red=False, red2=False, mode='astropy', src_shape='Circ', bkg_shape='Circ', average='med')\n",
      "\n"
     ]
    }
   ],
   "source": [
    "help(rl.time_series)"
   ]
  },
  {
   "cell_type": "code",
   "execution_count": 23,
   "metadata": {
    "collapsed": true
   },
   "outputs": [
    {
     "name": "stderr",
     "output_type": "stream",
     "text": [
      "WARNING: 'exact' method is not implemented, defaults to 'subpixel' method and subpixels=32 instead [photutils.aperture_core]\n"
     ]
    },
    {
     "ename": "KeyError",
     "evalue": "\"Keyword 'TGROUP' not found.\"",
     "output_type": "error",
     "traceback": [
      "\u001b[1;31m---------------------------------------------------------------------------\u001b[0m",
      "\u001b[1;31mKeyError\u001b[0m                                  Traceback (most recent call last)",
      "\u001b[1;32m<ipython-input-23-4f1e714b3e35>\u001b[0m in \u001b[0;36m<module>\u001b[1;34m()\u001b[0m\n\u001b[1;32m----> 1\u001b[1;33m \u001b[0mdata_s1\u001b[0m \u001b[1;33m=\u001b[0m \u001b[0mrl\u001b[0m\u001b[1;33m.\u001b[0m\u001b[0mtime_series\u001b[0m\u001b[1;33m(\u001b[0m\u001b[1;36m80.0\u001b[0m\u001b[1;33m,\u001b[0m \u001b[1;36m80.0\u001b[0m\u001b[1;33m,\u001b[0m \u001b[0mhdu_filenames_s1\u001b[0m\u001b[1;33m,\u001b[0m \u001b[0map_type\u001b[0m \u001b[1;33m=\u001b[0m \u001b[1;34m\"rect\"\u001b[0m\u001b[1;33m,\u001b[0m \u001b[0mwidth\u001b[0m \u001b[1;33m=\u001b[0m \u001b[1;36m160\u001b[0m\u001b[1;33m,\u001b[0m \u001b[0mheight\u001b[0m \u001b[1;33m=\u001b[0m \u001b[1;36m160\u001b[0m\u001b[1;33m)\u001b[0m\u001b[1;33m\u001b[0m\u001b[0m\n\u001b[0m\u001b[0;32m      2\u001b[0m \u001b[0mdata_s1\u001b[0m\u001b[1;33m\u001b[0m\u001b[0m\n",
      "\u001b[1;32m/home/rafia/rafias_lib.py\u001b[0m in \u001b[0;36mtime_series\u001b[1;34m(center_x, center_y, hdu_filenames, red, red2, ap_type, radius, width, height, angle)\u001b[0m\n\u001b[0;32m     54\u001b[0m         \u001b[0mphot_table\u001b[0m \u001b[1;33m=\u001b[0m \u001b[0maperture_photometry\u001b[0m\u001b[1;33m(\u001b[0m\u001b[0mimage2d\u001b[0m\u001b[1;33m,\u001b[0m \u001b[0maperture\u001b[0m\u001b[1;33m,\u001b[0m \u001b[0mmask\u001b[0m \u001b[1;33m=\u001b[0m \u001b[0mmask\u001b[0m\u001b[1;33m)\u001b[0m\u001b[1;33m\u001b[0m\u001b[0m\n\u001b[0;32m     55\u001b[0m         \u001b[0mheader\u001b[0m \u001b[1;33m=\u001b[0m \u001b[0mhdu\u001b[0m\u001b[1;33m[\u001b[0m\u001b[1;36m0\u001b[0m\u001b[1;33m]\u001b[0m\u001b[1;33m.\u001b[0m\u001b[0mheader\u001b[0m\u001b[1;33m\u001b[0m\u001b[0m\n\u001b[1;32m---> 56\u001b[1;33m         \u001b[0mtime\u001b[0m \u001b[1;33m=\u001b[0m \u001b[1;33m[\u001b[0m\u001b[1;33m(\u001b[0m\u001b[0mheader\u001b[0m\u001b[1;33m[\u001b[0m\u001b[1;34m\"NGROUP\"\u001b[0m\u001b[1;33m]\u001b[0m \u001b[1;33m+\u001b[0m \u001b[1;36m1\u001b[0m\u001b[1;33m)\u001b[0m \u001b[1;33m*\u001b[0m \u001b[0mheader\u001b[0m\u001b[1;33m[\u001b[0m\u001b[1;34m\"TGROUP\"\u001b[0m\u001b[1;33m]\u001b[0m \u001b[1;33m*\u001b[0m \u001b[1;33m(\u001b[0m\u001b[0mheader\u001b[0m\u001b[1;33m[\u001b[0m\u001b[1;34m\"ON_NINT\"\u001b[0m\u001b[1;33m]\u001b[0m \u001b[1;33m-\u001b[0m \u001b[1;36m1\u001b[0m\u001b[1;33m)\u001b[0m\u001b[1;33m]\u001b[0m\u001b[1;33m\u001b[0m\u001b[0m\n\u001b[0m\u001b[0;32m     57\u001b[0m         \u001b[0ma\u001b[0m \u001b[1;33m=\u001b[0m \u001b[1;33m[\u001b[0m\u001b[0mphot_table\u001b[0m\u001b[1;33m[\u001b[0m\u001b[1;36m0\u001b[0m\u001b[1;33m]\u001b[0m\u001b[1;33m[\u001b[0m\u001b[1;36m0\u001b[0m\u001b[1;33m]\u001b[0m\u001b[1;33m]\u001b[0m\u001b[1;33m\u001b[0m\u001b[0m\n\u001b[0;32m     58\u001b[0m         \u001b[0mb\u001b[0m \u001b[1;33m=\u001b[0m \u001b[0mtime\u001b[0m\u001b[1;33m\u001b[0m\u001b[0m\n",
      "\u001b[1;32m/home/rafia/anaconda2/lib/python2.7/site-packages/astropy/io/fits/header.pyc\u001b[0m in \u001b[0;36m__getitem__\u001b[1;34m(self, key)\u001b[0m\n\u001b[0;32m    149\u001b[0m         \u001b[1;32melse\u001b[0m\u001b[1;33m:\u001b[0m\u001b[1;33m\u001b[0m\u001b[0m\n\u001b[0;32m    150\u001b[0m             \u001b[0mkeyword\u001b[0m \u001b[1;33m=\u001b[0m \u001b[0mkey\u001b[0m\u001b[1;33m\u001b[0m\u001b[0m\n\u001b[1;32m--> 151\u001b[1;33m         \u001b[0mcard\u001b[0m \u001b[1;33m=\u001b[0m \u001b[0mself\u001b[0m\u001b[1;33m.\u001b[0m\u001b[0m_cards\u001b[0m\u001b[1;33m[\u001b[0m\u001b[0mself\u001b[0m\u001b[1;33m.\u001b[0m\u001b[0m_cardindex\u001b[0m\u001b[1;33m(\u001b[0m\u001b[0mkey\u001b[0m\u001b[1;33m)\u001b[0m\u001b[1;33m]\u001b[0m\u001b[1;33m\u001b[0m\u001b[0m\n\u001b[0m\u001b[0;32m    152\u001b[0m         \u001b[1;32mif\u001b[0m \u001b[0mcard\u001b[0m\u001b[1;33m.\u001b[0m\u001b[0mfield_specifier\u001b[0m \u001b[1;32mis\u001b[0m \u001b[1;32mnot\u001b[0m \u001b[0mNone\u001b[0m \u001b[1;32mand\u001b[0m \u001b[0mkeyword\u001b[0m \u001b[1;33m==\u001b[0m \u001b[0mcard\u001b[0m\u001b[1;33m.\u001b[0m\u001b[0mrawkeyword\u001b[0m\u001b[1;33m:\u001b[0m\u001b[1;33m\u001b[0m\u001b[0m\n\u001b[0;32m    153\u001b[0m             \u001b[1;31m# This is RVKC; if only the top-level keyword was specified return\u001b[0m\u001b[1;33m\u001b[0m\u001b[1;33m\u001b[0m\u001b[0m\n",
      "\u001b[1;32m/home/rafia/anaconda2/lib/python2.7/site-packages/astropy/io/fits/header.pyc\u001b[0m in \u001b[0;36m_cardindex\u001b[1;34m(self, key)\u001b[0m\n\u001b[0;32m   1721\u001b[0m \u001b[1;33m\u001b[0m\u001b[0m\n\u001b[0;32m   1722\u001b[0m         \u001b[1;32mif\u001b[0m \u001b[1;32mnot\u001b[0m \u001b[0mindices\u001b[0m\u001b[1;33m:\u001b[0m\u001b[1;33m\u001b[0m\u001b[0m\n\u001b[1;32m-> 1723\u001b[1;33m             \u001b[1;32mraise\u001b[0m \u001b[0mKeyError\u001b[0m\u001b[1;33m(\u001b[0m\u001b[1;34m\"Keyword %r not found.\"\u001b[0m \u001b[1;33m%\u001b[0m \u001b[0mkeyword\u001b[0m\u001b[1;33m)\u001b[0m\u001b[1;33m\u001b[0m\u001b[0m\n\u001b[0m\u001b[0;32m   1724\u001b[0m \u001b[1;33m\u001b[0m\u001b[0m\n\u001b[0;32m   1725\u001b[0m         \u001b[1;32mtry\u001b[0m\u001b[1;33m:\u001b[0m\u001b[1;33m\u001b[0m\u001b[0m\n",
      "\u001b[1;31mKeyError\u001b[0m: \"Keyword 'TGROUP' not found.\""
     ]
    }
   ],
   "source": [
    "data_s1 = rl.time_series(80.0, 80.0, hdu_filenames_s1, ap_type = \"rect\", width = 160, height = 160)\n",
    "data_s1"
   ]
  },
  {
   "cell_type": "code",
   "execution_count": 7,
   "metadata": {
    "collapsed": false
   },
   "outputs": [
    {
     "name": "stdout",
     "output_type": "stream",
     "text": [
      "150\n"
     ]
    }
   ],
   "source": [
    "hdu_filenames_s2 = glob.glob('/data/Local/Run95/More_Subarray/Run95_subarray_1mi*.S02.fits')\n",
    "print len(hdu_filenames_s2)"
   ]
  },
  {
   "cell_type": "code",
   "execution_count": 4,
   "metadata": {
    "collapsed": false
   },
   "outputs": [
    {
     "name": "stdout",
     "output_type": "stream",
     "text": [
      "150\n"
     ]
    }
   ],
   "source": [
    "hdu_filenames_s3 = glob.glob('/data/Local/Run95/More_Subarray/Run95_subarray_1mi*.S03.fits')\n",
    "print len(hdu_filenames_s3)"
   ]
  },
  {
   "cell_type": "code",
   "execution_count": 5,
   "metadata": {
    "collapsed": false
   },
   "outputs": [
    {
     "name": "stdout",
     "output_type": "stream",
     "text": [
      "150\n"
     ]
    }
   ],
   "source": [
    "hdu_filenames_s1 = glob.glob('/data/Local/Run95/More_Subarray/Run95_subarray_1mi*.S01.fits')\n",
    "print len(hdu_filenames_s1)"
   ]
  }
 ],
 "metadata": {
  "kernelspec": {
   "display_name": "Python 2",
   "language": "python",
   "name": "python2"
  },
  "language_info": {
   "codemirror_mode": {
    "name": "ipython",
    "version": 2
   },
   "file_extension": ".py",
   "mimetype": "text/x-python",
   "name": "python",
   "nbconvert_exporter": "python",
   "pygments_lexer": "ipython2",
   "version": "2.7.11"
  }
 },
 "nbformat": 4,
 "nbformat_minor": 0
}
