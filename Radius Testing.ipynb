{
 "cells": [
  {
   "cell_type": "code",
   "execution_count": 1,
   "metadata": {
    "collapsed": false
   },
   "outputs": [],
   "source": [
    "from astropy.io import fits\n",
    "from astropy.table import Table, Column, hstack\n",
    "import pdb\n",
    "import numpy as np\n",
    "import rafias_lib as rl\n",
    "import glob\n",
    "import matplotlib\n",
    "import matplotlib.pyplot as plt\n",
    "%matplotlib inline\n",
    "plt.rcParams['figure.figsize'] = (10.0, 8.0)"
   ]
  },
  {
   "cell_type": "markdown",
   "metadata": {},
   "source": [
    "## 11/10"
   ]
  },
  {
   "cell_type": "markdown",
   "metadata": {},
   "source": [
    "### Sub320"
   ]
  },
  {
   "cell_type": "code",
   "execution_count": 2,
   "metadata": {
    "collapsed": false
   },
   "outputs": [
    {
     "data": {
      "text/plain": [
       "306"
      ]
     },
     "execution_count": 2,
     "metadata": {},
     "output_type": "execute_result"
    }
   ],
   "source": [
    "files_sub = np.sort(glob.glob('/data1/tso_analysis/all_tso_cv3/raw_separated_MMM'\n",
    "                              '/NRCN821WLP8SUB-60*_1_481_SE_*/*.slp.fits'))\n",
    "len(files_sub)"
   ]
  },
  {
   "cell_type": "code",
   "execution_count": 3,
   "metadata": {
    "collapsed": true
   },
   "outputs": [],
   "source": [
    "centers_sub = rl.gen_center_g2d(166,160,5,400,2,2,0,files_sub)[0]"
   ]
  },
  {
   "cell_type": "code",
   "execution_count": 4,
   "metadata": {
    "collapsed": false
   },
   "outputs": [
    {
     "name": "stdout",
     "output_type": "stream",
     "text": [
      "The minimum Standard deviation is -0.014459\n",
      "It occurs for the radius r = 20.000000\n",
      "It occurs for the inner radius r_in = 50.000000\n",
      "It occurs for the outer radius r_out = 60.000000\n"
     ]
    }
   ],
   "source": [
    "rt_sub = rl.radius_testing(centers_sub, 20, 120, 10, 40, 140, 10, 60, 160, 10, files_sub) "
   ]
  },
  {
   "cell_type": "code",
   "execution_count": 5,
   "metadata": {
    "collapsed": false
   },
   "outputs": [],
   "source": [
    "rt_sub.write('rt_sub.csv')"
   ]
  },
  {
   "cell_type": "markdown",
   "metadata": {},
   "source": [
    "### Sub640"
   ]
  },
  {
   "cell_type": "code",
   "execution_count": 6,
   "metadata": {
    "collapsed": false
   },
   "outputs": [
    {
     "data": {
      "text/plain": [
       "60"
      ]
     },
     "execution_count": 6,
     "metadata": {},
     "output_type": "execute_result"
    }
   ],
   "source": [
    "files_sub640 = np.sort(glob.glob('/data1/tso_analysis/all_tso_cv3/raw_separated_MMM'\n",
    "                              '/NRCN821WLP8SUB640-60*_1_481_SE_*/*.slp.fits'))\n",
    "len(files_sub640)"
   ]
  },
  {
   "cell_type": "code",
   "execution_count": 7,
   "metadata": {
    "collapsed": true
   },
   "outputs": [],
   "source": [
    "centers_sub640 = rl.gen_center_g2d(326,320,5,400,2,2,0,files_sub640)[0]"
   ]
  },
  {
   "cell_type": "code",
   "execution_count": 8,
   "metadata": {
    "collapsed": false
   },
   "outputs": [
    {
     "name": "stdout",
     "output_type": "stream",
     "text": [
      "The minimum Standard deviation is -0.017822\n",
      "It occurs for the radius r = 20.000000\n",
      "It occurs for the inner radius r_in = 50.000000\n",
      "It occurs for the outer radius r_out = 60.000000\n"
     ]
    }
   ],
   "source": [
    "rt_sub640 = rl.radius_testing(centers_sub640, 20, 120, 10, 40, 140, 10, 60, 160, 10, files_sub640) "
   ]
  },
  {
   "cell_type": "code",
   "execution_count": 9,
   "metadata": {
    "collapsed": false
   },
   "outputs": [],
   "source": [
    "rt_sub640.write('rt_sub640.csv')"
   ]
  },
  {
   "cell_type": "markdown",
   "metadata": {},
   "source": [
    "### Full"
   ]
  },
  {
   "cell_type": "code",
   "execution_count": 10,
   "metadata": {
    "collapsed": false
   },
   "outputs": [
    {
     "data": {
      "text/plain": [
       "225"
      ]
     },
     "execution_count": 10,
     "metadata": {},
     "output_type": "execute_result"
    }
   ],
   "source": [
    "files_full = np.sort(glob.glob('/data1/tso_analysis/all_tso_cv3/raw_separated_MMM/'\n",
    "                              'NRCN821WLP8FULL1-*_1_481_SE_*/*.red.fits'))\n",
    "len(files_full)"
   ]
  },
  {
   "cell_type": "code",
   "execution_count": 11,
   "metadata": {
    "collapsed": true
   },
   "outputs": [],
   "source": [
    "centers_full = rl.gen_center_g2d(1405,1036,5,400,4,4,0, files_full, red = True)[0]"
   ]
  },
  {
   "cell_type": "code",
   "execution_count": 12,
   "metadata": {
    "collapsed": false
   },
   "outputs": [
    {
     "name": "stdout",
     "output_type": "stream",
     "text": [
      "The minimum Standard deviation is -0.062054\n",
      "It occurs for the radius r = 20.000000\n",
      "It occurs for the inner radius r_in = 50.000000\n",
      "It occurs for the outer radius r_out = 60.000000\n"
     ]
    }
   ],
   "source": [
    "rt_full = rl.radius_testing(centers_full, 20, 120, 10, 40, 140, 10, 60, 160, 10, files_full) "
   ]
  },
  {
   "cell_type": "code",
   "execution_count": 13,
   "metadata": {
    "collapsed": false
   },
   "outputs": [],
   "source": [
    "rt_full.write('rt_full.csv')"
   ]
  },
  {
   "cell_type": "markdown",
   "metadata": {},
   "source": [
    "### Clr"
   ]
  },
  {
   "cell_type": "code",
   "execution_count": 14,
   "metadata": {
    "collapsed": false
   },
   "outputs": [
    {
     "data": {
      "text/plain": [
       "100"
      ]
     },
     "execution_count": 14,
     "metadata": {},
     "output_type": "execute_result"
    }
   ],
   "source": [
    "files_clr = np.sort(glob.glob('/data1/tso_analysis/all_tso_cv3/raw_separated_MMM'\n",
    "                              '/NRCN821CLRSUB1*_481_SE_2016-*/*.slp.fits'))\n",
    "len(files_clr)"
   ]
  },
  {
   "cell_type": "code",
   "execution_count": 15,
   "metadata": {
    "collapsed": true
   },
   "outputs": [],
   "source": [
    "centers_clr = rl.gen_center_g2d(164,161,5,3500,2,2,0, files_clr)[0]"
   ]
  },
  {
   "cell_type": "code",
   "execution_count": 16,
   "metadata": {
    "collapsed": false
   },
   "outputs": [
    {
     "name": "stdout",
     "output_type": "stream",
     "text": [
      "The minimum Standard deviation is 0.003115\n",
      "It occurs for the radius r = 3.000000\n",
      "It occurs for the inner radius r_in = 9.000000\n",
      "It occurs for the outer radius r_out = 10.000000\n"
     ]
    }
   ],
   "source": [
    "rt_clr = rl.radius_testing(centers_clr, 1, 11, 1, 3, 13, 1, 5, 15, 1, files_clr) "
   ]
  },
  {
   "cell_type": "code",
   "execution_count": 17,
   "metadata": {
    "collapsed": false
   },
   "outputs": [],
   "source": [
    "rt_clr.write('rt_clr.csv')"
   ]
  },
  {
   "cell_type": "markdown",
   "metadata": {},
   "source": [
    "## Old stuff"
   ]
  },
  {
   "cell_type": "code",
   "execution_count": null,
   "metadata": {
    "collapsed": true
   },
   "outputs": [],
   "source": [
    "#Importing a1 files\n",
    "hdu_filenames_a11 = glob.glob('/data/External/ISIMCV3_unzipped/NRCN821/fitsfilesonly/raw_separated_MMM/\\\n",
    "                    NRCN821WLP8SUB640-6012195832_1_481_SE_2016-01-12T20h57m57/*.slp.fits')\n",
    "len(hdu_filenames_a11)"
   ]
  },
  {
   "cell_type": "code",
   "execution_count": null,
   "metadata": {
    "collapsed": true
   },
   "outputs": [],
   "source": [
    "reload(rl)"
   ]
  },
  {
   "cell_type": "code",
   "execution_count": null,
   "metadata": {
    "collapsed": false
   },
   "outputs": [],
   "source": [
    "centers_a11 = rl.gen_center_g2d(326, 320, 5, 450, 2, 2, 0, hdu_filenames_a11)"
   ]
  },
  {
   "cell_type": "code",
   "execution_count": null,
   "metadata": {
    "collapsed": true
   },
   "outputs": [],
   "source": [
    "centers_a11"
   ]
  },
  {
   "cell_type": "code",
   "execution_count": null,
   "metadata": {
    "collapsed": false
   },
   "outputs": [],
   "source": [
    "r_src_low = 80\n",
    "r_src_up = 100\n",
    "inc = 5"
   ]
  },
  {
   "cell_type": "code",
   "execution_count": null,
   "metadata": {
    "collapsed": true
   },
   "outputs": [],
   "source": [
    "stdev_table = rl.radius_testing(centers_a11[0], r_src_low, r_src_up, inc, r_src_low + inc, r_src_up + (4*inc), inc,\n",
    "                                r_src_low + (2*inc), r_src_up + (5*inc), inc, hdu_filenames_a11)\n",
    "stdev_table"
   ]
  },
  {
   "cell_type": "code",
   "execution_count": null,
   "metadata": {
    "collapsed": true
   },
   "outputs": [],
   "source": [
    "for r_in in range(80, 180, 10):\n",
    "    for r_out in range(90, 190, 10):\n",
    "        index = (stdev_table['r_in']==r_in) & (stdev_table['r_out']==r_out)\n",
    "        plt.plot(stdev_table['r_source'][index], stdev_table['norm_stdev'][index], label = 'r_in = %f , r_out = %f' % (r_in, r_out))\n",
    "        plt.xlabel('R_source [Pixels]')\n",
    "        plt.ylabel('Standard Deviation [DN/S]')\n",
    "        plt.legend(loc='upper left', bbox_to_anchor=(1, 0.5))"
   ]
  },
  {
   "cell_type": "code",
   "execution_count": null,
   "metadata": {
    "collapsed": true
   },
   "outputs": [],
   "source": [
    "for r_in in range(80, 180, 10):\n",
    "    indices = stdev_table['r_in'] == r_in\n",
    "    plt.plot(stdev_table['r_source'][indices], ((stdev_table['St_Dev'][indices])/(stdev_table['Median_Res_Flux'][indices])), '.-')"
   ]
  },
  {
   "cell_type": "markdown",
   "metadata": {
    "collapsed": true
   },
   "source": [
    "### Radius testing for red data"
   ]
  },
  {
   "cell_type": "code",
   "execution_count": null,
   "metadata": {
    "collapsed": true
   },
   "outputs": [],
   "source": [
    "#Importing a1 files\n",
    "hdu_filenames_red = glob.glob('/data/External/ISIMCV3_unzipped/NRCN821/fitsfilesonly/reduced_separated_MMM/'+\n",
    "                              'NRCN821WLP8FULLQ-6013001651_1_481_SE_2016-01-13T01h03m43/*.red.fits')\n",
    "len(hdu_filenames_red)"
   ]
  },
  {
   "cell_type": "code",
   "execution_count": null,
   "metadata": {
    "collapsed": true
   },
   "outputs": [],
   "source": [
    "centers_red = rl.gen_center_g2d(1405, 1036, 5, 400, 4, 4, 0, hdu_filenames_red, red_files = True)\n",
    "centers_red"
   ]
  },
  {
   "cell_type": "code",
   "execution_count": null,
   "metadata": {
    "collapsed": true
   },
   "outputs": [],
   "source": [
    "stdev_table = rl.radius_testing(centers_red[0], 30, 130, 10, 50, 150, 10, 70, 170, 10, hdu_filenames_red, \n",
    "                                red_files = True)\n",
    "stdev_table"
   ]
  },
  {
   "cell_type": "code",
   "execution_count": null,
   "metadata": {
    "collapsed": true
   },
   "outputs": [],
   "source": [
    "for r_in in range(50, 150, 10):\n",
    "    for r_out in range(70, 170, 10):\n",
    "        index = (stdev_table['r_in']==r_in) & (stdev_table['r_out']==r_out)\n",
    "        plt.plot(stdev_table['r_source'][index], stdev_table['norm_stdev'][index], label = 'r_in = %f , r_out = %f' % (r_in, r_out))\n",
    "        plt.xlabel('R_source [Pixels]')\n",
    "        plt.ylabel('Standard Deviation [DN/S]')\n",
    "        plt.legend(loc='upper left', bbox_to_anchor=(1, 0.5))"
   ]
  },
  {
   "cell_type": "markdown",
   "metadata": {},
   "source": [
    "## Re-parametrizing radius testing code"
   ]
  },
  {
   "cell_type": "code",
   "execution_count": null,
   "metadata": {
    "collapsed": true
   },
   "outputs": [],
   "source": [
    "reload(rl)\n",
    "stdev_table = rl.radius_testing(centers_red[0], 30, 130, 10, 50, 150, 10, 70, 170, 10, hdu_filenames_red, \n",
    "                                red_files = True)\n",
    "stdev_table"
   ]
  },
  {
   "cell_type": "code",
   "execution_count": null,
   "metadata": {
    "collapsed": true
   },
   "outputs": [],
   "source": [
    "diff_in = stdev_table['rIn - r']\n",
    "diff_out = stdev_table['rOut - rIn']\n",
    "for dIn in diff_in:\n",
    "    for dOut in diff_out:\n",
    "        index = (diff_in==dIn) & (diff_out==dOut)\n",
    "        plt.plot(stdev_table['r_source'][index], stdev_table['norm_stdev'][index], \n",
    "                 label = 'diff_in = %f , diff_out = %f' % (dIn, dOut))\n",
    "        plt.xlabel('R_source [Pixels]')\n",
    "        plt.ylabel('Standard Deviation [DN/S]')\n",
    "        plt.legend(loc='upper left', bbox_to_anchor=(1, 0.5))\n",
    "#         pdb.set_trace()"
   ]
  },
  {
   "cell_type": "code",
   "execution_count": null,
   "metadata": {
    "collapsed": false
   },
   "outputs": [],
   "source": []
  }
 ],
 "metadata": {
  "kernelspec": {
   "display_name": "Python 2",
   "language": "python",
   "name": "python2"
  },
  "language_info": {
   "codemirror_mode": {
    "name": "ipython",
    "version": 2
   },
   "file_extension": ".py",
   "mimetype": "text/x-python",
   "name": "python",
   "nbconvert_exporter": "python",
   "pygments_lexer": "ipython2",
   "version": "2.7.11"
  }
 },
 "nbformat": 4,
 "nbformat_minor": 0
}
