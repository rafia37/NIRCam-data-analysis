{
 "cells": [
  {
   "cell_type": "code",
   "execution_count": 3,
   "metadata": {
    "collapsed": false
   },
   "outputs": [
    {
     "name": "stdout",
     "output_type": "stream",
     "text": [
      "Using matplotlib backend: Qt4Agg\n"
     ]
    }
   ],
   "source": [
    "from astropy.io import ascii\n",
    "import numpy as np\n",
    "import matplotlib.pyplot as plt\n",
    "import string\n",
    "from astropy.time import Time\n",
    "import numpy as np\n",
    "import pdb\n",
    "#%matplotlib inline\n",
    "%matplotlib"
   ]
  },
  {
   "cell_type": "code",
   "execution_count": null,
   "metadata": {
    "collapsed": false
   },
   "outputs": [],
   "source": [
    "d = ascii.read('cv3_otp821_telem.CSV')\n",
    "fitsTlist = []\n",
    "for time in d['Secondary Time']:\n",
    "    fitsTlist.append(string.replace(string.replace(time,'/','-'),' ','T'))\n",
    "tlist = Time(fitsTlist)\n",
    "d['JD'] = tlist.jd"
   ]
  },
  {
   "cell_type": "code",
   "execution_count": null,
   "metadata": {
    "collapsed": false
   },
   "outputs": [],
   "source": [
    "ind = np.where((d['Telemetry Mnemonic'] == 'INRC_FA_TMC1_SW_HTR_ST') |\n",
    "               (d['Telemetry Mnemonic'] == 'INRC_FB_TMC1_SW_HTR_ST') | \n",
    "               (d['Telemetry Mnemonic'] == 'INRC_FA_TMC2_SW_HTR_ST') |\n",
    "               (d['Telemetry Mnemonic'] == 'INRC_FB_TMC2_SW_HTR_ST'))\n",
    "d[ind[0]]"
   ]
  },
  {
   "cell_type": "code",
   "execution_count": null,
   "metadata": {
    "collapsed": true
   },
   "outputs": [],
   "source": [
    "tlist = ascii.read('/data1/tso_analysis/all_tso_cv3/temperatures/otp821_times.csv')\n",
    "tlist['tstart_JD'] = Time(tlist['tstart']).jd\n",
    "tlist['tend_JD'] = Time(tlist['tend']).jd"
   ]
  },
  {
   "cell_type": "code",
   "execution_count": null,
   "metadata": {
    "collapsed": false
   },
   "outputs": [],
   "source": [
    "tmnemonics = ['IGDP_NRC_A_T_SWFPAH1','IGDP_NRC_B_T_SWFPAH1','IGDP_NRC_FA_TMC1_SWMV_T','IGDP_NRC_FA_ACE1_SCTEMP']\n",
    "tnames = ['A Det Housing','B Det Housing','A Detector','A ASIC']\n",
    "\n",
    "plt.clf()\n",
    "ax = plt.gca()\n",
    "showtext = False\n",
    "for tind, item in enumerate(tmnemonics):\n",
    "    ind = np.where(d['Telemetry Mnemonic'] == item)\n",
    "    yval = (np.asarray(d['EU Value'][ind])).astype(np.float)\n",
    "    toffset = np.median(np.asarray(yval))\n",
    "    ax.plot(d['JD'][ind],yval - toffset,label=tnames[tind]+' - '+str(np.round(toffset,decimals=2))+' (K)')\n",
    "\n",
    "\n",
    "showYlim = [-0.1,0.1]\n",
    "ax.set_ylim(showYlim)\n",
    "\n",
    "showexpY = showYlim[0] + (showYlim[1] - showYlim[0]) * 0.25\n",
    "\n",
    "for obsind, obsid in enumerate(tlist['OBS_ID']):\n",
    "    row=tlist[obsind]\n",
    "    ax.plot([row['tstart_JD'],row['tend_JD']],np.array([1.,1.]) * showexpY)\n",
    "    if showtext == True:\n",
    "        ax.text(row['tstart_JD'],ymid,obsid,rotation=90,fontsize=8)\n",
    "    \n",
    "\n",
    "ax.set_xlim(np.min(tlist['tstart_JD']),np.max(tlist['tend_JD']))\n",
    "ax.set_xlabel('Time (JD)')    \n",
    "ax.set_ylabel('Temp (K)')\n",
    "ax.legend(fontsize=10)\n",
    "\n",
    "outname = 'otp821_fulltelem'\n",
    "if showtext == True:\n",
    "    outname = outname+'_w_labels'\n",
    "plt.savefig(outname+'.pdf')"
   ]
  },
  {
   "cell_type": "code",
   "execution_count": null,
   "metadata": {
    "collapsed": false
   },
   "outputs": [],
   "source": [
    "tlist.sort('tstart_JD')\n",
    "tlist.show_in_browser()\n",
    "#tlist.write('otp821_times_sorted.csv')"
   ]
  },
  {
   "cell_type": "code",
   "execution_count": null,
   "metadata": {
    "collapsed": false
   },
   "outputs": [],
   "source": []
  },
  {
   "cell_type": "code",
   "execution_count": null,
   "metadata": {
    "collapsed": true
   },
   "outputs": [],
   "source": []
  }
 ],
 "metadata": {
  "kernelspec": {
   "display_name": "Python 2",
   "language": "python",
   "name": "python2"
  },
  "language_info": {
   "codemirror_mode": {
    "name": "ipython",
    "version": 2
   },
   "file_extension": ".py",
   "mimetype": "text/x-python",
   "name": "python",
   "nbconvert_exporter": "python",
   "pygments_lexer": "ipython2",
   "version": "2.7.11"
  }
 },
 "nbformat": 4,
 "nbformat_minor": 0
}
