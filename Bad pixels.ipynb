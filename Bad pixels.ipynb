{
 "cells": [
  {
   "cell_type": "code",
   "execution_count": 1,
   "metadata": {
    "collapsed": false
   },
   "outputs": [],
   "source": [
    "from astropy.table import Table,vstack\n",
    "import rafias_lib as rl\n",
    "import numpy as np\n",
    "import pdb, glob\n",
    "import matplotlib.pyplot as plt\n",
    "%matplotlib inline"
   ]
  },
  {
   "cell_type": "code",
   "execution_count": 2,
   "metadata": {
    "collapsed": false
   },
   "outputs": [],
   "source": [
    "fnames = np.sort(glob.glob('/data1/tso_analysis/all_tso_cv3/raw_separated_MMM'+\n",
    "                              '/NRCN821WLP8SUB-6012134600_1_481_SE_2016-01-12T16h42m53/*.slp.fits'))"
   ]
  },
  {
   "cell_type": "code",
   "execution_count": 3,
   "metadata": {
    "collapsed": false
   },
   "outputs": [],
   "source": [
    "centers = rl.gen_center_g2d(166, 160, 5, 400, 2, 2, 0, fnames)"
   ]
  },
  {
   "cell_type": "code",
   "execution_count": 4,
   "metadata": {
    "collapsed": false
   },
   "outputs": [
    {
     "data": {
      "text/html": [
       "&lt;Table length=306&gt;\n",
       "<table id=\"table139974455119440\">\n",
       "<thead><tr><th>#Badpixels</th><th>Time</th></tr></thead>\n",
       "<thead><tr><th>float64</th><th>float64</th></tr></thead>\n",
       "<tr><td>38.0</td><td>0.0</td></tr>\n",
       "<tr><td>38.0</td><td>22.38012</td></tr>\n",
       "<tr><td>38.0</td><td>44.76024</td></tr>\n",
       "<tr><td>38.0</td><td>67.14036</td></tr>\n",
       "<tr><td>38.0</td><td>89.52048</td></tr>\n",
       "<tr><td>38.0</td><td>111.9006</td></tr>\n",
       "<tr><td>38.0</td><td>134.28072</td></tr>\n",
       "<tr><td>38.0</td><td>156.66084</td></tr>\n",
       "<tr><td>38.0</td><td>179.04096</td></tr>\n",
       "<tr><td>38.0</td><td>201.42108</td></tr>\n",
       "<tr><td>...</td><td>...</td></tr>\n",
       "<tr><td>38.0</td><td>6624.51552</td></tr>\n",
       "<tr><td>38.0</td><td>6646.89564</td></tr>\n",
       "<tr><td>38.0</td><td>6669.27576</td></tr>\n",
       "<tr><td>38.0</td><td>6691.65588</td></tr>\n",
       "<tr><td>38.0</td><td>6714.036</td></tr>\n",
       "<tr><td>38.0</td><td>6736.41612</td></tr>\n",
       "<tr><td>38.0</td><td>6758.79624</td></tr>\n",
       "<tr><td>38.0</td><td>6781.17636</td></tr>\n",
       "<tr><td>38.0</td><td>6803.55648</td></tr>\n",
       "<tr><td>38.0</td><td>6825.9366</td></tr>\n",
       "</table>"
      ],
      "text/plain": [
       "<Table length=306>\n",
       "#Badpixels    Time   \n",
       " float64    float64  \n",
       "---------- ----------\n",
       "      38.0        0.0\n",
       "      38.0   22.38012\n",
       "      38.0   44.76024\n",
       "      38.0   67.14036\n",
       "      38.0   89.52048\n",
       "      38.0   111.9006\n",
       "      38.0  134.28072\n",
       "      38.0  156.66084\n",
       "      38.0  179.04096\n",
       "      38.0  201.42108\n",
       "       ...        ...\n",
       "      38.0 6624.51552\n",
       "      38.0 6646.89564\n",
       "      38.0 6669.27576\n",
       "      38.0 6691.65588\n",
       "      38.0   6714.036\n",
       "      38.0 6736.41612\n",
       "      38.0 6758.79624\n",
       "      38.0 6781.17636\n",
       "      38.0 6803.55648\n",
       "      38.0  6825.9366"
      ]
     },
     "execution_count": 4,
     "metadata": {},
     "output_type": "execute_result"
    }
   ],
   "source": [
    "badpxl = Table(names = ('#Badpixels','Time'))\n",
    "for filename in fnames:\n",
    "    image, time, _, mask = rl.test_image(filename)\n",
    "    num_badpxl = len(image[mask])\n",
    "    badpxl.add_row([num_badpxl,time])\n",
    "badpxl"
   ]
  },
  {
   "cell_type": "code",
   "execution_count": 5,
   "metadata": {
    "collapsed": false,
    "scrolled": true
   },
   "outputs": [
    {
     "data": {
      "text/plain": [
       "<matplotlib.text.Text at 0x7f4e57941110>"
      ]
     },
     "execution_count": 5,
     "metadata": {},
     "output_type": "execute_result"
    },
    {
     "data": {
      "image/png": "[encoded data removed]",
      "text/plain": [
       "<matplotlib.figure.Figure at 0x7f4e8428e050>"
      ]
     },
     "metadata": {},
     "output_type": "display_data"
    }
   ],
   "source": [
    "plt.plot(badpxl['Time'], badpxl['#Badpixels'])\n",
    "plt.xlabel('Time[sec]')\n",
    "plt.ylabel('Number of NaNs/image')"
   ]
  },
  {
   "cell_type": "code",
   "execution_count": 18,
   "metadata": {
    "collapsed": false
   },
   "outputs": [
    {
     "data": {
      "text/html": [
       "&lt;Table length=306&gt;\n",
       "<table id=\"table139685313212624\">\n",
       "<thead><tr><th>#Badpixels</th><th>Time</th></tr></thead>\n",
       "<thead><tr><th>float64</th><th>float64</th></tr></thead>\n",
       "<tr><td>7.0</td><td>0.0</td></tr>\n",
       "<tr><td>7.0</td><td>22.38012</td></tr>\n",
       "<tr><td>7.0</td><td>44.76024</td></tr>\n",
       "<tr><td>7.0</td><td>67.14036</td></tr>\n",
       "<tr><td>7.0</td><td>89.52048</td></tr>\n",
       "<tr><td>7.0</td><td>111.9006</td></tr>\n",
       "<tr><td>7.0</td><td>134.28072</td></tr>\n",
       "<tr><td>7.0</td><td>156.66084</td></tr>\n",
       "<tr><td>7.0</td><td>179.04096</td></tr>\n",
       "<tr><td>7.0</td><td>201.42108</td></tr>\n",
       "<tr><td>...</td><td>...</td></tr>\n",
       "<tr><td>7.0</td><td>6624.51552</td></tr>\n",
       "<tr><td>7.0</td><td>6646.89564</td></tr>\n",
       "<tr><td>7.0</td><td>6669.27576</td></tr>\n",
       "<tr><td>7.0</td><td>6691.65588</td></tr>\n",
       "<tr><td>7.0</td><td>6714.036</td></tr>\n",
       "<tr><td>7.0</td><td>6736.41612</td></tr>\n",
       "<tr><td>7.0</td><td>6758.79624</td></tr>\n",
       "<tr><td>7.0</td><td>6781.17636</td></tr>\n",
       "<tr><td>7.0</td><td>6803.55648</td></tr>\n",
       "<tr><td>7.0</td><td>6825.9366</td></tr>\n",
       "</table>"
      ],
      "text/plain": [
       "<Table length=306>\n",
       "#Badpixels    Time   \n",
       " float64    float64  \n",
       "---------- ----------\n",
       "       7.0        0.0\n",
       "       7.0   22.38012\n",
       "       7.0   44.76024\n",
       "       7.0   67.14036\n",
       "       7.0   89.52048\n",
       "       7.0   111.9006\n",
       "       7.0  134.28072\n",
       "       7.0  156.66084\n",
       "       7.0  179.04096\n",
       "       7.0  201.42108\n",
       "       ...        ...\n",
       "       7.0 6624.51552\n",
       "       7.0 6646.89564\n",
       "       7.0 6669.27576\n",
       "       7.0 6691.65588\n",
       "       7.0   6714.036\n",
       "       7.0 6736.41612\n",
       "       7.0 6758.79624\n",
       "       7.0 6781.17636\n",
       "       7.0 6803.55648\n",
       "       7.0  6825.9366"
      ]
     },
     "execution_count": 18,
     "metadata": {},
     "output_type": "execute_result"
    }
   ],
   "source": [
    "r = 70\n",
    "bp_in_source = Table(names = ('#Badpixels','Time'))\n",
    "for filename in fnames:\n",
    "    image, time, _, mask1 = rl.test_image(filename)\n",
    "    y, x = np.mgrid[:image.shape[0], :image.shape[1]]\n",
    "    mask2 = ((x - 166)**2 + (y - 160)**2) <= (r**2)\n",
    "    points = (mask1 == True) & (mask2 == True)\n",
    "    num_bp = len(image[points])\n",
    "    bp_in_source.add_row([num_bp, time])\n",
    "bp_in_source"
   ]
  },
  {
   "cell_type": "code",
   "execution_count": 20,
   "metadata": {
    "collapsed": false
   },
   "outputs": [
    {
     "data": {
      "text/plain": [
       "[<matplotlib.lines.Line2D at 0x7f0aff769310>]"
      ]
     },
     "execution_count": 20,
     "metadata": {},
     "output_type": "execute_result"
    },
    {
     "data": {
      "image/png": "[encoded data removed]",
      "text/plain": [
       "<matplotlib.figure.Figure at 0x7f0aff57c5d0>"
      ]
     },
     "metadata": {},
     "output_type": "display_data"
    }
   ],
   "source": [
    "plt.plot(bp_in_source['Time'], bp_in_source['#Badpixels'])"
   ]
  },
  {
   "cell_type": "code",
   "execution_count": 21,
   "metadata": {
    "collapsed": true
   },
   "outputs": [],
   "source": [
    "t = Table()\n",
    "t['Bad pixels in full image'] = badpxl['#Badpixels']\n",
    "t['Bad pixels inside source (70px)'] = bp_in_source['#Badpixels']\n",
    "t['Time'] = bp_in_source['Time']"
   ]
  },
  {
   "cell_type": "code",
   "execution_count": 22,
   "metadata": {
    "collapsed": false
   },
   "outputs": [
    {
     "data": {
      "text/html": [
       "&lt;Table length=306&gt;\n",
       "<table id=\"table139685209073936\">\n",
       "<thead><tr><th>Bad pixels in full image</th><th>Bad pixels inside source (70px)</th><th>Time</th></tr></thead>\n",
       "<thead><tr><th>float64</th><th>float64</th><th>float64</th></tr></thead>\n",
       "<tr><td>38.0</td><td>7.0</td><td>0.0</td></tr>\n",
       "<tr><td>38.0</td><td>7.0</td><td>22.38012</td></tr>\n",
       "<tr><td>38.0</td><td>7.0</td><td>44.76024</td></tr>\n",
       "<tr><td>38.0</td><td>7.0</td><td>67.14036</td></tr>\n",
       "<tr><td>38.0</td><td>7.0</td><td>89.52048</td></tr>\n",
       "<tr><td>38.0</td><td>7.0</td><td>111.9006</td></tr>\n",
       "<tr><td>38.0</td><td>7.0</td><td>134.28072</td></tr>\n",
       "<tr><td>38.0</td><td>7.0</td><td>156.66084</td></tr>\n",
       "<tr><td>38.0</td><td>7.0</td><td>179.04096</td></tr>\n",
       "<tr><td>38.0</td><td>7.0</td><td>201.42108</td></tr>\n",
       "<tr><td>...</td><td>...</td><td>...</td></tr>\n",
       "<tr><td>38.0</td><td>7.0</td><td>6624.51552</td></tr>\n",
       "<tr><td>38.0</td><td>7.0</td><td>6646.89564</td></tr>\n",
       "<tr><td>38.0</td><td>7.0</td><td>6669.27576</td></tr>\n",
       "<tr><td>38.0</td><td>7.0</td><td>6691.65588</td></tr>\n",
       "<tr><td>38.0</td><td>7.0</td><td>6714.036</td></tr>\n",
       "<tr><td>38.0</td><td>7.0</td><td>6736.41612</td></tr>\n",
       "<tr><td>38.0</td><td>7.0</td><td>6758.79624</td></tr>\n",
       "<tr><td>38.0</td><td>7.0</td><td>6781.17636</td></tr>\n",
       "<tr><td>38.0</td><td>7.0</td><td>6803.55648</td></tr>\n",
       "<tr><td>38.0</td><td>7.0</td><td>6825.9366</td></tr>\n",
       "</table>"
      ],
      "text/plain": [
       "<Table length=306>\n",
       "Bad pixels in full image Bad pixels inside source (70px)    Time   \n",
       "        float64                      float64              float64  \n",
       "------------------------ ------------------------------- ----------\n",
       "                    38.0                             7.0        0.0\n",
       "                    38.0                             7.0   22.38012\n",
       "                    38.0                             7.0   44.76024\n",
       "                    38.0                             7.0   67.14036\n",
       "                    38.0                             7.0   89.52048\n",
       "                    38.0                             7.0   111.9006\n",
       "                    38.0                             7.0  134.28072\n",
       "                    38.0                             7.0  156.66084\n",
       "                    38.0                             7.0  179.04096\n",
       "                    38.0                             7.0  201.42108\n",
       "                     ...                             ...        ...\n",
       "                    38.0                             7.0 6624.51552\n",
       "                    38.0                             7.0 6646.89564\n",
       "                    38.0                             7.0 6669.27576\n",
       "                    38.0                             7.0 6691.65588\n",
       "                    38.0                             7.0   6714.036\n",
       "                    38.0                             7.0 6736.41612\n",
       "                    38.0                             7.0 6758.79624\n",
       "                    38.0                             7.0 6781.17636\n",
       "                    38.0                             7.0 6803.55648\n",
       "                    38.0                             7.0  6825.9366"
      ]
     },
     "execution_count": 22,
     "metadata": {},
     "output_type": "execute_result"
    }
   ],
   "source": [
    "t"
   ]
  }
 ],
 "metadata": {
  "kernelspec": {
   "display_name": "Python 2",
   "language": "python",
   "name": "python2"
  },
  "language_info": {
   "codemirror_mode": {
    "name": "ipython",
    "version": 2
   },
   "file_extension": ".py",
   "mimetype": "text/x-python",
   "name": "python",
   "nbconvert_exporter": "python",
   "pygments_lexer": "ipython2",
   "version": "2.7.11"
  }
 },
 "nbformat": 4,
 "nbformat_minor": 0
}
