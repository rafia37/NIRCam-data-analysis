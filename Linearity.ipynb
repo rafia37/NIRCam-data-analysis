{
 "cells": [
  {
   "cell_type": "code",
   "execution_count": 1,
   "metadata": {
    "collapsed": false
   },
   "outputs": [],
   "source": [
    "from astropy.io import fits, ascii\n",
    "from astropy.table import Table\n",
    "import numpy as np\n",
    "import matplotlib.pyplot as plt\n",
    "import rafias_lib as rl\n",
    "import pdb, glob\n",
    "%matplotlib inline"
   ]
  },
  {
   "cell_type": "markdown",
   "metadata": {},
   "source": [
    "# General"
   ]
  },
  {
   "cell_type": "code",
   "execution_count": 2,
   "metadata": {
    "collapsed": true
   },
   "outputs": [],
   "source": [
    "#coefficient files\n",
    "a1 = fits.open('/usr/local/nircamsuite/cal/Linearity/NRCA1_17004_LinearityCoeff_ADU0_2016-05-14.fits')\n",
    "a1_coeff = a1[1].data\n",
    "\n",
    "b4 = fits.open('/usr/local/nircamsuite/cal/Linearity/NRCB4_17047_LinearityCoeff_ADU0_2016-05-20.fits')\n",
    "b4_coeff = b4[1].data"
   ]
  },
  {
   "cell_type": "code",
   "execution_count": 3,
   "metadata": {
    "collapsed": true
   },
   "outputs": [],
   "source": [
    "def correction(flux,corr_factor):\n",
    "    \"\"\"Correction function\"\"\"\n",
    "    return np.polynomial.polynomial.polyval(flux, corr_factor)"
   ]
  },
  {
   "cell_type": "markdown",
   "metadata": {},
   "source": [
    "**Naming Convention:**\n",
    "+ First letter &nbsp;&nbsp;&nbsp;&nbsp;&nbsp;&nbsp;&nbsp;&nbsp;&nbsp;- test type &nbsp;&nbsp;&nbsp;&nbsp;&nbsp;&nbsp;&nbsp;&nbsp;&nbsp;&nbsp;: s = sub, s6 = sub640, f = full1\n",
    "+ Second & Third &nbsp;- detector side &nbsp;&nbsp;&nbsp;: a1/b4\n",
    "+ After dash (1st) &nbsp;- correction type : m = mmm, p = mpm\n",
    "+ After dash (2nd) - file type &nbsp;&nbsp;&nbsp;&nbsp;&nbsp;&nbsp;&nbsp;&nbsp;&nbsp;&nbsp;&nbsp;: s = slp, r = red\n",
    "+ After dash (3rd) &nbsp;- object type &nbsp;&nbsp;&nbsp;&nbsp;&nbsp;&nbsp;: f = file, s = stdev, t = ts, c = cen, i = image"
   ]
  },
  {
   "cell_type": "code",
   "execution_count": 4,
   "metadata": {
    "collapsed": false
   },
   "outputs": [],
   "source": [
    "#mmm red files\n",
    "sa1_mrf, sb4_mrf, s6a1_mrf, s6b4_mrf, fa1_mrf, fb4_mrf = rl.fname_generator(['SUB', 'SUB640', 'FULL1'], 0)\n",
    "\n",
    "#mmm slp files\n",
    "#sa1_msf, sb4_msf, s6a1_msf, s6b4_msf, fa1_msf, fb4_msf  = rl.fname_generator(['SUB', 'SUB640', 'FULL1'], 6)\n",
    "\n",
    "#mpm red files\n",
    "sa1_prf, sb4_prf, s6a1_prf, s6b4_prf, fa1_prf, fb4_prf = rl.fname_generator(['SUB', 'SUB640', 'FULL1'], 0, 'MPM')\n",
    "\n",
    "#mpm red files\n",
    "# sa1_psf, sb4_psf, s6a1_psf, s6b4_psf, fa1_psf, fb4_psf = rl.fname_generator(['SUB', 'SUB640', 'FULL1'], 6, 'MPM')"
   ]
  },
  {
   "cell_type": "code",
   "execution_count": 5,
   "metadata": {
    "collapsed": false
   },
   "outputs": [],
   "source": [
    "cen_sa1, cen_sb4, cen_s6a1, cen_s6b4, cen_fa1, cen_fb4 = np.load('centers.npy')[:6]"
   ]
  },
  {
   "cell_type": "code",
   "execution_count": 6,
   "metadata": {
    "collapsed": true
   },
   "outputs": [],
   "source": [
    "def test_pixel(fname, pixels, stdev, coeff, plane, just_image = False):\n",
    "    hdu = fits.open(fname)\n",
    "    header = hdu[0].header\n",
    "    image = hdu[0].data\n",
    "    hdu.close()\n",
    "    \n",
    "    if just_image == True:\n",
    "        %matplotlib notebook\n",
    "        plt.imshow(image[plane])\n",
    "        return image\n",
    "    else:\n",
    "        ori, cor, dev = np.array([]), np.array([]), np.array([])\n",
    "        for p in pixels:\n",
    "            x, y = p\n",
    "            px1 = image[plane][y,x]\n",
    "            px2 = px1*(1.+(stdev*1e-6))\n",
    "\n",
    "            corr_x, corr_y = [int(x+header['COLCORNR']), int(y+header['ROWCORNR'])]\n",
    "            corr_px1 = correction(px1, coeff[:,corr_y,corr_x])*px1\n",
    "            corr_px2 = correction(px2, coeff[:,corr_y,corr_x])*px2\n",
    "\n",
    "            orig_stdev = ((px2/px1) -1.)*1e6\n",
    "            corr_stdev = ((corr_px2/corr_px1) -1.)*1e6\n",
    "            deviation = ((orig_stdev-corr_stdev)/orig_stdev)*100.\n",
    "            \n",
    "            ori = np.append(ori, orig_stdev)\n",
    "            cor = np.append(cor, corr_stdev)\n",
    "            dev = np.append(dev, deviation)\n",
    "        \n",
    "        return ori, cor, dev "
   ]
  },
  {
   "cell_type": "code",
   "execution_count": 7,
   "metadata": {
    "collapsed": true
   },
   "outputs": [],
   "source": [
    "def all_pixel(fname, cenx, ceny, stdev, coeff, plane, just_image = False, diff_plane = False, last_plane = None):\n",
    "    \n",
    "    hdu    = fits.open(fname)\n",
    "    header = hdu[0].header\n",
    "    image  = hdu[0].data\n",
    "    hdu.close()\n",
    "    \n",
    "    if diff_plane == True:\n",
    "        im1 = image[last_plane] - image[plane]\n",
    "    else:\n",
    "        im1 = image[plane]\n",
    "    im2 = im1*(1.+(stdev*1e-6))\n",
    "    \n",
    "    x, y               = np.arange(0, im1.shape[0]), np.arange(0,im1.shape[1])\n",
    "    col, row           = int(header['COLCORNR']) - 1, int(header['ROWCORNR']) - 1\n",
    "    corr_x, corr_y     = (x + col), (y + row)\n",
    "    corr_im1, corr_im2 = np.zeros([im1.shape[0],im1.shape[1]]), np.zeros([im1.shape[0],im1.shape[1]])\n",
    "    \n",
    "    for cy in corr_y:\n",
    "        for cx in corr_x:\n",
    "            corr_im1[cy-row][cx-col] = correction(im1[cy-row][cx-col], coeff[:, cy, cx])*im1[cy-row][cx-col]\n",
    "            corr_im2[cy-row][cx-col] = correction(im2[cy-row][cx-col], coeff[:, cy, cx])*im2[cy-row][cx-col]\n",
    "    \n",
    "    mask       = np.isnan(im1) == True\n",
    "    corr_mask  = np.isnan(corr_im1) == True\n",
    "    flux1      = rl.photometry(im1, [cenx], [ceny], mask, rad = 70)[0]\n",
    "    flux2      = rl.photometry(im2, [cenx], [ceny], mask, rad = 70)[0]\n",
    "    corr_flux1 = rl.photometry(corr_im1, [cenx], [ceny], corr_mask, rad = 70)[0]\n",
    "    corr_flux2 = rl.photometry(corr_im2, [cenx], [ceny], corr_mask, rad = 70)[0]\n",
    "    orig_stdev = ((flux2/flux1) -1.)*1e6\n",
    "    corr_stdev = ((corr_flux2/corr_flux1) -1.)*1e6\n",
    "    deviation  = ((orig_stdev-corr_stdev)/orig_stdev)*100.\n",
    "\n",
    "\n",
    "    return orig_stdev, corr_stdev, deviation "
   ]
  },
  {
   "cell_type": "markdown",
   "metadata": {},
   "source": [
    "# Testing A Few Pixels"
   ]
  },
  {
   "cell_type": "markdown",
   "metadata": {},
   "source": [
    "## Sub"
   ]
  },
  {
   "cell_type": "markdown",
   "metadata": {},
   "source": [
    "#### a1"
   ]
  },
  {
   "cell_type": "code",
   "execution_count": 8,
   "metadata": {
    "collapsed": false
   },
   "outputs": [
    {
     "data": {
      "application/javascript": [
       "/* Put everything inside the global mpl namespace */\n",
       "window.mpl = {};\n",
       "\n",
       "mpl.get_websocket_type = function() {\n",
       "    if (typeof(WebSocket) !== 'undefined') {\n",
       "        return WebSocket;\n",
       "    } else if (typeof(MozWebSocket) !== 'undefined') {\n",
       "        return MozWebSocket;\n",
       "    } else {\n",
       "        alert('Your browser does not have WebSocket support.' +\n",
       "              'Please try Chrome, Safari or Firefox ≥ 6. ' +\n",
       "              'Firefox 4 and 5 are also supported but you ' +\n",
       "              'have to enable WebSockets in about:config.');\n",
       "    };\n",
       "}\n",
       "\n",
       "mpl.figure = function(figure_id, websocket, ondownload, parent_element) {\n",
       "    this.id = figure_id;\n",
       "\n",
       "    this.ws = websocket;\n",
       "\n",
       "    this.supports_binary = (this.ws.binaryType != undefined);\n",
       "\n",
       "    if (!this.supports_binary) {\n",
       "        var warnings = document.getElementById(\"mpl-warnings\");\n",
       "        if (warnings) {\n",
       "            warnings.style.display = 'block';\n",
       "            warnings.textContent = (\n",
       "                \"This browser does not support binary websocket messages. \" +\n",
       "                    \"Performance may be slow.\");\n",
       "        }\n",
       "    }\n",
       "\n",
       "    this.imageObj = new Image();\n",
       "\n",
       "    this.context = undefined;\n",
       "    this.message = undefined;\n",
       "    this.canvas = undefined;\n",
       "    this.rubberband_canvas = undefined;\n",
       "    this.rubberband_context = undefined;\n",
       "    this.format_dropdown = undefined;\n",
       "\n",
       "    this.image_mode = 'full';\n",
       "\n",
       "    this.root = $('<div/>');\n",
       "    this._root_extra_style(this.root)\n",
       "    this.root.attr('style', 'display: inline-block');\n",
       "\n",
       "    $(parent_element).append(this.root);\n",
       "\n",
       "    this._init_header(this);\n",
       "    this._init_canvas(this);\n",
       "    this._init_toolbar(this);\n",
       "\n",
       "    var fig = this;\n",
       "\n",
       "    this.waiting = false;\n",
       "\n",
       "    this.ws.onopen =  function () {\n",
       "            fig.send_message(\"supports_binary\", {value: fig.supports_binary});\n",
       "            fig.send_message(\"send_image_mode\", {});\n",
       "            fig.send_message(\"refresh\", {});\n",
       "        }\n",
       "\n",
       "    this.imageObj.onload = function() {\n",
       "            if (fig.image_mode == 'full') {\n",
       "                // Full images could contain transparency (where diff images\n",
       "                // almost always do), so we need to clear the canvas so that\n",
       "                // there is no ghosting.\n",
       "                fig.context.clearRect(0, 0, fig.canvas.width, fig.canvas.height);\n",
       "            }\n",
       "            fig.context.drawImage(fig.imageObj, 0, 0);\n",
       "        };\n",
       "\n",
       "    this.imageObj.onunload = function() {\n",
       "        this.ws.close();\n",
       "    }\n",
       "\n",
       "    this.ws.onmessage = this._make_on_message_function(this);\n",
       "\n",
       "    this.ondownload = ondownload;\n",
       "}\n",
       "\n",
       "mpl.figure.prototype._init_header = function() {\n",
       "    var titlebar = $(\n",
       "        '<div class=\"ui-dialog-titlebar ui-widget-header ui-corner-all ' +\n",
       "        'ui-helper-clearfix\"/>');\n",
       "    var titletext = $(\n",
       "        '<div class=\"ui-dialog-title\" style=\"width: 100%; ' +\n",
       "        'text-align: center; padding: 3px;\"/>');\n",
       "    titlebar.append(titletext)\n",
       "    this.root.append(titlebar);\n",
       "    this.header = titletext[0];\n",
       "}\n",
       "\n",
       "\n",
       "\n",
       "mpl.figure.prototype._canvas_extra_style = function(canvas_div) {\n",
       "\n",
       "}\n",
       "\n",
       "\n",
       "mpl.figure.prototype._root_extra_style = function(canvas_div) {\n",
       "\n",
       "}\n",
       "\n",
       "mpl.figure.prototype._init_canvas = function() {\n",
       "    var fig = this;\n",
       "\n",
       "    var canvas_div = $('<div/>');\n",
       "\n",
       "    canvas_div.attr('style', 'position: relative; clear: both; outline: 0');\n",
       "\n",
       "    function canvas_keyboard_event(event) {\n",
       "        return fig.key_event(event, event['data']);\n",
       "    }\n",
       "\n",
       "    canvas_div.keydown('key_press', canvas_keyboard_event);\n",
       "    canvas_div.keyup('key_release', canvas_keyboard_event);\n",
       "    this.canvas_div = canvas_div\n",
       "    this._canvas_extra_style(canvas_div)\n",
       "    this.root.append(canvas_div);\n",
       "\n",
       "    var canvas = $('<canvas/>');\n",
       "    canvas.addClass('mpl-canvas');\n",
       "    canvas.attr('style', \"left: 0; top: 0; z-index: 0; outline: 0\")\n",
       "\n",
       "    this.canvas = canvas[0];\n",
       "    this.context = canvas[0].getContext(\"2d\");\n",
       "\n",
       "    var rubberband = $('<canvas/>');\n",
       "    rubberband.attr('style', \"position: absolute; left: 0; top: 0; z-index: 1;\")\n",
       "\n",
       "    var pass_mouse_events = true;\n",
       "\n",
       "    canvas_div.resizable({\n",
       "        start: function(event, ui) {\n",
       "            pass_mouse_events = false;\n",
       "        },\n",
       "        resize: function(event, ui) {\n",
       "            fig.request_resize(ui.size.width, ui.size.height);\n",
       "        },\n",
       "        stop: function(event, ui) {\n",
       "            pass_mouse_events = true;\n",
       "            fig.request_resize(ui.size.width, ui.size.height);\n",
       "        },\n",
       "    });\n",
       "\n",
       "    function mouse_event_fn(event) {\n",
       "        if (pass_mouse_events)\n",
       "            return fig.mouse_event(event, event['data']);\n",
       "    }\n",
       "\n",
       "    rubberband.mousedown('button_press', mouse_event_fn);\n",
       "    rubberband.mouseup('button_release', mouse_event_fn);\n",
       "    // Throttle sequential mouse events to 1 every 20ms.\n",
       "    rubberband.mousemove('motion_notify', mouse_event_fn);\n",
       "\n",
       "    rubberband.mouseenter('figure_enter', mouse_event_fn);\n",
       "    rubberband.mouseleave('figure_leave', mouse_event_fn);\n",
       "\n",
       "    canvas_div.on(\"wheel\", function (event) {\n",
       "        event = event.originalEvent;\n",
       "        event['data'] = 'scroll'\n",
       "        if (event.deltaY < 0) {\n",
       "            event.step = 1;\n",
       "        } else {\n",
       "            event.step = -1;\n",
       "        }\n",
       "        mouse_event_fn(event);\n",
       "    });\n",
       "\n",
       "    canvas_div.append(canvas);\n",
       "    canvas_div.append(rubberband);\n",
       "\n",
       "    this.rubberband = rubberband;\n",
       "    this.rubberband_canvas = rubberband[0];\n",
       "    this.rubberband_context = rubberband[0].getContext(\"2d\");\n",
       "    this.rubberband_context.strokeStyle = \"#000000\";\n",
       "\n",
       "    this._resize_canvas = function(width, height) {\n",
       "        // Keep the size of the canvas, canvas container, and rubber band\n",
       "        // canvas in synch.\n",
       "        canvas_div.css('width', width)\n",
       "        canvas_div.css('height', height)\n",
       "\n",
       "        canvas.attr('width', width);\n",
       "        canvas.attr('height', height);\n",
       "\n",
       "        rubberband.attr('width', width);\n",
       "        rubberband.attr('height', height);\n",
       "    }\n",
       "\n",
       "    // Set the figure to an initial 600x600px, this will subsequently be updated\n",
       "    // upon first draw.\n",
       "    this._resize_canvas(600, 600);\n",
       "\n",
       "    // Disable right mouse context menu.\n",
       "    $(this.rubberband_canvas).bind(\"contextmenu\",function(e){\n",
       "        return false;\n",
       "    });\n",
       "\n",
       "    function set_focus () {\n",
       "        canvas.focus();\n",
       "        canvas_div.focus();\n",
       "    }\n",
       "\n",
       "    window.setTimeout(set_focus, 100);\n",
       "}\n",
       "\n",
       "mpl.figure.prototype._init_toolbar = function() {\n",
       "    var fig = this;\n",
       "\n",
       "    var nav_element = $('<div/>')\n",
       "    nav_element.attr('style', 'width: 100%');\n",
       "    this.root.append(nav_element);\n",
       "\n",
       "    // Define a callback function for later on.\n",
       "    function toolbar_event(event) {\n",
       "        return fig.toolbar_button_onclick(event['data']);\n",
       "    }\n",
       "    function toolbar_mouse_event(event) {\n",
       "        return fig.toolbar_button_onmouseover(event['data']);\n",
       "    }\n",
       "\n",
       "    for(var toolbar_ind in mpl.toolbar_items) {\n",
       "        var name = mpl.toolbar_items[toolbar_ind][0];\n",
       "        var tooltip = mpl.toolbar_items[toolbar_ind][1];\n",
       "        var image = mpl.toolbar_items[toolbar_ind][2];\n",
       "        var method_name = mpl.toolbar_items[toolbar_ind][3];\n",
       "\n",
       "        if (!name) {\n",
       "            // put a spacer in here.\n",
       "            continue;\n",
       "        }\n",
       "        var button = $('<button/>');\n",
       "        button.addClass('ui-button ui-widget ui-state-default ui-corner-all ' +\n",
       "                        'ui-button-icon-only');\n",
       "        button.attr('role', 'button');\n",
       "        button.attr('aria-disabled', 'false');\n",
       "        button.click(method_name, toolbar_event);\n",
       "        button.mouseover(tooltip, toolbar_mouse_event);\n",
       "\n",
       "        var icon_img = $('<span/>');\n",
       "        icon_img.addClass('ui-button-icon-primary ui-icon');\n",
       "        icon_img.addClass(image);\n",
       "        icon_img.addClass('ui-corner-all');\n",
       "\n",
       "        var tooltip_span = $('<span/>');\n",
       "        tooltip_span.addClass('ui-button-text');\n",
       "        tooltip_span.html(tooltip);\n",
       "\n",
       "        button.append(icon_img);\n",
       "        button.append(tooltip_span);\n",
       "\n",
       "        nav_element.append(button);\n",
       "    }\n",
       "\n",
       "    var fmt_picker_span = $('<span/>');\n",
       "\n",
       "    var fmt_picker = $('<select/>');\n",
       "    fmt_picker.addClass('mpl-toolbar-option ui-widget ui-widget-content');\n",
       "    fmt_picker_span.append(fmt_picker);\n",
       "    nav_element.append(fmt_picker_span);\n",
       "    this.format_dropdown = fmt_picker[0];\n",
       "\n",
       "    for (var ind in mpl.extensions) {\n",
       "        var fmt = mpl.extensions[ind];\n",
       "        var option = $(\n",
       "            '<option/>', {selected: fmt === mpl.default_extension}).html(fmt);\n",
       "        fmt_picker.append(option)\n",
       "    }\n",
       "\n",
       "    // Add hover states to the ui-buttons\n",
       "    $( \".ui-button\" ).hover(\n",
       "        function() { $(this).addClass(\"ui-state-hover\");},\n",
       "        function() { $(this).removeClass(\"ui-state-hover\");}\n",
       "    );\n",
       "\n",
       "    var status_bar = $('<span class=\"mpl-message\"/>');\n",
       "    nav_element.append(status_bar);\n",
       "    this.message = status_bar[0];\n",
       "}\n",
       "\n",
       "mpl.figure.prototype.request_resize = function(x_pixels, y_pixels) {\n",
       "    // Request matplotlib to resize the figure. Matplotlib will then trigger a resize in the client,\n",
       "    // which will in turn request a refresh of the image.\n",
       "    this.send_message('resize', {'width': x_pixels, 'height': y_pixels});\n",
       "}\n",
       "\n",
       "mpl.figure.prototype.send_message = function(type, properties) {\n",
       "    properties['type'] = type;\n",
       "    properties['figure_id'] = this.id;\n",
       "    this.ws.send(JSON.stringify(properties));\n",
       "}\n",
       "\n",
       "mpl.figure.prototype.send_draw_message = function() {\n",
       "    if (!this.waiting) {\n",
       "        this.waiting = true;\n",
       "        this.ws.send(JSON.stringify({type: \"draw\", figure_id: this.id}));\n",
       "    }\n",
       "}\n",
       "\n",
       "\n",
       "mpl.figure.prototype.handle_save = function(fig, msg) {\n",
       "    var format_dropdown = fig.format_dropdown;\n",
       "    var format = format_dropdown.options[format_dropdown.selectedIndex].value;\n",
       "    fig.ondownload(fig, format);\n",
       "}\n",
       "\n",
       "\n",
       "mpl.figure.prototype.handle_resize = function(fig, msg) {\n",
       "    var size = msg['size'];\n",
       "    if (size[0] != fig.canvas.width || size[1] != fig.canvas.height) {\n",
       "        fig._resize_canvas(size[0], size[1]);\n",
       "        fig.send_message(\"refresh\", {});\n",
       "    };\n",
       "}\n",
       "\n",
       "mpl.figure.prototype.handle_rubberband = function(fig, msg) {\n",
       "    var x0 = msg['x0'];\n",
       "    var y0 = fig.canvas.height - msg['y0'];\n",
       "    var x1 = msg['x1'];\n",
       "    var y1 = fig.canvas.height - msg['y1'];\n",
       "    x0 = Math.floor(x0) + 0.5;\n",
       "    y0 = Math.floor(y0) + 0.5;\n",
       "    x1 = Math.floor(x1) + 0.5;\n",
       "    y1 = Math.floor(y1) + 0.5;\n",
       "    var min_x = Math.min(x0, x1);\n",
       "    var min_y = Math.min(y0, y1);\n",
       "    var width = Math.abs(x1 - x0);\n",
       "    var height = Math.abs(y1 - y0);\n",
       "\n",
       "    fig.rubberband_context.clearRect(\n",
       "        0, 0, fig.canvas.width, fig.canvas.height);\n",
       "\n",
       "    fig.rubberband_context.strokeRect(min_x, min_y, width, height);\n",
       "}\n",
       "\n",
       "mpl.figure.prototype.handle_figure_label = function(fig, msg) {\n",
       "    // Updates the figure title.\n",
       "    fig.header.textContent = msg['label'];\n",
       "}\n",
       "\n",
       "mpl.figure.prototype.handle_cursor = function(fig, msg) {\n",
       "    var cursor = msg['cursor'];\n",
       "    switch(cursor)\n",
       "    {\n",
       "    case 0:\n",
       "        cursor = 'pointer';\n",
       "        break;\n",
       "    case 1:\n",
       "        cursor = 'default';\n",
       "        break;\n",
       "    case 2:\n",
       "        cursor = 'crosshair';\n",
       "        break;\n",
       "    case 3:\n",
       "        cursor = 'move';\n",
       "        break;\n",
       "    }\n",
       "    fig.rubberband_canvas.style.cursor = cursor;\n",
       "}\n",
       "\n",
       "mpl.figure.prototype.handle_message = function(fig, msg) {\n",
       "    fig.message.textContent = msg['message'];\n",
       "}\n",
       "\n",
       "mpl.figure.prototype.handle_draw = function(fig, msg) {\n",
       "    // Request the server to send over a new figure.\n",
       "    fig.send_draw_message();\n",
       "}\n",
       "\n",
       "mpl.figure.prototype.handle_image_mode = function(fig, msg) {\n",
       "    fig.image_mode = msg['mode'];\n",
       "}\n",
       "\n",
       "mpl.figure.prototype.updated_canvas_event = function() {\n",
       "    // Called whenever the canvas gets updated.\n",
       "    this.send_message(\"ack\", {});\n",
       "}\n",
       "\n",
       "// A function to construct a web socket function for onmessage handling.\n",
       "// Called in the figure constructor.\n",
       "mpl.figure.prototype._make_on_message_function = function(fig) {\n",
       "    return function socket_on_message(evt) {\n",
       "        if (evt.data instanceof Blob) {\n",
       "            /* FIXME: We get \"Resource interpreted as Image but\n",
       "             * transferred with MIME type text/plain:\" errors on\n",
       "             * Chrome.  But how to set the MIME type?  It doesn't seem\n",
       "             * to be part of the websocket stream */\n",
       "            evt.data.type = \"image/png\";\n",
       "\n",
       "            /* Free the memory for the previous frames */\n",
       "            if (fig.imageObj.src) {\n",
       "                (window.URL || window.webkitURL).revokeObjectURL(\n",
       "                    fig.imageObj.src);\n",
       "            }\n",
       "\n",
       "            fig.imageObj.src = (window.URL || window.webkitURL).createObjectURL(\n",
       "                evt.data);\n",
       "            fig.updated_canvas_event();\n",
       "            fig.waiting = false;\n",
       "            return;\n",
       "        }\n",
       "        else if (typeof evt.data === 'string' && evt.data.slice(0, 21) == \"data:image/png;base64\") {\n",
       "            fig.imageObj.src = evt.data;\n",
       "            fig.updated_canvas_event();\n",
       "            fig.waiting = false;\n",
       "            return;\n",
       "        }\n",
       "\n",
       "        var msg = JSON.parse(evt.data);\n",
       "        var msg_type = msg['type'];\n",
       "\n",
       "        // Call the  \"handle_{type}\" callback, which takes\n",
       "        // the figure and JSON message as its only arguments.\n",
       "        try {\n",
       "            var callback = fig[\"handle_\" + msg_type];\n",
       "        } catch (e) {\n",
       "            console.log(\"No handler for the '\" + msg_type + \"' message type: \", msg);\n",
       "            return;\n",
       "        }\n",
       "\n",
       "        if (callback) {\n",
       "            try {\n",
       "                // console.log(\"Handling '\" + msg_type + \"' message: \", msg);\n",
       "                callback(fig, msg);\n",
       "            } catch (e) {\n",
       "                console.log(\"Exception inside the 'handler_\" + msg_type + \"' callback:\", e, e.stack, msg);\n",
       "            }\n",
       "        }\n",
       "    };\n",
       "}\n",
       "\n",
       "// from http://stackoverflow.com/questions/1114465/getting-mouse-location-in-canvas\n",
       "mpl.findpos = function(e) {\n",
       "    //this section is from http://www.quirksmode.org/js/events_properties.html\n",
       "    var targ;\n",
       "    if (!e)\n",
       "        e = window.event;\n",
       "    if (e.target)\n",
       "        targ = e.target;\n",
       "    else if (e.srcElement)\n",
       "        targ = e.srcElement;\n",
       "    if (targ.nodeType == 3) // defeat Safari bug\n",
       "        targ = targ.parentNode;\n",
       "\n",
       "    // jQuery normalizes the pageX and pageY\n",
       "    // pageX,Y are the mouse positions relative to the document\n",
       "    // offset() returns the position of the element relative to the document\n",
       "    var x = e.pageX - $(targ).offset().left;\n",
       "    var y = e.pageY - $(targ).offset().top;\n",
       "\n",
       "    return {\"x\": x, \"y\": y};\n",
       "};\n",
       "\n",
       "/*\n",
       " * return a copy of an object with only non-object keys\n",
       " * we need this to avoid circular references\n",
       " * http://stackoverflow.com/a/24161582/3208463\n",
       " */\n",
       "function simpleKeys (original) {\n",
       "  return Object.keys(original).reduce(function (obj, key) {\n",
       "    if (typeof original[key] !== 'object')\n",
       "        obj[key] = original[key]\n",
       "    return obj;\n",
       "  }, {});\n",
       "}\n",
       "\n",
       "mpl.figure.prototype.mouse_event = function(event, name) {\n",
       "    var canvas_pos = mpl.findpos(event)\n",
       "\n",
       "    if (name === 'button_press')\n",
       "    {\n",
       "        this.canvas.focus();\n",
       "        this.canvas_div.focus();\n",
       "    }\n",
       "\n",
       "    var x = canvas_pos.x;\n",
       "    var y = canvas_pos.y;\n",
       "\n",
       "    this.send_message(name, {x: x, y: y, button: event.button,\n",
       "                             step: event.step,\n",
       "                             guiEvent: simpleKeys(event)});\n",
       "\n",
       "    /* This prevents the web browser from automatically changing to\n",
       "     * the text insertion cursor when the button is pressed.  We want\n",
       "     * to control all of the cursor setting manually through the\n",
       "     * 'cursor' event from matplotlib */\n",
       "    event.preventDefault();\n",
       "    return false;\n",
       "}\n",
       "\n",
       "mpl.figure.prototype._key_event_extra = function(event, name) {\n",
       "    // Handle any extra behaviour associated with a key event\n",
       "}\n",
       "\n",
       "mpl.figure.prototype.key_event = function(event, name) {\n",
       "\n",
       "    // Prevent repeat events\n",
       "    if (name == 'key_press')\n",
       "    {\n",
       "        if (event.which === this._key)\n",
       "            return;\n",
       "        else\n",
       "            this._key = event.which;\n",
       "    }\n",
       "    if (name == 'key_release')\n",
       "        this._key = null;\n",
       "\n",
       "    var value = '';\n",
       "    if (event.ctrlKey && event.which != 17)\n",
       "        value += \"ctrl+\";\n",
       "    if (event.altKey && event.which != 18)\n",
       "        value += \"alt+\";\n",
       "    if (event.shiftKey && event.which != 16)\n",
       "        value += \"shift+\";\n",
       "\n",
       "    value += 'k';\n",
       "    value += event.which.toString();\n",
       "\n",
       "    this._key_event_extra(event, name);\n",
       "\n",
       "    this.send_message(name, {key: value,\n",
       "                             guiEvent: simpleKeys(event)});\n",
       "    return false;\n",
       "}\n",
       "\n",
       "mpl.figure.prototype.toolbar_button_onclick = function(name) {\n",
       "    if (name == 'download') {\n",
       "        this.handle_save(this, null);\n",
       "    } else {\n",
       "        this.send_message(\"toolbar_button\", {name: name});\n",
       "    }\n",
       "};\n",
       "\n",
       "mpl.figure.prototype.toolbar_button_onmouseover = function(tooltip) {\n",
       "    this.message.textContent = tooltip;\n",
       "};\n",
       "mpl.toolbar_items = [[\"Home\", \"Reset original view\", \"fa fa-home icon-home\", \"home\"], [\"Back\", \"Back to  previous view\", \"fa fa-arrow-left icon-arrow-left\", \"back\"], [\"Forward\", \"Forward to next view\", \"fa fa-arrow-right icon-arrow-right\", \"forward\"], [\"\", \"\", \"\", \"\"], [\"Pan\", \"Pan axes with left mouse, zoom with right\", \"fa fa-arrows icon-move\", \"pan\"], [\"Zoom\", \"Zoom to rectangle\", \"fa fa-square-o icon-check-empty\", \"zoom\"], [\"\", \"\", \"\", \"\"], [\"Download\", \"Download plot\", \"fa fa-floppy-o icon-save\", \"download\"]];\n",
       "\n",
       "mpl.extensions = [\"eps\", \"jpeg\", \"pdf\", \"png\", \"ps\", \"raw\", \"svg\", \"tif\"];\n",
       "\n",
       "mpl.default_extension = \"png\";var comm_websocket_adapter = function(comm) {\n",
       "    // Create a \"websocket\"-like object which calls the given IPython comm\n",
       "    // object with the appropriate methods. Currently this is a non binary\n",
       "    // socket, so there is still some room for performance tuning.\n",
       "    var ws = {};\n",
       "\n",
       "    ws.close = function() {\n",
       "        comm.close()\n",
       "    };\n",
       "    ws.send = function(m) {\n",
       "        //console.log('sending', m);\n",
       "        comm.send(m);\n",
       "    };\n",
       "    // Register the callback with on_msg.\n",
       "    comm.on_msg(function(msg) {\n",
       "        //console.log('receiving', msg['content']['data'], msg);\n",
       "        // Pass the mpl event to the overriden (by mpl) onmessage function.\n",
       "        ws.onmessage(msg['content']['data'])\n",
       "    });\n",
       "    return ws;\n",
       "}\n",
       "\n",
       "mpl.mpl_figure_comm = function(comm, msg) {\n",
       "    // This is the function which gets called when the mpl process\n",
       "    // starts-up an IPython Comm through the \"matplotlib\" channel.\n",
       "\n",
       "    var id = msg.content.data.id;\n",
       "    // Get hold of the div created by the display call when the Comm\n",
       "    // socket was opened in Python.\n",
       "    var element = $(\"#\" + id);\n",
       "    var ws_proxy = comm_websocket_adapter(comm)\n",
       "\n",
       "    function ondownload(figure, format) {\n",
       "        window.open(figure.imageObj.src);\n",
       "    }\n",
       "\n",
       "    var fig = new mpl.figure(id, ws_proxy,\n",
       "                           ondownload,\n",
       "                           element.get(0));\n",
       "\n",
       "    // Call onopen now - mpl needs it, as it is assuming we've passed it a real\n",
       "    // web socket which is closed, not our websocket->open comm proxy.\n",
       "    ws_proxy.onopen();\n",
       "\n",
       "    fig.parent_element = element.get(0);\n",
       "    fig.cell_info = mpl.find_output_cell(\"<div id='\" + id + \"'></div>\");\n",
       "    if (!fig.cell_info) {\n",
       "        console.error(\"Failed to find cell for figure\", id, fig);\n",
       "        return;\n",
       "    }\n",
       "\n",
       "    var output_index = fig.cell_info[2]\n",
       "    var cell = fig.cell_info[0];\n",
       "\n",
       "};\n",
       "\n",
       "mpl.figure.prototype.handle_close = function(fig, msg) {\n",
       "    fig.root.unbind('remove')\n",
       "\n",
       "    // Update the output cell to use the data from the current canvas.\n",
       "    fig.push_to_output();\n",
       "    var dataURL = fig.canvas.toDataURL();\n",
       "    // Re-enable the keyboard manager in IPython - without this line, in FF,\n",
       "    // the notebook keyboard shortcuts fail.\n",
       "    IPython.keyboard_manager.enable()\n",
       "    $(fig.parent_element).html('<img src=\"' + dataURL + '\">');\n",
       "    fig.close_ws(fig, msg);\n",
       "}\n",
       "\n",
       "mpl.figure.prototype.close_ws = function(fig, msg){\n",
       "    fig.send_message('closing', msg);\n",
       "    // fig.ws.close()\n",
       "}\n",
       "\n",
       "mpl.figure.prototype.push_to_output = function(remove_interactive) {\n",
       "    // Turn the data on the canvas into data in the output cell.\n",
       "    var dataURL = this.canvas.toDataURL();\n",
       "    this.cell_info[1]['text/html'] = '<img src=\"' + dataURL + '\">';\n",
       "}\n",
       "\n",
       "mpl.figure.prototype.updated_canvas_event = function() {\n",
       "    // Tell IPython that the notebook contents must change.\n",
       "    IPython.notebook.set_dirty(true);\n",
       "    this.send_message(\"ack\", {});\n",
       "    var fig = this;\n",
       "    // Wait a second, then push the new image to the DOM so\n",
       "    // that it is saved nicely (might be nice to debounce this).\n",
       "    setTimeout(function () { fig.push_to_output() }, 1000);\n",
       "}\n",
       "\n",
       "mpl.figure.prototype._init_toolbar = function() {\n",
       "    var fig = this;\n",
       "\n",
       "    var nav_element = $('<div/>')\n",
       "    nav_element.attr('style', 'width: 100%');\n",
       "    this.root.append(nav_element);\n",
       "\n",
       "    // Define a callback function for later on.\n",
       "    function toolbar_event(event) {\n",
       "        return fig.toolbar_button_onclick(event['data']);\n",
       "    }\n",
       "    function toolbar_mouse_event(event) {\n",
       "        return fig.toolbar_button_onmouseover(event['data']);\n",
       "    }\n",
       "\n",
       "    for(var toolbar_ind in mpl.toolbar_items){\n",
       "        var name = mpl.toolbar_items[toolbar_ind][0];\n",
       "        var tooltip = mpl.toolbar_items[toolbar_ind][1];\n",
       "        var image = mpl.toolbar_items[toolbar_ind][2];\n",
       "        var method_name = mpl.toolbar_items[toolbar_ind][3];\n",
       "\n",
       "        if (!name) { continue; };\n",
       "\n",
       "        var button = $('<button class=\"btn btn-default\" href=\"#\" title=\"' + name + '\"><i class=\"fa ' + image + ' fa-lg\"></i></button>');\n",
       "        button.click(method_name, toolbar_event);\n",
       "        button.mouseover(tooltip, toolbar_mouse_event);\n",
       "        nav_element.append(button);\n",
       "    }\n",
       "\n",
       "    // Add the status bar.\n",
       "    var status_bar = $('<span class=\"mpl-message\" style=\"text-align:right; float: right;\"/>');\n",
       "    nav_element.append(status_bar);\n",
       "    this.message = status_bar[0];\n",
       "\n",
       "    // Add the close button to the window.\n",
       "    var buttongrp = $('<div class=\"btn-group inline pull-right\"></div>');\n",
       "    var button = $('<button class=\"btn btn-mini btn-primary\" href=\"#\" title=\"Stop Interaction\"><i class=\"fa fa-power-off icon-remove icon-large\"></i></button>');\n",
       "    button.click(function (evt) { fig.handle_close(fig, {}); } );\n",
       "    button.mouseover('Stop Interaction', toolbar_mouse_event);\n",
       "    buttongrp.append(button);\n",
       "    var titlebar = this.root.find($('.ui-dialog-titlebar'));\n",
       "    titlebar.prepend(buttongrp);\n",
       "}\n",
       "\n",
       "mpl.figure.prototype._root_extra_style = function(el){\n",
       "    var fig = this\n",
       "    el.on(\"remove\", function(){\n",
       "\tfig.close_ws(fig, {});\n",
       "    });\n",
       "}\n",
       "\n",
       "mpl.figure.prototype._canvas_extra_style = function(el){\n",
       "    // this is important to make the div 'focusable\n",
       "    el.attr('tabindex', 0)\n",
       "    // reach out to IPython and tell the keyboard manager to turn it's self\n",
       "    // off when our div gets focus\n",
       "\n",
       "    // location in version 3\n",
       "    if (IPython.notebook.keyboard_manager) {\n",
       "        IPython.notebook.keyboard_manager.register_events(el);\n",
       "    }\n",
       "    else {\n",
       "        // location in version 2\n",
       "        IPython.keyboard_manager.register_events(el);\n",
       "    }\n",
       "\n",
       "}\n",
       "\n",
       "mpl.figure.prototype._key_event_extra = function(event, name) {\n",
       "    var manager = IPython.notebook.keyboard_manager;\n",
       "    if (!manager)\n",
       "        manager = IPython.keyboard_manager;\n",
       "\n",
       "    // Check for shift+enter\n",
       "    if (event.shiftKey && event.which == 13) {\n",
       "        this.canvas_div.blur();\n",
       "        event.shiftKey = false;\n",
       "        // Send a \"J\" for go to next cell\n",
       "        event.which = 74;\n",
       "        event.keyCode = 74;\n",
       "        manager.command_mode();\n",
       "        manager.handle_keydown(event);\n",
       "    }\n",
       "}\n",
       "\n",
       "mpl.figure.prototype.handle_save = function(fig, msg) {\n",
       "    fig.ondownload(fig, null);\n",
       "}\n",
       "\n",
       "\n",
       "mpl.find_output_cell = function(html_output) {\n",
       "    // Return the cell and output element which can be found *uniquely* in the notebook.\n",
       "    // Note - this is a bit hacky, but it is done because the \"notebook_saving.Notebook\"\n",
       "    // IPython event is triggered only after the cells have been serialised, which for\n",
       "    // our purposes (turning an active figure into a static one), is too late.\n",
       "    var cells = IPython.notebook.get_cells();\n",
       "    var ncells = cells.length;\n",
       "    for (var i=0; i<ncells; i++) {\n",
       "        var cell = cells[i];\n",
       "        if (cell.cell_type === 'code'){\n",
       "            for (var j=0; j<cell.output_area.outputs.length; j++) {\n",
       "                var data = cell.output_area.outputs[j];\n",
       "                if (data.data) {\n",
       "                    // IPython >= 3 moved mimebundle to data attribute of output\n",
       "                    data = data.data;\n",
       "                }\n",
       "                if (data['text/html'] == html_output) {\n",
       "                    return [cell, data, j];\n",
       "                }\n",
       "            }\n",
       "        }\n",
       "    }\n",
       "}\n",
       "\n",
       "// Register the function which deals with the matplotlib target/channel.\n",
       "// The kernel may be null if the page has been refreshed.\n",
       "if (IPython.notebook.kernel != null) {\n",
       "    IPython.notebook.kernel.comm_manager.register_target('matplotlib', mpl.mpl_figure_comm);\n",
       "}\n"
      ],
      "text/plain": [
       "<IPython.core.display.Javascript object>"
      ]
     },
     "metadata": {},
     "output_type": "display_data"
    },
    {
     "data": {
      "text/html": [
       "<div id='2c8112c0-a0ca-48ad-9150-58d21d8d1050'></div>"
      ],
      "text/plain": [
       "<IPython.core.display.HTML object>"
      ]
     },
     "metadata": {},
     "output_type": "display_data"
    }
   ],
   "source": [
    "sa1_mri = test_pixel(sa1_mrf[105], 0, 0, 0, 10, just_image = True)"
   ]
  },
  {
   "cell_type": "code",
   "execution_count": 9,
   "metadata": {
    "collapsed": true
   },
   "outputs": [],
   "source": [
    "sa1_pix = [(150, 185), (203, 147), (186, 135), (155, 99), (166, 160)]"
   ]
  },
  {
   "cell_type": "code",
   "execution_count": 10,
   "metadata": {
    "collapsed": false,
    "scrolled": true
   },
   "outputs": [
    {
     "data": {
      "text/plain": [
       "1579.7323532095625"
      ]
     },
     "execution_count": 10,
     "metadata": {},
     "output_type": "execute_result"
    }
   ],
   "source": [
    "sa1_mrt = rl.time_series(cen_sa1[1], cen_sa1[2], sa1_mrf, r = 70, r_in = 72, r_out = 80, red = True)\n",
    "sa1_mrs = (np.std(sa1_mrt['res_flux'])/np.median(sa1_mrt['res_flux']))*1e6\n",
    "sa1_mrs"
   ]
  },
  {
   "cell_type": "code",
   "execution_count": 11,
   "metadata": {
    "collapsed": false
   },
   "outputs": [
    {
     "data": {
      "text/plain": [
       "1615.1369883376904"
      ]
     },
     "execution_count": 11,
     "metadata": {},
     "output_type": "execute_result"
    }
   ],
   "source": [
    "sa1_prt = rl.time_series(cen_sa1[1], cen_sa1[2], sa1_prf, r = 70, r_in = 72, r_out = 80, red = True)\n",
    "sa1_prs = (np.std(sa1_prt['res_flux'])/np.median(sa1_prt['res_flux']))*1e6\n",
    "sa1_prs"
   ]
  },
  {
   "cell_type": "code",
   "execution_count": 12,
   "metadata": {
    "collapsed": false,
    "scrolled": true
   },
   "outputs": [
    {
     "name": "stdout",
     "output_type": "stream",
     "text": [
      "('pixel', ' ', 'original', '      ', 'corrected', '   ', 'deviation')\n",
      "((150, 185), 1579.7323532096286, 1626.1746269194966, -2.939882418405162)\n",
      "((203, 147), 1579.7323532096286, 1615.4963533629996, -2.2639278154117228)\n",
      "((186, 135), 1579.7323532096286, 1604.6495646859782, -1.5773058914520526)\n",
      "((155, 99), 1579.7323532096286, 1606.0065625649322, -1.6632063844182741)\n",
      "((166, 160), 1579.7323532096286, 1602.0500858171526, -1.4127540378710268)\n"
     ]
    }
   ],
   "source": [
    "sa1_std, sa1_cor, sa1_dev = test_pixel(sa1_mrf[105], sa1_pix, sa1_mrs, a1_coeff, 10)\n",
    "print('pixel', ' ', 'original', '      ', 'corrected', '   ', 'deviation')\n",
    "for i in range(5):\n",
    "    print(sa1_pix[i], sa1_std[i], sa1_cor[i], sa1_dev[i])"
   ]
  },
  {
   "cell_type": "code",
   "execution_count": 13,
   "metadata": {
    "collapsed": false
   },
   "outputs": [
    {
     "ename": "NameError",
     "evalue": "name 'res_by_test' is not defined",
     "output_type": "error",
     "traceback": [
      "\u001b[1;31m---------------------------------------------------------------------------\u001b[0m",
      "\u001b[1;31mNameError\u001b[0m                                 Traceback (most recent call last)",
      "\u001b[1;32m<ipython-input-13-87a593fd11fa>\u001b[0m in \u001b[0;36m<module>\u001b[1;34m()\u001b[0m\n\u001b[1;32m----> 1\u001b[1;33m \u001b[0mres_by_test\u001b[0m\u001b[1;33m.\u001b[0m\u001b[0mgroups\u001b[0m\u001b[1;33m[\u001b[0m\u001b[1;36m2\u001b[0m\u001b[1;33m]\u001b[0m\u001b[1;33m\u001b[0m\u001b[0m\n\u001b[0m",
      "\u001b[1;31mNameError\u001b[0m: name 'res_by_test' is not defined"
     ]
    }
   ],
   "source": [
    "res_by_test.groups[2]"
   ]
  },
  {
   "cell_type": "markdown",
   "metadata": {},
   "source": [
    "#### b4"
   ]
  },
  {
   "cell_type": "code",
   "execution_count": null,
   "metadata": {
    "collapsed": false
   },
   "outputs": [],
   "source": [
    "sb4_mri = test_pixel(sb4_mrf[105], 0, 0, 0, 10, just_image = True)"
   ]
  },
  {
   "cell_type": "code",
   "execution_count": null,
   "metadata": {
    "collapsed": true
   },
   "outputs": [],
   "source": [
    "sb4_pix = [(135, 145), (190, 135), (172, 133), (181, 126), (159, 156)]"
   ]
  },
  {
   "cell_type": "code",
   "execution_count": null,
   "metadata": {
    "collapsed": false
   },
   "outputs": [],
   "source": [
    "sb4_mrt = rl.time_series(cen_sb4[1], cen_sb4[2], sb4_mrf[:-1], r = 70, r_in = 72, r_out = 80, red = True)\n",
    "sb4_mrs = (np.std(sb4_mrt['res_flux'])/np.median(sb4_mrt['res_flux']))*1e6\n",
    "sb4_mrs"
   ]
  },
  {
   "cell_type": "code",
   "execution_count": null,
   "metadata": {
    "collapsed": false
   },
   "outputs": [],
   "source": [
    "sb4_prt = rl.time_series(cen_sb4[1], cen_sb4[2], sb4_prf[:-1], r = 70, r_in = 72, r_out = 80, red = True)\n",
    "sb4_prs = (np.std(sb4_prt['res_flux'])/np.median(sb4_prt['res_flux']))*1e6\n",
    "sb4_prs"
   ]
  },
  {
   "cell_type": "code",
   "execution_count": null,
   "metadata": {
    "collapsed": false,
    "scrolled": true
   },
   "outputs": [],
   "source": [
    "sb4_std, sb4_cor, sb4_dev = test_pixel(sb4_mrf[105], sb4_pix, sb4_mrs, b4_coeff, 10)\n",
    "print('pixel', ' ', 'original', '      ', 'corrected', '   ', 'deviation')\n",
    "for i in range(5):\n",
    "    print(sb4_pix[i], sb4_std[i], sb4_cor[i], sb4_dev[i])"
   ]
  },
  {
   "cell_type": "code",
   "execution_count": null,
   "metadata": {
    "collapsed": false,
    "scrolled": true
   },
   "outputs": [],
   "source": [
    "res_by_test.groups[3]"
   ]
  },
  {
   "cell_type": "markdown",
   "metadata": {},
   "source": [
    "## Sub640"
   ]
  },
  {
   "cell_type": "markdown",
   "metadata": {},
   "source": [
    "#### a1"
   ]
  },
  {
   "cell_type": "code",
   "execution_count": null,
   "metadata": {
    "collapsed": false,
    "scrolled": true
   },
   "outputs": [],
   "source": [
    "s6a1_mri = test_pixel(s6a1_mrf[27], 0, 0, 0, 3, just_image = True)"
   ]
  },
  {
   "cell_type": "code",
   "execution_count": null,
   "metadata": {
    "collapsed": true
   },
   "outputs": [],
   "source": [
    "s6a1_pix = [(335, 335), (291, 326), (349, 290), (365, 370), (327, 320)]"
   ]
  },
  {
   "cell_type": "code",
   "execution_count": null,
   "metadata": {
    "collapsed": false
   },
   "outputs": [],
   "source": [
    "s6a1_mrt = rl.time_series(cen_s6a1[1], cen_s6a1[2], s6a1_mrf, r = 70, r_in = 72, r_out = 80, red = True)\n",
    "s6a1_mrs = (np.std(s6a1_mrt['res_flux'])/np.median(s6a1_mrt['res_flux']))*1e6\n",
    "s6a1_mrs"
   ]
  },
  {
   "cell_type": "code",
   "execution_count": null,
   "metadata": {
    "collapsed": false
   },
   "outputs": [],
   "source": [
    "s6a1_prt = rl.time_series(cen_s6a1[1], cen_s6a1[2], s6a1_prf, r = 70, r_in = 72, r_out = 80, red = True)\n",
    "s6a1_prs = (np.std(s6a1_prt['res_flux'])/np.median(s6a1_prt['res_flux']))*1e6\n",
    "s6a1_prs"
   ]
  },
  {
   "cell_type": "code",
   "execution_count": null,
   "metadata": {
    "collapsed": false,
    "scrolled": true
   },
   "outputs": [],
   "source": [
    "s6a1_std, s6a1_cor, s6a1_dev = test_pixel(s6a1_mrf[27], s6a1_pix, s6a1_mrs, a1_coeff, 3)\n",
    "print('pixel', ' ', 'original', '      ', 'corrected', '   ', 'deviation')\n",
    "for i in range(5):\n",
    "    print(s6a1_pix[i], s6a1_std[i], s6a1_cor[i], s6a1_dev[i])"
   ]
  },
  {
   "cell_type": "code",
   "execution_count": null,
   "metadata": {
    "collapsed": false,
    "scrolled": true
   },
   "outputs": [],
   "source": [
    "res_by_test.groups[4]"
   ]
  },
  {
   "cell_type": "markdown",
   "metadata": {},
   "source": [
    "#### b4"
   ]
  },
  {
   "cell_type": "code",
   "execution_count": null,
   "metadata": {
    "collapsed": false,
    "scrolled": true
   },
   "outputs": [],
   "source": [
    "s6b4_mri = test_pixel(s6b4_mrf[27], 0, 0, 0, 3, just_image = True)"
   ]
  },
  {
   "cell_type": "code",
   "execution_count": null,
   "metadata": {
    "collapsed": true
   },
   "outputs": [],
   "source": [
    "s6b4_pix = [(295, 305), (347, 320), (329, 364), (356, 270), (319, 316)]"
   ]
  },
  {
   "cell_type": "code",
   "execution_count": null,
   "metadata": {
    "collapsed": false
   },
   "outputs": [],
   "source": [
    "s6b4_mrt = rl.time_series(cen_s6b4[1], cen_s6b4[2], s6b4_mrf, r = 70, r_in = 72, r_out = 80, red = True)\n",
    "s6b4_mrs = (np.std(s6b4_mrt['res_flux'])/np.median(s6b4_mrt['res_flux']))*1e6\n",
    "s6b4_mrs"
   ]
  },
  {
   "cell_type": "code",
   "execution_count": null,
   "metadata": {
    "collapsed": false
   },
   "outputs": [],
   "source": [
    "s6b4_prt = rl.time_series(cen_s6b4[1], cen_s6b4[2], s6b4_prf, r = 70, r_in = 72, r_out = 80, red = True)\n",
    "s6b4_prs = (np.std(s6b4_prt['res_flux'])/np.median(s6b4_prt['res_flux']))*1e6\n",
    "s6b4_prs"
   ]
  },
  {
   "cell_type": "code",
   "execution_count": null,
   "metadata": {
    "collapsed": false,
    "scrolled": false
   },
   "outputs": [],
   "source": [
    "s6b4_std, s6b4_cor, s6b4_dev = test_pixel(s6b4_mrf[27], s6b4_pix, s6b4_mrs, b4_coeff, 3)\n",
    "print('pixel', ' ', 'original', '      ', 'corrected', '   ', 'deviation')\n",
    "for i in range(5):\n",
    "    print(s6b4_pix[i], s6b4_std[i], s6b4_cor[i], s6b4_dev[i])"
   ]
  },
  {
   "cell_type": "code",
   "execution_count": null,
   "metadata": {
    "collapsed": false,
    "scrolled": true
   },
   "outputs": [],
   "source": [
    "res_by_test.groups[5]"
   ]
  },
  {
   "cell_type": "markdown",
   "metadata": {},
   "source": [
    "## FULL1"
   ]
  },
  {
   "cell_type": "markdown",
   "metadata": {},
   "source": [
    "#### a1"
   ]
  },
  {
   "cell_type": "code",
   "execution_count": null,
   "metadata": {
    "collapsed": false,
    "scrolled": true
   },
   "outputs": [],
   "source": [
    "fa1_mri = test_pixel(fa1_mrf[27], 0, 0, 0, 1, just_image = True)"
   ]
  },
  {
   "cell_type": "code",
   "execution_count": null,
   "metadata": {
    "collapsed": true
   },
   "outputs": [],
   "source": [
    "fa1_pix = [(1390, 1060), (1447, 1054), (1413, 1088), (1390, 975), (1405, 1037)]"
   ]
  },
  {
   "cell_type": "code",
   "execution_count": null,
   "metadata": {
    "collapsed": false
   },
   "outputs": [],
   "source": [
    "fa1_mrt = rl.time_series(cen_fa1[1], cen_fa1[2], fa1_mrf, r = 70, r_in = 72, r_out = 80, red = True)\n",
    "fa1_mrs = (np.std(fa1_mrt['res_flux'])/np.median(fa1_mrt['res_flux']))*1e6\n",
    "fa1_mrs"
   ]
  },
  {
   "cell_type": "code",
   "execution_count": null,
   "metadata": {
    "collapsed": false
   },
   "outputs": [],
   "source": [
    "fa1_prt = rl.time_series(cen_fa1[1], cen_fa1[2], fa1_prf, r = 70, r_in = 72, r_out = 80, red = True)\n",
    "fa1_prs = (np.std(fa1_prt['res_flux'])/np.median(fa1_prt['res_flux']))*1e6\n",
    "fa1_prs"
   ]
  },
  {
   "cell_type": "code",
   "execution_count": null,
   "metadata": {
    "collapsed": false,
    "scrolled": true
   },
   "outputs": [],
   "source": [
    "fa1_std, fa1_cor, fa1_dev = test_pixel(fa1_mrf[27], fa1_pix, fa1_mrs, a1_coeff, 1)\n",
    "print('pixel', ' ', 'original', '      ', 'corrected', '   ', 'deviation')\n",
    "for i in range(5):\n",
    "    print(fa1_pix[i], fa1_std[i], fa1_cor[i], fa1_dev[i])"
   ]
  },
  {
   "cell_type": "code",
   "execution_count": null,
   "metadata": {
    "collapsed": false
   },
   "outputs": [],
   "source": [
    "res_by_test.groups[0]"
   ]
  },
  {
   "cell_type": "markdown",
   "metadata": {},
   "source": [
    "#### b4"
   ]
  },
  {
   "cell_type": "code",
   "execution_count": null,
   "metadata": {
    "collapsed": false
   },
   "outputs": [],
   "source": [
    "fb4_mri = test_pixel(fb4_mrf[27], 0, 0, 0, 1, just_image = True)"
   ]
  },
  {
   "cell_type": "code",
   "execution_count": null,
   "metadata": {
    "collapsed": true
   },
   "outputs": [],
   "source": [
    "fb4_pix = [(853, 808), (844, 851), (840, 796), (802, 789), (828, 821)]"
   ]
  },
  {
   "cell_type": "code",
   "execution_count": null,
   "metadata": {
    "collapsed": false
   },
   "outputs": [],
   "source": [
    "fb4_mrt = rl.time_series(cen_fb4[1], cen_fb4[2], fb4_mrf, r = 70, r_in = 72, r_out = 80, red = True)\n",
    "fb4_mrs = (np.std(fb4_mrt['res_flux'])/np.median(fb4_mrt['res_flux']))*1e6\n",
    "fb4_mrs"
   ]
  },
  {
   "cell_type": "code",
   "execution_count": null,
   "metadata": {
    "collapsed": false
   },
   "outputs": [],
   "source": [
    "fb4_prt = rl.time_series(cen_fb4[1], cen_fb4[2], fb4_prf, r = 70, r_in = 72, r_out = 80, red = True)\n",
    "fb4_prs = (np.std(fb4_prt['res_flux'])/np.median(fb4_prt['res_flux']))*1e6\n",
    "fb4_prs"
   ]
  },
  {
   "cell_type": "code",
   "execution_count": null,
   "metadata": {
    "collapsed": false,
    "scrolled": false
   },
   "outputs": [],
   "source": [
    "fb4_std, fb4_cor, fb4_dev = test_pixel(fb4_mrf[27], fb4_pix, fb4_mrs, b4_coeff, 1)\n",
    "print('pixel', ' ', 'original', '      ', 'corrected', '   ', 'deviation')\n",
    "for i in range(5):\n",
    "    print(fb4_pix[i], fb4_std[i], fb4_cor[i], fb4_dev[i])"
   ]
  },
  {
   "cell_type": "code",
   "execution_count": null,
   "metadata": {
    "collapsed": false,
    "scrolled": true
   },
   "outputs": [],
   "source": [
    "res_by_test.groups[1]"
   ]
  },
  {
   "cell_type": "markdown",
   "metadata": {},
   "source": [
    "## Result"
   ]
  },
  {
   "cell_type": "code",
   "execution_count": null,
   "metadata": {
    "collapsed": false,
    "scrolled": true
   },
   "outputs": [],
   "source": [
    "tests = ['Sub a1', 'Sub b4', 'Sub640 a1', 'Sub640 b4', 'Full1 a1', 'Full1 b4']\n",
    "test_short = ['sa1', 'sb4', 's6a1', 's6b4', 'fa1', 'fb4']\n",
    "result = Table(names= ('Test Name', 'Pixel','Pixel value','MMM', 'MPM', 'Corrected MMM', 'Deviation (%)'), \n",
    "               dtype = ('S10', np.dtype(tuple), 'f8', 'f8', 'f8', 'f8', 'f8'))\n",
    "for i, t in enumerate(test_short):\n",
    "    test_img = globals()['%s_mri' % t]\n",
    "    test_pix = globals()['%s_pix' % t]\n",
    "    pix_value = []\n",
    "    \n",
    "    for pix in test_pix:\n",
    "        x,y = pix\n",
    "        z = 10 if i<2 else 3 if i<4 else 1\n",
    "        pix_value.append(test_img[z, y, x])\n",
    "    ind = np.argsort(pix_value)\n",
    "    \n",
    "    mmm = globals()['%s_mrs' % t]\n",
    "    mpm = globals()['%s_prs' % t]\n",
    "    pix = np.array(test_pix)[ind]\n",
    "    cor = globals()['%s_cor' % t][ind]\n",
    "    dev = globals()['%s_dev' % t][ind]*(-1)\n",
    "#     pdb.set_trace()\n",
    "    \n",
    "    for pv, p, c, d in zip(np.sort(pix_value), pix, cor, dev):\n",
    "        result.add_row([tests[i], p, pv, mmm, mpm, c, d])\n",
    "res_by_test = result.group_by('Test Name')\n",
    "res_by_test"
   ]
  },
  {
   "cell_type": "markdown",
   "metadata": {},
   "source": [
    "# More Accurate: All Pixels "
   ]
  },
  {
   "cell_type": "markdown",
   "metadata": {},
   "source": [
    "## Sub"
   ]
  },
  {
   "cell_type": "markdown",
   "metadata": {},
   "source": [
    "#### a1"
   ]
  },
  {
   "cell_type": "markdown",
   "metadata": {},
   "source": [
    "Last frame"
   ]
  },
  {
   "cell_type": "code",
   "execution_count": null,
   "metadata": {
    "collapsed": false,
    "scrolled": false
   },
   "outputs": [],
   "source": [
    "sa1_lf_ori, sa1_lf_cor, sa1_lf_dev = all_pixel(sa1_mrf[105], 166, 160, sa1_mrs, a1_coeff, 19)\n",
    "sa1_lf_ori, sa1_lf_cor, sa1_lf_dev"
   ]
  },
  {
   "cell_type": "markdown",
   "metadata": {},
   "source": [
    " First frame"
   ]
  },
  {
   "cell_type": "code",
   "execution_count": null,
   "metadata": {
    "collapsed": false,
    "scrolled": true
   },
   "outputs": [],
   "source": [
    "sa1_ff_ori, sa1_ff_cor, sa1_ff_dev = all_pixel(sa1_mrf[105], 166, 160, sa1_mrs, a1_coeff, 0)\n",
    "sa1_ff_ori, sa1_ff_cor, sa1_ff_dev"
   ]
  },
  {
   "cell_type": "markdown",
   "metadata": {},
   "source": [
    "Last - First"
   ]
  },
  {
   "cell_type": "code",
   "execution_count": null,
   "metadata": {
    "collapsed": false,
    "scrolled": true
   },
   "outputs": [],
   "source": [
    "sa1_df_ori, sa1_df_cor, sa1_df_dev = all_pixel(sa1_mrf[105], 166, 160, sa1_mrs, a1_coeff, 0, diff_plane = True,\n",
    "                                               last_plane = 19)\n",
    "sa1_df_ori, sa1_df_cor, sa1_df_dev"
   ]
  },
  {
   "cell_type": "markdown",
   "metadata": {},
   "source": [
    "### b4"
   ]
  },
  {
   "cell_type": "markdown",
   "metadata": {},
   "source": [
    " Last frame"
   ]
  },
  {
   "cell_type": "code",
   "execution_count": null,
   "metadata": {
    "collapsed": false,
    "scrolled": true
   },
   "outputs": [],
   "source": [
    "sb4_lf_ori, sb4_lf_cor, sb4_lf_dev = all_pixel(sb4_mrf[105], 159, 156, sb4_mrs, b4_coeff, 19)\n",
    "sb4_lf_ori, sb4_lf_cor, sb4_lf_dev"
   ]
  },
  {
   "cell_type": "markdown",
   "metadata": {},
   "source": [
    "First frame"
   ]
  },
  {
   "cell_type": "code",
   "execution_count": null,
   "metadata": {
    "collapsed": false,
    "scrolled": true
   },
   "outputs": [],
   "source": [
    "sb4_ff_ori, sb4_ff_cor, sb4_ff_dev = all_pixel(sb4_mrf[105], 159, 156, sb4_mrs, b4_coeff, 0)\n",
    "sb4_ff_ori, sb4_ff_cor, sb4_ff_dev"
   ]
  },
  {
   "cell_type": "markdown",
   "metadata": {},
   "source": [
    "Last - First"
   ]
  },
  {
   "cell_type": "code",
   "execution_count": null,
   "metadata": {
    "collapsed": false,
    "scrolled": true
   },
   "outputs": [],
   "source": [
    "sb4_df_ori, sb4_df_cor, sb4_df_dev = all_pixel(sb4_mrf[105], 159, 156, sb4_mrs, b4_coeff, 0, diff_plane = True,\n",
    "                                               last_plane = 19)\n",
    "sb4_df_ori, sb4_df_cor, sb4_df_dev"
   ]
  },
  {
   "cell_type": "markdown",
   "metadata": {},
   "source": [
    "## Sub640"
   ]
  },
  {
   "cell_type": "markdown",
   "metadata": {},
   "source": [
    "### a1"
   ]
  },
  {
   "cell_type": "markdown",
   "metadata": {},
   "source": [
    " Last frame"
   ]
  },
  {
   "cell_type": "code",
   "execution_count": null,
   "metadata": {
    "collapsed": false,
    "scrolled": true
   },
   "outputs": [],
   "source": [
    "s6a1_lf_ori, s6a1_lf_cor, s6a1_lf_dev = all_pixel(s6a1_mrf[27], 327, 320, s6a1_mrs, a1_coeff, 5)\n",
    "s6a1_lf_ori, s6a1_lf_cor, s6a1_lf_dev"
   ]
  },
  {
   "cell_type": "markdown",
   "metadata": {},
   "source": [
    "First frame"
   ]
  },
  {
   "cell_type": "code",
   "execution_count": null,
   "metadata": {
    "collapsed": false,
    "scrolled": true
   },
   "outputs": [],
   "source": [
    "s6a1_ff_ori, s6a1_ff_cor, s6a1_ff_dev = all_pixel(s6a1_mrf[27], 327, 320, s6a1_mrs, a1_coeff, 0)\n",
    "s6a1_ff_ori, s6a1_ff_cor, s6a1_ff_dev"
   ]
  },
  {
   "cell_type": "markdown",
   "metadata": {},
   "source": [
    "Last - First"
   ]
  },
  {
   "cell_type": "code",
   "execution_count": null,
   "metadata": {
    "collapsed": false,
    "scrolled": true
   },
   "outputs": [],
   "source": [
    "s6a1_df_ori, s6a1_df_cor, s6a1_df_dev = all_pixel(s6a1_mrf[27], 327, 320, s6a1_mrs, a1_coeff, 0, diff_plane = True, \n",
    "                                                  last_plane = 5)\n",
    "s6a1_df_ori, s6a1_df_cor, s6a1_df_dev"
   ]
  },
  {
   "cell_type": "markdown",
   "metadata": {},
   "source": [
    "### b4"
   ]
  },
  {
   "cell_type": "markdown",
   "metadata": {},
   "source": [
    " Last frame"
   ]
  },
  {
   "cell_type": "code",
   "execution_count": null,
   "metadata": {
    "collapsed": false,
    "scrolled": false
   },
   "outputs": [],
   "source": [
    "s6b4_lf_ori, s6b4_lf_cor, s6b4_lf_dev = all_pixel(s6b4_mrf[27], 319, 316, s6b4_mrs, b4_coeff, 5)\n",
    "s6b4_lf_ori, s6b4_lf_cor, s6b4_lf_dev"
   ]
  },
  {
   "cell_type": "markdown",
   "metadata": {},
   "source": [
    "First frame"
   ]
  },
  {
   "cell_type": "code",
   "execution_count": null,
   "metadata": {
    "collapsed": false,
    "scrolled": true
   },
   "outputs": [],
   "source": [
    "s6b4_ff_ori, s6b4_ff_cor, s6b4_ff_dev = all_pixel(s6b4_mrf[27], 319, 316, s6b4_mrs, b4_coeff, 0)\n",
    "s6b4_ff_ori, s6b4_ff_cor, s6b4_ff_dev"
   ]
  },
  {
   "cell_type": "markdown",
   "metadata": {},
   "source": [
    "Last - First"
   ]
  },
  {
   "cell_type": "code",
   "execution_count": null,
   "metadata": {
    "collapsed": false,
    "scrolled": false
   },
   "outputs": [],
   "source": [
    "s6b4_df_ori, s6b4_df_cor, s6b4_df_dev = all_pixel(s6b4_mrf[27], 319, 316, s6b4_mrs, b4_coeff, 0, diff_plane = True, \n",
    "                                                  last_plane = 5)\n",
    "s6b4_df_ori, s6b4_df_cor, s6b4_df_dev"
   ]
  },
  {
   "cell_type": "markdown",
   "metadata": {},
   "source": [
    "## Full1"
   ]
  },
  {
   "cell_type": "markdown",
   "metadata": {},
   "source": [
    "### a1"
   ]
  },
  {
   "cell_type": "markdown",
   "metadata": {},
   "source": [
    " Last frame"
   ]
  },
  {
   "cell_type": "code",
   "execution_count": null,
   "metadata": {
    "collapsed": false,
    "scrolled": false
   },
   "outputs": [],
   "source": [
    "fa1_lf_ori, fa1_lf_cor, fa1_lf_dev = all_pixel(fa1_mrf[27], 1405, 1037, fa1_mrs, a1_coeff, 1)\n",
    "fa1_lf_ori, fa1_lf_cor, fa1_lf_dev"
   ]
  },
  {
   "cell_type": "markdown",
   "metadata": {},
   "source": [
    "First frame"
   ]
  },
  {
   "cell_type": "code",
   "execution_count": null,
   "metadata": {
    "collapsed": false,
    "scrolled": true
   },
   "outputs": [],
   "source": [
    "fa1_ff_ori, fa1_ff_cor, fa1_ff_dev = all_pixel(fa1_mrf[27], 1405, 1037, fa1_mrs, a1_coeff, 0)\n",
    "fa1_ff_ori, fa1_ff_cor, fa1_ff_dev"
   ]
  },
  {
   "cell_type": "markdown",
   "metadata": {},
   "source": [
    "Last - First"
   ]
  },
  {
   "cell_type": "code",
   "execution_count": null,
   "metadata": {
    "collapsed": false,
    "scrolled": true
   },
   "outputs": [],
   "source": [
    "fa1_df_ori, fa1_df_cor, fa1_df_dev = all_pixel(fa1_mrf[27], 1405, 1037, fa1_mrs, a1_coeff, 0, diff_plane = True, \n",
    "                                               last_plane = 1)\n",
    "fa1_df_ori, fa1_df_cor, fa1_df_dev"
   ]
  },
  {
   "cell_type": "markdown",
   "metadata": {},
   "source": [
    "### b4"
   ]
  },
  {
   "cell_type": "markdown",
   "metadata": {},
   "source": [
    " Last frame"
   ]
  },
  {
   "cell_type": "code",
   "execution_count": null,
   "metadata": {
    "collapsed": false,
    "scrolled": true
   },
   "outputs": [],
   "source": [
    "fb4_lf_ori, fb4_lf_cor, fb4_lf_dev = all_pixel(fb4_mrf[27], 828, 821, fb4_mrs, b4_coeff, 1)\n",
    "fb4_lf_ori, fb4_lf_cor, fb4_lf_dev"
   ]
  },
  {
   "cell_type": "markdown",
   "metadata": {},
   "source": [
    "First frame"
   ]
  },
  {
   "cell_type": "code",
   "execution_count": null,
   "metadata": {
    "collapsed": false,
    "scrolled": true
   },
   "outputs": [],
   "source": [
    "fb4_ff_ori, fb4_ff_cor, fb4_ff_dev = all_pixel(fb4_mrf[27], 828, 821, fb4_mrs, b4_coeff, 0)\n",
    "fb4_ff_ori, fb4_ff_cor, fb4_ff_dev"
   ]
  },
  {
   "cell_type": "markdown",
   "metadata": {},
   "source": [
    "Last - First"
   ]
  },
  {
   "cell_type": "code",
   "execution_count": null,
   "metadata": {
    "collapsed": false,
    "scrolled": true
   },
   "outputs": [],
   "source": [
    "fb4_df_ori, fb4_df_cor, fb4_df_dev = all_pixel(fb4_mrf[27], 828, 821, fb4_mrs, b4_coeff, 0, diff_plane = True, \n",
    "                                               last_plane = 1)\n",
    "fb4_df_ori, fb4_df_cor, fb4_df_dev"
   ]
  },
  {
   "cell_type": "markdown",
   "metadata": {},
   "source": [
    "## Results"
   ]
  },
  {
   "cell_type": "code",
   "execution_count": null,
   "metadata": {
    "collapsed": false
   },
   "outputs": [],
   "source": [
    "test = ['Sub a1 (lf)', 'Sub a1 (ff)', 'Sub a1 (df)', 'Sub b4 (lf)', 'Sub b4 (ff)', 'Sub b4 (df)', 'Sub640 a1 (lf)',\n",
    "        'Sub640 a1 (ff)', 'Sub640 a1 (df)', 'Sub640 b4 (lf)',  'Sub640 b4 (ff)', 'Sub640 b4 (df)', 'Full1 a1 (lf)',\n",
    "        'Full1 a1 (ff)', 'Full1 a1 (df)', 'Full1 b4 (lf)', 'Full1 b4 (ff)', 'Full1 b4 (df)']\n",
    "\n",
    "test_sh = ['sa1_lf', 'sa1_ff', 'sa1_df', 'sb4_lf', 'sb4_ff', 'sb4_df', 's6a1_lf', 's6a1_ff', 's6a1_df', 's6b4_lf',\n",
    "             's6b4_ff', 's6b4_df', 'fa1_lf', 'fa1_ff', 'fa1_df', 'fb4_lf', 'fb4_ff', 'fb4_df']\n",
    "\n",
    "result = Table(names= ('Test Name', 'Calculated MMM', 'Corrected MMM', 'Deviation (%)'), \n",
    "               dtype = ('S16', 'f8', 'f8', 'f8'))\n",
    "\n",
    "for i, t in enumerate(test_sh):\n",
    "    tname = test[i]\n",
    "    ori = globals()['%s_ori' % t]\n",
    "    cor = globals()['%s_cor' % t]\n",
    "    dev = globals()['%s_dev' % t]*(-1)\n",
    "    result.add_row([tname, ori, cor, dev])\n",
    "result"
   ]
  }
 ],
 "metadata": {
  "kernelspec": {
   "display_name": "Python 2",
   "language": "python",
   "name": "python2"
  },
  "language_info": {
   "codemirror_mode": {
    "name": "ipython",
    "version": 2
   },
   "file_extension": ".py",
   "mimetype": "text/x-python",
   "name": "python",
   "nbconvert_exporter": "python",
   "pygments_lexer": "ipython2",
   "version": "2.7.13"
  }
 },
 "nbformat": 4,
 "nbformat_minor": 0
}
